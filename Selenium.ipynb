{
 "cells": [
  {
   "cell_type": "code",
   "execution_count": 1,
   "id": "integrated-progress",
   "metadata": {},
   "outputs": [],
   "source": [
    "import selenium\n",
    "from selenium import webdriver\n",
    "import pandas as pd\n",
    "import time\n",
    "from selenium.webdriver.common.keys import Keys"
   ]
  },
  {
   "cell_type": "code",
   "execution_count": 2,
   "id": "matched-library",
   "metadata": {},
   "outputs": [],
   "source": [
    "# Importing the webdriver\n",
    "driver = webdriver.Chrome('E:\\FlipRobo - Internship\\FlipRobo - Classes\\Selenium\\chromedriver.exe')\n",
    "# driver = webdriver.Chrome('chromedriver')    # You know what this is for. "
   ]
  },
  {
   "cell_type": "markdown",
   "id": "swedish-belfast",
   "metadata": {},
   "source": [
    "# Q1"
   ]
  },
  {
   "cell_type": "code",
   "execution_count": 3,
   "id": "small-hostel",
   "metadata": {},
   "outputs": [],
   "source": [
    "# Opening the webpage\n",
    "url = 'https://www.naukri.com/'\n",
    "driver.get(url)\n",
    "time.sleep(3)"
   ]
  },
  {
   "cell_type": "code",
   "execution_count": 4,
   "id": "cleared-institution",
   "metadata": {},
   "outputs": [],
   "source": [
    "# Elements for searchbar\n",
    "search_bar = driver.find_element_by_id('qsb-keyword-sugg')\n",
    "search_bar\n",
    "time.sleep(1)"
   ]
  },
  {
   "cell_type": "code",
   "execution_count": 5,
   "id": "extraordinary-rogers",
   "metadata": {},
   "outputs": [],
   "source": [
    "search_bar.send_keys('Data Analyst')"
   ]
  },
  {
   "cell_type": "code",
   "execution_count": 6,
   "id": "prepared-empire",
   "metadata": {},
   "outputs": [],
   "source": [
    "# Elements for Location bar\n",
    "location_bar = driver.find_element_by_id('qsb-location-sugg')\n",
    "location_bar\n",
    "time.sleep(1)"
   ]
  },
  {
   "cell_type": "code",
   "execution_count": 7,
   "id": "fifty-entertainment",
   "metadata": {},
   "outputs": [],
   "source": [
    "location_bar.send_keys('Bangalore')"
   ]
  },
  {
   "cell_type": "code",
   "execution_count": 8,
   "id": "pleasant-hawaii",
   "metadata": {},
   "outputs": [
    {
     "data": {
      "text/plain": [
       "<selenium.webdriver.remote.webelement.WebElement (session=\"f3e0a8800572b5816e4881fff9dc8726\", element=\"1120efd2-51a6-4578-9676-b91fb502a36f\")>"
      ]
     },
     "execution_count": 8,
     "metadata": {},
     "output_type": "execute_result"
    }
   ],
   "source": [
    "# Element for the search button\n",
    "search_button = driver.find_element_by_xpath(\"//button[@class = 'btn']\")\n",
    "search_button"
   ]
  },
  {
   "cell_type": "code",
   "execution_count": 9,
   "id": "incomplete-raleigh",
   "metadata": {},
   "outputs": [],
   "source": [
    "search_button.click()"
   ]
  },
  {
   "cell_type": "code",
   "execution_count": 10,
   "id": "above-sector",
   "metadata": {},
   "outputs": [
    {
     "data": {
      "text/plain": [
       "[<selenium.webdriver.remote.webelement.WebElement (session=\"f3e0a8800572b5816e4881fff9dc8726\", element=\"c9bcbfa9-13ae-48b8-b8c0-f26b1cbc4df4\")>,\n",
       " <selenium.webdriver.remote.webelement.WebElement (session=\"f3e0a8800572b5816e4881fff9dc8726\", element=\"1916230a-9a95-4920-ba61-75a01b2d3e05\")>,\n",
       " <selenium.webdriver.remote.webelement.WebElement (session=\"f3e0a8800572b5816e4881fff9dc8726\", element=\"d6dfdf92-47b5-4e8e-8652-c9a29459f5ef\")>,\n",
       " <selenium.webdriver.remote.webelement.WebElement (session=\"f3e0a8800572b5816e4881fff9dc8726\", element=\"3f606c3c-f654-4373-87d5-0131d1b067ae\")>,\n",
       " <selenium.webdriver.remote.webelement.WebElement (session=\"f3e0a8800572b5816e4881fff9dc8726\", element=\"db1892de-d7ef-4f9a-a4bc-e9965ba25af0\")>,\n",
       " <selenium.webdriver.remote.webelement.WebElement (session=\"f3e0a8800572b5816e4881fff9dc8726\", element=\"edfeabd9-fb96-4b7e-8e40-aeaa30269ee5\")>,\n",
       " <selenium.webdriver.remote.webelement.WebElement (session=\"f3e0a8800572b5816e4881fff9dc8726\", element=\"942c3275-5072-42e9-8f74-3618e7385f3e\")>,\n",
       " <selenium.webdriver.remote.webelement.WebElement (session=\"f3e0a8800572b5816e4881fff9dc8726\", element=\"87dacf14-3c62-4284-8ad4-fc03ab6c87f8\")>,\n",
       " <selenium.webdriver.remote.webelement.WebElement (session=\"f3e0a8800572b5816e4881fff9dc8726\", element=\"b0f28825-d271-49d3-ad0a-4d07be6c28bf\")>,\n",
       " <selenium.webdriver.remote.webelement.WebElement (session=\"f3e0a8800572b5816e4881fff9dc8726\", element=\"322492c4-e7e8-4622-ad2e-9e54eb3336c0\")>,\n",
       " <selenium.webdriver.remote.webelement.WebElement (session=\"f3e0a8800572b5816e4881fff9dc8726\", element=\"136090b0-4c10-4ab2-90c7-aedba57d5d08\")>,\n",
       " <selenium.webdriver.remote.webelement.WebElement (session=\"f3e0a8800572b5816e4881fff9dc8726\", element=\"ba85ced1-dcad-43bd-82c8-a1c16d0a839e\")>,\n",
       " <selenium.webdriver.remote.webelement.WebElement (session=\"f3e0a8800572b5816e4881fff9dc8726\", element=\"c7cb9948-e8a7-43f7-aeec-6b6203607b28\")>,\n",
       " <selenium.webdriver.remote.webelement.WebElement (session=\"f3e0a8800572b5816e4881fff9dc8726\", element=\"f7212497-3f43-4955-8848-57c1d2d3f700\")>,\n",
       " <selenium.webdriver.remote.webelement.WebElement (session=\"f3e0a8800572b5816e4881fff9dc8726\", element=\"180013f6-8c7d-41cb-86f8-007e0524a0d2\")>,\n",
       " <selenium.webdriver.remote.webelement.WebElement (session=\"f3e0a8800572b5816e4881fff9dc8726\", element=\"3e69a940-45bc-486e-b563-a4db446c145a\")>,\n",
       " <selenium.webdriver.remote.webelement.WebElement (session=\"f3e0a8800572b5816e4881fff9dc8726\", element=\"5ff6268d-019e-4f2a-a101-e772864d5e66\")>,\n",
       " <selenium.webdriver.remote.webelement.WebElement (session=\"f3e0a8800572b5816e4881fff9dc8726\", element=\"a2fdb7a0-07f8-4e8f-9221-3d1e21729b22\")>,\n",
       " <selenium.webdriver.remote.webelement.WebElement (session=\"f3e0a8800572b5816e4881fff9dc8726\", element=\"3d664891-a266-4edc-89a5-b03b9882a75a\")>,\n",
       " <selenium.webdriver.remote.webelement.WebElement (session=\"f3e0a8800572b5816e4881fff9dc8726\", element=\"24dab684-a1f5-4749-ac03-ce548ca66ec4\")>]"
      ]
     },
     "execution_count": 10,
     "metadata": {},
     "output_type": "execute_result"
    }
   ],
   "source": [
    "# Scrapping data for first 10 job results. \n",
    "time.sleep(5)\n",
    "job_results = driver.find_elements_by_xpath(\"//a[@class = 'title fw500 ellipsis']\")\n",
    "job_results"
   ]
  },
  {
   "cell_type": "code",
   "execution_count": 11,
   "id": "opposed-relay",
   "metadata": {},
   "outputs": [
    {
     "data": {
      "text/plain": [
       "['Data Analyst - Quant & Data Mining',\n",
       " 'Data Analyst',\n",
       " 'Data Analyst - Graphy',\n",
       " 'Data Analyst',\n",
       " 'ACO Data Analyst Call Rina',\n",
       " 'Concentrix Innovation Labs Hiring For Data Analyst (Immediate Joiner)',\n",
       " 'Data Analyst / Python R/ SQL @ Bangalore',\n",
       " 'Data Analyst',\n",
       " 'Data Analyst',\n",
       " 'Data Analyst']"
      ]
     },
     "execution_count": 11,
     "metadata": {},
     "output_type": "execute_result"
    }
   ],
   "source": [
    "job_list = []\n",
    "for i in job_results:\n",
    "    job_list.append(i.text)\n",
    "jobs = job_list [:10]\n",
    "jobs"
   ]
  },
  {
   "cell_type": "code",
   "execution_count": 12,
   "id": "psychological-exclusive",
   "metadata": {},
   "outputs": [],
   "source": [
    "Jobs = pd.DataFrame()\n",
    "Jobs['Jobs'] = jobs"
   ]
  },
  {
   "cell_type": "code",
   "execution_count": 13,
   "id": "thermal-strength",
   "metadata": {},
   "outputs": [
    {
     "data": {
      "text/html": [
       "<div>\n",
       "<style scoped>\n",
       "    .dataframe tbody tr th:only-of-type {\n",
       "        vertical-align: middle;\n",
       "    }\n",
       "\n",
       "    .dataframe tbody tr th {\n",
       "        vertical-align: top;\n",
       "    }\n",
       "\n",
       "    .dataframe thead th {\n",
       "        text-align: right;\n",
       "    }\n",
       "</style>\n",
       "<table border=\"1\" class=\"dataframe\">\n",
       "  <thead>\n",
       "    <tr style=\"text-align: right;\">\n",
       "      <th></th>\n",
       "      <th>Jobs</th>\n",
       "    </tr>\n",
       "  </thead>\n",
       "  <tbody>\n",
       "    <tr>\n",
       "      <th>0</th>\n",
       "      <td>Data Analyst - Quant &amp; Data Mining</td>\n",
       "    </tr>\n",
       "    <tr>\n",
       "      <th>1</th>\n",
       "      <td>Data Analyst</td>\n",
       "    </tr>\n",
       "    <tr>\n",
       "      <th>2</th>\n",
       "      <td>Data Analyst - Graphy</td>\n",
       "    </tr>\n",
       "    <tr>\n",
       "      <th>3</th>\n",
       "      <td>Data Analyst</td>\n",
       "    </tr>\n",
       "    <tr>\n",
       "      <th>4</th>\n",
       "      <td>ACO Data Analyst Call Rina</td>\n",
       "    </tr>\n",
       "    <tr>\n",
       "      <th>5</th>\n",
       "      <td>Concentrix Innovation Labs Hiring For Data Ana...</td>\n",
       "    </tr>\n",
       "    <tr>\n",
       "      <th>6</th>\n",
       "      <td>Data Analyst / Python R/ SQL @ Bangalore</td>\n",
       "    </tr>\n",
       "    <tr>\n",
       "      <th>7</th>\n",
       "      <td>Data Analyst</td>\n",
       "    </tr>\n",
       "    <tr>\n",
       "      <th>8</th>\n",
       "      <td>Data Analyst</td>\n",
       "    </tr>\n",
       "    <tr>\n",
       "      <th>9</th>\n",
       "      <td>Data Analyst</td>\n",
       "    </tr>\n",
       "  </tbody>\n",
       "</table>\n",
       "</div>"
      ],
      "text/plain": [
       "                                                Jobs\n",
       "0                 Data Analyst - Quant & Data Mining\n",
       "1                                       Data Analyst\n",
       "2                              Data Analyst - Graphy\n",
       "3                                       Data Analyst\n",
       "4                         ACO Data Analyst Call Rina\n",
       "5  Concentrix Innovation Labs Hiring For Data Ana...\n",
       "6           Data Analyst / Python R/ SQL @ Bangalore\n",
       "7                                       Data Analyst\n",
       "8                                       Data Analyst\n",
       "9                                       Data Analyst"
      ]
     },
     "execution_count": 13,
     "metadata": {},
     "output_type": "execute_result"
    }
   ],
   "source": [
    "Jobs"
   ]
  },
  {
   "cell_type": "markdown",
   "id": "horizontal-anger",
   "metadata": {},
   "source": [
    "# Q2"
   ]
  },
  {
   "cell_type": "code",
   "execution_count": 14,
   "id": "middle-texas",
   "metadata": {},
   "outputs": [],
   "source": [
    "# Opening the webpage\n",
    "url1 = 'https://www.naukri.com/'"
   ]
  },
  {
   "cell_type": "code",
   "execution_count": 15,
   "id": "fifth-connection",
   "metadata": {},
   "outputs": [],
   "source": [
    "driver.get(url1)\n",
    "time.sleep(3)"
   ]
  },
  {
   "cell_type": "code",
   "execution_count": 16,
   "id": "strong-conditioning",
   "metadata": {},
   "outputs": [],
   "source": [
    "# Elements for searchbar\n",
    "search_bar = driver.find_element_by_id('qsb-keyword-sugg')\n",
    "search_bar\n",
    "time.sleep(1)"
   ]
  },
  {
   "cell_type": "code",
   "execution_count": 17,
   "id": "victorian-payroll",
   "metadata": {},
   "outputs": [],
   "source": [
    "search_bar.send_keys('Data Analyst')"
   ]
  },
  {
   "cell_type": "code",
   "execution_count": 18,
   "id": "political-strip",
   "metadata": {},
   "outputs": [
    {
     "data": {
      "text/plain": [
       "<selenium.webdriver.remote.webelement.WebElement (session=\"f3e0a8800572b5816e4881fff9dc8726\", element=\"f76d9651-c5fc-4c59-9e6d-540c5c7ee974\")>"
      ]
     },
     "execution_count": 18,
     "metadata": {},
     "output_type": "execute_result"
    }
   ],
   "source": [
    "# Element for the search button\n",
    "search_button = driver.find_element_by_xpath(\"//button[@class = 'btn']\")\n",
    "search_button"
   ]
  },
  {
   "cell_type": "code",
   "execution_count": 19,
   "id": "crude-design",
   "metadata": {},
   "outputs": [],
   "source": [
    "# Elements for Location bar\n",
    "location_bar = driver.find_element_by_id('qsb-location-sugg')\n",
    "location_bar\n",
    "time.sleep(1)"
   ]
  },
  {
   "cell_type": "code",
   "execution_count": 20,
   "id": "material-sellers",
   "metadata": {},
   "outputs": [],
   "source": [
    "location_bar.send_keys('Bangalore')"
   ]
  },
  {
   "cell_type": "code",
   "execution_count": 21,
   "id": "dried-lesbian",
   "metadata": {},
   "outputs": [
    {
     "data": {
      "text/plain": [
       "<selenium.webdriver.remote.webelement.WebElement (session=\"f3e0a8800572b5816e4881fff9dc8726\", element=\"f76d9651-c5fc-4c59-9e6d-540c5c7ee974\")>"
      ]
     },
     "execution_count": 21,
     "metadata": {},
     "output_type": "execute_result"
    }
   ],
   "source": [
    "# Element for the search button\n",
    "search_button = driver.find_element_by_xpath(\"//button[@class = 'btn']\")\n",
    "search_button"
   ]
  },
  {
   "cell_type": "code",
   "execution_count": 22,
   "id": "normal-partition",
   "metadata": {},
   "outputs": [],
   "source": [
    "search_button.click()"
   ]
  },
  {
   "cell_type": "code",
   "execution_count": 23,
   "id": "greenhouse-monster",
   "metadata": {
    "scrolled": false
   },
   "outputs": [
    {
     "data": {
      "text/plain": [
       "[<selenium.webdriver.remote.webelement.WebElement (session=\"f3e0a8800572b5816e4881fff9dc8726\", element=\"4fbea3b5-0eb0-439b-9dd8-ca5dc963a269\")>,\n",
       " <selenium.webdriver.remote.webelement.WebElement (session=\"f3e0a8800572b5816e4881fff9dc8726\", element=\"1c1106eb-0496-4316-9819-3a768e829287\")>,\n",
       " <selenium.webdriver.remote.webelement.WebElement (session=\"f3e0a8800572b5816e4881fff9dc8726\", element=\"f0b55f30-9bc5-438d-b4e9-7fed45df4c29\")>,\n",
       " <selenium.webdriver.remote.webelement.WebElement (session=\"f3e0a8800572b5816e4881fff9dc8726\", element=\"8809e858-d144-40be-9c2d-8cd91c45f809\")>,\n",
       " <selenium.webdriver.remote.webelement.WebElement (session=\"f3e0a8800572b5816e4881fff9dc8726\", element=\"c5e056df-d88e-4a4d-bbfb-4d111c61b7a3\")>,\n",
       " <selenium.webdriver.remote.webelement.WebElement (session=\"f3e0a8800572b5816e4881fff9dc8726\", element=\"b952a4e3-47ac-432a-9b23-7fe887c3e1a5\")>,\n",
       " <selenium.webdriver.remote.webelement.WebElement (session=\"f3e0a8800572b5816e4881fff9dc8726\", element=\"edae212c-239b-4757-8318-be46deeabe86\")>,\n",
       " <selenium.webdriver.remote.webelement.WebElement (session=\"f3e0a8800572b5816e4881fff9dc8726\", element=\"bb6b66ab-57cc-41fb-8f54-2f512d9c239c\")>,\n",
       " <selenium.webdriver.remote.webelement.WebElement (session=\"f3e0a8800572b5816e4881fff9dc8726\", element=\"e17af392-00d4-401c-a97f-830753bb89eb\")>,\n",
       " <selenium.webdriver.remote.webelement.WebElement (session=\"f3e0a8800572b5816e4881fff9dc8726\", element=\"c93203a8-c4c3-4d7b-8634-da251e79fc3a\")>,\n",
       " <selenium.webdriver.remote.webelement.WebElement (session=\"f3e0a8800572b5816e4881fff9dc8726\", element=\"15888c4b-3550-4513-8d99-d339e3fc6b4b\")>,\n",
       " <selenium.webdriver.remote.webelement.WebElement (session=\"f3e0a8800572b5816e4881fff9dc8726\", element=\"bcd9936d-79f9-4ed8-bd8e-9381c5ae7d38\")>,\n",
       " <selenium.webdriver.remote.webelement.WebElement (session=\"f3e0a8800572b5816e4881fff9dc8726\", element=\"beaff038-ff51-4798-9c1f-f4c44074fb95\")>,\n",
       " <selenium.webdriver.remote.webelement.WebElement (session=\"f3e0a8800572b5816e4881fff9dc8726\", element=\"ed666d01-e895-4d9e-8475-cc0f58aff9f1\")>,\n",
       " <selenium.webdriver.remote.webelement.WebElement (session=\"f3e0a8800572b5816e4881fff9dc8726\", element=\"d7a2e251-64a4-46da-86fb-b5c42d9e2ad7\")>,\n",
       " <selenium.webdriver.remote.webelement.WebElement (session=\"f3e0a8800572b5816e4881fff9dc8726\", element=\"ced34d58-287a-4b5d-b27f-45f09ebfec8e\")>,\n",
       " <selenium.webdriver.remote.webelement.WebElement (session=\"f3e0a8800572b5816e4881fff9dc8726\", element=\"cb21e9b9-475e-4de5-9a10-334866d6e74a\")>,\n",
       " <selenium.webdriver.remote.webelement.WebElement (session=\"f3e0a8800572b5816e4881fff9dc8726\", element=\"90cfd36a-7a52-4451-bc9a-75ec68a21c5e\")>,\n",
       " <selenium.webdriver.remote.webelement.WebElement (session=\"f3e0a8800572b5816e4881fff9dc8726\", element=\"78cb6c1d-b106-4d93-937b-536c667cd1a8\")>,\n",
       " <selenium.webdriver.remote.webelement.WebElement (session=\"f3e0a8800572b5816e4881fff9dc8726\", element=\"a6d9e2f8-3344-4a7c-a2ac-be28e2ec9ec8\")>]"
      ]
     },
     "execution_count": 23,
     "metadata": {},
     "output_type": "execute_result"
    }
   ],
   "source": [
    "# Scrapping data for first 10 job results. \n",
    "time.sleep(5)\n",
    "job_titles = driver.find_elements_by_xpath(\"//a[@class = 'title fw500 ellipsis']\")\n",
    "job_titles"
   ]
  },
  {
   "cell_type": "code",
   "execution_count": 24,
   "id": "comprehensive-roulette",
   "metadata": {},
   "outputs": [
    {
     "data": {
      "text/plain": [
       "['Data Analyst - Quant & Data Mining',\n",
       " 'Data Analyst',\n",
       " 'Data Analyst - Graphy',\n",
       " 'Data Analyst',\n",
       " 'ACO Data Analyst Call Rina',\n",
       " 'Concentrix Innovation Labs Hiring For Data Analyst (Immediate Joiner)',\n",
       " 'Data Analyst / Python R/ SQL @ Bangalore',\n",
       " 'Data Analyst',\n",
       " 'Data Analyst',\n",
       " 'Data Analyst',\n",
       " 'Job openings For Data Analyst_Bangalore_Izmo Ltd',\n",
       " 'Job Openings For Alteryx/Power BI Data Analyst',\n",
       " 'Data Analyst',\n",
       " 'Data Analyst',\n",
       " 'Data Analyst',\n",
       " 'Data Analyst',\n",
       " 'DATA Analyst–Available Immediately(MNC Service Based Company@Bangalore',\n",
       " 'Data Analyst',\n",
       " 'Data Analyst',\n",
       " 'Hiring For Data Analyst @ Flipkart on Contract']"
      ]
     },
     "execution_count": 24,
     "metadata": {},
     "output_type": "execute_result"
    }
   ],
   "source": [
    "Job_titles_x = []\n",
    "for i in job_titles:\n",
    "    Job_titles_x.append(i.text)\n",
    "Job_titles_x"
   ]
  },
  {
   "cell_type": "code",
   "execution_count": 25,
   "id": "paperback-hughes",
   "metadata": {},
   "outputs": [],
   "source": [
    "Job_titles = Job_titles_x[:10]"
   ]
  },
  {
   "cell_type": "code",
   "execution_count": 26,
   "id": "statewide-court",
   "metadata": {},
   "outputs": [
    {
     "data": {
      "text/plain": [
       "[<selenium.webdriver.remote.webelement.WebElement (session=\"f3e0a8800572b5816e4881fff9dc8726\", element=\"4b1b99ca-f8da-42d2-a2ca-90d7c99a714f\")>,\n",
       " <selenium.webdriver.remote.webelement.WebElement (session=\"f3e0a8800572b5816e4881fff9dc8726\", element=\"3a0ee286-e346-4410-94eb-a94da77f3dd9\")>,\n",
       " <selenium.webdriver.remote.webelement.WebElement (session=\"f3e0a8800572b5816e4881fff9dc8726\", element=\"c5fac3a9-f5aa-4943-be6b-7d942069306b\")>,\n",
       " <selenium.webdriver.remote.webelement.WebElement (session=\"f3e0a8800572b5816e4881fff9dc8726\", element=\"696adeda-11c8-42c7-a83a-0030c0ce29c2\")>,\n",
       " <selenium.webdriver.remote.webelement.WebElement (session=\"f3e0a8800572b5816e4881fff9dc8726\", element=\"d5330921-4d9e-4b00-85dc-049631f0fe40\")>,\n",
       " <selenium.webdriver.remote.webelement.WebElement (session=\"f3e0a8800572b5816e4881fff9dc8726\", element=\"a7a55812-bfa2-48e3-8d3c-b342049f5ced\")>,\n",
       " <selenium.webdriver.remote.webelement.WebElement (session=\"f3e0a8800572b5816e4881fff9dc8726\", element=\"4a71381b-92f9-4a0b-aedd-31cda0c14855\")>,\n",
       " <selenium.webdriver.remote.webelement.WebElement (session=\"f3e0a8800572b5816e4881fff9dc8726\", element=\"a5a11a25-111c-4c2f-9efa-12d188f0570e\")>,\n",
       " <selenium.webdriver.remote.webelement.WebElement (session=\"f3e0a8800572b5816e4881fff9dc8726\", element=\"117acff2-0f87-4fe6-9f95-7e33daa554b5\")>,\n",
       " <selenium.webdriver.remote.webelement.WebElement (session=\"f3e0a8800572b5816e4881fff9dc8726\", element=\"288af4d3-9d71-49b8-a769-bd0fe7203b94\")>,\n",
       " <selenium.webdriver.remote.webelement.WebElement (session=\"f3e0a8800572b5816e4881fff9dc8726\", element=\"a6e859c0-94a8-4a56-b7c2-dda9fa56ac95\")>,\n",
       " <selenium.webdriver.remote.webelement.WebElement (session=\"f3e0a8800572b5816e4881fff9dc8726\", element=\"08808303-2447-41d9-b33c-068fcd3025e8\")>,\n",
       " <selenium.webdriver.remote.webelement.WebElement (session=\"f3e0a8800572b5816e4881fff9dc8726\", element=\"ea79256c-fd6f-49b3-9a8c-1c87ee72eb64\")>,\n",
       " <selenium.webdriver.remote.webelement.WebElement (session=\"f3e0a8800572b5816e4881fff9dc8726\", element=\"335190b2-9f31-43e1-9957-6de593075ff4\")>,\n",
       " <selenium.webdriver.remote.webelement.WebElement (session=\"f3e0a8800572b5816e4881fff9dc8726\", element=\"3b8be658-247c-4eb5-8819-b0c1d077037a\")>,\n",
       " <selenium.webdriver.remote.webelement.WebElement (session=\"f3e0a8800572b5816e4881fff9dc8726\", element=\"c618148c-94cf-4841-b502-3ee418878b05\")>,\n",
       " <selenium.webdriver.remote.webelement.WebElement (session=\"f3e0a8800572b5816e4881fff9dc8726\", element=\"f7867404-c7be-42b1-ad03-58b5cb860801\")>,\n",
       " <selenium.webdriver.remote.webelement.WebElement (session=\"f3e0a8800572b5816e4881fff9dc8726\", element=\"448f914d-0013-4c3d-ab7b-3c7af426088c\")>,\n",
       " <selenium.webdriver.remote.webelement.WebElement (session=\"f3e0a8800572b5816e4881fff9dc8726\", element=\"2a323a06-459e-4245-9c6c-3be86e4d7100\")>,\n",
       " <selenium.webdriver.remote.webelement.WebElement (session=\"f3e0a8800572b5816e4881fff9dc8726\", element=\"ebd249c7-0493-4b2f-b081-b3332e0e33c4\")>]"
      ]
     },
     "execution_count": 26,
     "metadata": {},
     "output_type": "execute_result"
    }
   ],
   "source": [
    "# Finding the Job locations\n",
    "job_location = driver.find_elements_by_xpath(\"//li[@class = 'fleft grey-text br2 placeHolderLi location']//span\")\n",
    "job_location"
   ]
  },
  {
   "cell_type": "code",
   "execution_count": 27,
   "id": "future-combination",
   "metadata": {},
   "outputs": [
    {
     "data": {
      "text/plain": [
       "['Bangalore/Bengaluru',\n",
       " 'Bangalore/Bengaluru',\n",
       " 'Bangalore/Bengaluru',\n",
       " 'Bangalore/Bengaluru',\n",
       " 'Bangalore/Bengaluru',\n",
       " 'Bangalore/Bengaluru, Delhi / NCR',\n",
       " 'Bangalore/Bengaluru',\n",
       " 'Bangalore/Bengaluru',\n",
       " 'Bangalore/Bengaluru',\n",
       " 'Bangalore/Bengaluru',\n",
       " 'Bangalore/Bengaluru(4th Phase JP Nagar)',\n",
       " 'Bangalore/Bengaluru',\n",
       " 'Bangalore/Bengaluru',\n",
       " 'Bangalore/Bengaluru',\n",
       " 'Bangalore/Bengaluru',\n",
       " 'Bangalore/Bengaluru',\n",
       " 'Bangalore/Bengaluru',\n",
       " 'Bangalore/Bengaluru',\n",
       " 'Bangalore/Bengaluru',\n",
       " 'Bangalore/Bengaluru']"
      ]
     },
     "execution_count": 27,
     "metadata": {},
     "output_type": "execute_result"
    }
   ],
   "source": [
    "Job_location_x = []\n",
    "for i in job_location:\n",
    "    Job_location_x.append(i.text)\n",
    "Job_location_x"
   ]
  },
  {
   "cell_type": "code",
   "execution_count": 28,
   "id": "typical-compression",
   "metadata": {},
   "outputs": [],
   "source": [
    "Job_location = Job_location_x[:10]"
   ]
  },
  {
   "cell_type": "code",
   "execution_count": 29,
   "id": "sustained-teddy",
   "metadata": {},
   "outputs": [
    {
     "data": {
      "text/plain": [
       "[<selenium.webdriver.remote.webelement.WebElement (session=\"f3e0a8800572b5816e4881fff9dc8726\", element=\"1bcb129f-02a3-4a60-82b6-81fd8ed30e63\")>,\n",
       " <selenium.webdriver.remote.webelement.WebElement (session=\"f3e0a8800572b5816e4881fff9dc8726\", element=\"7b008838-4561-4f38-912a-45254b3ca453\")>,\n",
       " <selenium.webdriver.remote.webelement.WebElement (session=\"f3e0a8800572b5816e4881fff9dc8726\", element=\"81ba8bf5-4c6c-4e26-9fd9-9936ceb98212\")>,\n",
       " <selenium.webdriver.remote.webelement.WebElement (session=\"f3e0a8800572b5816e4881fff9dc8726\", element=\"c3c2aca9-0ee8-41ed-b5d6-f75d3cf64e52\")>,\n",
       " <selenium.webdriver.remote.webelement.WebElement (session=\"f3e0a8800572b5816e4881fff9dc8726\", element=\"ed1de029-1b23-4e83-835f-755ce7d05d34\")>,\n",
       " <selenium.webdriver.remote.webelement.WebElement (session=\"f3e0a8800572b5816e4881fff9dc8726\", element=\"72408491-3e04-4005-8b39-b4d3a21ad85c\")>,\n",
       " <selenium.webdriver.remote.webelement.WebElement (session=\"f3e0a8800572b5816e4881fff9dc8726\", element=\"18182369-94e8-4650-8fab-e9e7d4520575\")>,\n",
       " <selenium.webdriver.remote.webelement.WebElement (session=\"f3e0a8800572b5816e4881fff9dc8726\", element=\"3c7b46d1-f65a-4a61-8417-8650bea9bf17\")>,\n",
       " <selenium.webdriver.remote.webelement.WebElement (session=\"f3e0a8800572b5816e4881fff9dc8726\", element=\"ed930bcd-bdb6-448f-853e-74c18f66248f\")>,\n",
       " <selenium.webdriver.remote.webelement.WebElement (session=\"f3e0a8800572b5816e4881fff9dc8726\", element=\"6ec8c8fb-7e17-4956-b9a3-7854aa837d87\")>,\n",
       " <selenium.webdriver.remote.webelement.WebElement (session=\"f3e0a8800572b5816e4881fff9dc8726\", element=\"bb9f13f0-e046-4db8-a8f2-f53184ba1e98\")>,\n",
       " <selenium.webdriver.remote.webelement.WebElement (session=\"f3e0a8800572b5816e4881fff9dc8726\", element=\"bb7be3f1-15a9-4949-ac96-53ec4f14769f\")>,\n",
       " <selenium.webdriver.remote.webelement.WebElement (session=\"f3e0a8800572b5816e4881fff9dc8726\", element=\"fb270d69-5e7c-4712-b3b9-d5320bd1c48c\")>,\n",
       " <selenium.webdriver.remote.webelement.WebElement (session=\"f3e0a8800572b5816e4881fff9dc8726\", element=\"96132632-2630-4e73-b951-2adaa5831f61\")>,\n",
       " <selenium.webdriver.remote.webelement.WebElement (session=\"f3e0a8800572b5816e4881fff9dc8726\", element=\"64bf0990-a299-443d-ad01-db8aa57ebf44\")>,\n",
       " <selenium.webdriver.remote.webelement.WebElement (session=\"f3e0a8800572b5816e4881fff9dc8726\", element=\"09982d11-15fb-4d07-a973-9b93c4444380\")>,\n",
       " <selenium.webdriver.remote.webelement.WebElement (session=\"f3e0a8800572b5816e4881fff9dc8726\", element=\"3a2ef0ae-75e0-4320-a048-9dfc2b146f1a\")>,\n",
       " <selenium.webdriver.remote.webelement.WebElement (session=\"f3e0a8800572b5816e4881fff9dc8726\", element=\"ee4aba99-48bc-4f60-83d0-7a99c5c15d45\")>,\n",
       " <selenium.webdriver.remote.webelement.WebElement (session=\"f3e0a8800572b5816e4881fff9dc8726\", element=\"85a74fc2-18d9-4a38-9d2c-02da3f1abc8f\")>,\n",
       " <selenium.webdriver.remote.webelement.WebElement (session=\"f3e0a8800572b5816e4881fff9dc8726\", element=\"c39ad54c-45ed-4877-a66b-ecffa3805161\")>]"
      ]
     },
     "execution_count": 29,
     "metadata": {},
     "output_type": "execute_result"
    }
   ],
   "source": [
    "# Finding the company names\n",
    "company_name = driver.find_elements_by_xpath(\"//a[@class = 'subTitle ellipsis fleft']\")\n",
    "company_name"
   ]
  },
  {
   "cell_type": "code",
   "execution_count": 30,
   "id": "bound-carter",
   "metadata": {},
   "outputs": [
    {
     "data": {
      "text/plain": [
       "['Catalyst',\n",
       " 'Near Pte. Ltd.',\n",
       " 'Unacademy',\n",
       " 'Novel Office',\n",
       " 'White Horse Manpower Consultancy Private Limited',\n",
       " 'Concentrix Daksh Services India Private Limited.',\n",
       " 'PERSOLKELLY INDIA PRIVATE LIMITED',\n",
       " 'Sobha Limited',\n",
       " 'Innovsource Services Private Limited',\n",
       " 'Innovsource Services Private Limited',\n",
       " 'IZMO LTD.',\n",
       " 'Kelly Outsourcing and Consulting Group India Priv ate Limited',\n",
       " 'Flipkart Internet Private Limited',\n",
       " 'Catalyst',\n",
       " 'Yodlee Infotech Private Limited',\n",
       " 'Talent Connect',\n",
       " 'Growth Gamut Pvt Ltd',\n",
       " 'Kwalee ltd.',\n",
       " 'Draup',\n",
       " 'Flipkart Internet Private Limited']"
      ]
     },
     "execution_count": 30,
     "metadata": {},
     "output_type": "execute_result"
    }
   ],
   "source": [
    "Company_name_x = []\n",
    "for i in company_name:\n",
    "    Company_name_x.append(i.text)\n",
    "Company_name_x"
   ]
  },
  {
   "cell_type": "code",
   "execution_count": 31,
   "id": "important-technology",
   "metadata": {},
   "outputs": [],
   "source": [
    "Company_name = Company_name_x[:10]"
   ]
  },
  {
   "cell_type": "code",
   "execution_count": 32,
   "id": "amino-grave",
   "metadata": {},
   "outputs": [
    {
     "data": {
      "text/plain": [
       "[<selenium.webdriver.remote.webelement.WebElement (session=\"f3e0a8800572b5816e4881fff9dc8726\", element=\"4fbea3b5-0eb0-439b-9dd8-ca5dc963a269\")>,\n",
       " <selenium.webdriver.remote.webelement.WebElement (session=\"f3e0a8800572b5816e4881fff9dc8726\", element=\"1c1106eb-0496-4316-9819-3a768e829287\")>,\n",
       " <selenium.webdriver.remote.webelement.WebElement (session=\"f3e0a8800572b5816e4881fff9dc8726\", element=\"f0b55f30-9bc5-438d-b4e9-7fed45df4c29\")>,\n",
       " <selenium.webdriver.remote.webelement.WebElement (session=\"f3e0a8800572b5816e4881fff9dc8726\", element=\"8809e858-d144-40be-9c2d-8cd91c45f809\")>,\n",
       " <selenium.webdriver.remote.webelement.WebElement (session=\"f3e0a8800572b5816e4881fff9dc8726\", element=\"c5e056df-d88e-4a4d-bbfb-4d111c61b7a3\")>,\n",
       " <selenium.webdriver.remote.webelement.WebElement (session=\"f3e0a8800572b5816e4881fff9dc8726\", element=\"b952a4e3-47ac-432a-9b23-7fe887c3e1a5\")>,\n",
       " <selenium.webdriver.remote.webelement.WebElement (session=\"f3e0a8800572b5816e4881fff9dc8726\", element=\"edae212c-239b-4757-8318-be46deeabe86\")>,\n",
       " <selenium.webdriver.remote.webelement.WebElement (session=\"f3e0a8800572b5816e4881fff9dc8726\", element=\"bb6b66ab-57cc-41fb-8f54-2f512d9c239c\")>,\n",
       " <selenium.webdriver.remote.webelement.WebElement (session=\"f3e0a8800572b5816e4881fff9dc8726\", element=\"e17af392-00d4-401c-a97f-830753bb89eb\")>,\n",
       " <selenium.webdriver.remote.webelement.WebElement (session=\"f3e0a8800572b5816e4881fff9dc8726\", element=\"c93203a8-c4c3-4d7b-8634-da251e79fc3a\")>,\n",
       " <selenium.webdriver.remote.webelement.WebElement (session=\"f3e0a8800572b5816e4881fff9dc8726\", element=\"15888c4b-3550-4513-8d99-d339e3fc6b4b\")>,\n",
       " <selenium.webdriver.remote.webelement.WebElement (session=\"f3e0a8800572b5816e4881fff9dc8726\", element=\"bcd9936d-79f9-4ed8-bd8e-9381c5ae7d38\")>,\n",
       " <selenium.webdriver.remote.webelement.WebElement (session=\"f3e0a8800572b5816e4881fff9dc8726\", element=\"beaff038-ff51-4798-9c1f-f4c44074fb95\")>,\n",
       " <selenium.webdriver.remote.webelement.WebElement (session=\"f3e0a8800572b5816e4881fff9dc8726\", element=\"ed666d01-e895-4d9e-8475-cc0f58aff9f1\")>,\n",
       " <selenium.webdriver.remote.webelement.WebElement (session=\"f3e0a8800572b5816e4881fff9dc8726\", element=\"d7a2e251-64a4-46da-86fb-b5c42d9e2ad7\")>,\n",
       " <selenium.webdriver.remote.webelement.WebElement (session=\"f3e0a8800572b5816e4881fff9dc8726\", element=\"ced34d58-287a-4b5d-b27f-45f09ebfec8e\")>,\n",
       " <selenium.webdriver.remote.webelement.WebElement (session=\"f3e0a8800572b5816e4881fff9dc8726\", element=\"cb21e9b9-475e-4de5-9a10-334866d6e74a\")>,\n",
       " <selenium.webdriver.remote.webelement.WebElement (session=\"f3e0a8800572b5816e4881fff9dc8726\", element=\"90cfd36a-7a52-4451-bc9a-75ec68a21c5e\")>,\n",
       " <selenium.webdriver.remote.webelement.WebElement (session=\"f3e0a8800572b5816e4881fff9dc8726\", element=\"78cb6c1d-b106-4d93-937b-536c667cd1a8\")>,\n",
       " <selenium.webdriver.remote.webelement.WebElement (session=\"f3e0a8800572b5816e4881fff9dc8726\", element=\"a6d9e2f8-3344-4a7c-a2ac-be28e2ec9ec8\")>]"
      ]
     },
     "execution_count": 32,
     "metadata": {},
     "output_type": "execute_result"
    }
   ],
   "source": [
    "# Finding the job descriptions\n",
    "# To find this, we need to go inside every pages. Hence preparing the URL lists.\n",
    "job_url = driver.find_elements_by_xpath(\"//a[@class = 'title fw500 ellipsis']\")\n",
    "job_url"
   ]
  },
  {
   "cell_type": "code",
   "execution_count": 33,
   "id": "disabled-marks",
   "metadata": {},
   "outputs": [
    {
     "data": {
      "text/plain": [
       "['https://www.naukri.com/job-listings-data-analyst-quant-data-mining-catalyst-bangalore-bengaluru-2-to-6-years-250320902669?src=jobsearchDesk&sid=16217819558177133&xp=1&px=1',\n",
       " 'https://www.naukri.com/job-listings-data-analyst-near-pte-ltd-bangalore-bengaluru-2-to-5-years-170521500476?src=jobsearchDesk&sid=16217819558177133&xp=2&px=1',\n",
       " 'https://www.naukri.com/job-listings-data-analyst-graphy-unacademy-bangalore-bengaluru-1-to-4-years-120521500667?src=jobsearchDesk&sid=16217819558177133&xp=3&px=1',\n",
       " 'https://www.naukri.com/job-listings-data-analyst-novel-office-bangalore-bengaluru-0-to-3-years-160221000571?src=jobsearchDesk&sid=16217819558177133&xp=4&px=1',\n",
       " 'https://www.naukri.com/job-listings-aco-data-analyst-call-rina-white-horse-manpower-consultancy-private-limited-bangalore-bengaluru-2-to-4-years-100521005465?src=jobsearchDesk&sid=16217819558177133&xp=5&px=1',\n",
       " 'https://www.naukri.com/job-listings-concentrix-innovation-labs-hiring-for-data-analyst-immediate-joiner-concentrix-daksh-services-india-private-limited-bangalore-bengaluru-delhi-ncr-2-to-7-years-120121001100?src=jobsearchDesk&sid=16217819558177133&xp=6&px=1',\n",
       " 'https://www.naukri.com/job-listings-data-analyst-python-r-sql-bangalore-persolkelly-india-private-limited-bangalore-bengaluru-2-to-7-years-050521003763?src=jobsearchDesk&sid=16217819558177133&xp=7&px=1',\n",
       " 'https://www.naukri.com/job-listings-data-analyst-sobha-limited-bangalore-bengaluru-2-to-5-years-160221005211?src=jobsearchDesk&sid=16217819558177133&xp=8&px=1',\n",
       " 'https://www.naukri.com/job-listings-data-analyst-innovsource-services-private-limited-bangalore-bengaluru-1-to-6-years-210521004891?src=jobsearchDesk&sid=16217819558177133&xp=9&px=1',\n",
       " 'https://www.naukri.com/job-listings-data-analyst-innovsource-services-private-limited-bangalore-bengaluru-1-to-6-years-220521001189?src=jobsearchDesk&sid=16217819558177133&xp=10&px=1',\n",
       " 'https://www.naukri.com/job-listings-openings-for-data-analyst-bangalore-izmo-ltd-izmo-ltd-bangalore-bengaluru-2-to-3-years-060521003822?src=jobsearchDesk&sid=16217819558177133&xp=11&px=1',\n",
       " 'https://www.naukri.com/job-listings-openings-for-alteryx-power-bi-data-analyst-kelly-outsourcing-and-consulting-group-india-priv-ate-limited-bangalore-bengaluru-2-to-5-years-110521008102?src=jobsearchDesk&sid=16217819558177133&xp=12&px=1',\n",
       " 'https://www.naukri.com/job-listings-data-analyst-flipkart-internet-private-limited-bangalore-bengaluru-1-to-3-years-170521905920?src=jobsearchDesk&sid=16217819558177133&xp=13&px=1',\n",
       " 'https://www.naukri.com/job-listings-data-analyst-catalyst-bangalore-bengaluru-1-to-3-years-260220902116?src=jobsearchDesk&sid=16217819558177133&xp=14&px=1',\n",
       " 'https://www.naukri.com/job-listings-data-analyst-yodlee-infotech-private-limited-bangalore-bengaluru-2-to-6-years-110521004618?src=jobsearchDesk&sid=16217819558177133&xp=15&px=1',\n",
       " 'https://www.naukri.com/job-listings-data-analyst-talent-connect-bangalore-bengaluru-1-to-3-years-181120904382?src=jobsearchDesk&sid=16217819558177133&xp=16&px=1',\n",
       " 'https://www.naukri.com/job-listings-data-analyst-available-immediately-mnc-service-based-company-bangalore-growth-gamut-pvt-ltd-bangalore-bengaluru-2-to-7-years-040521003063?src=jobsearchDesk&sid=16217819558177133&xp=17&px=1',\n",
       " 'https://www.naukri.com/job-listings-data-analyst-kwalee-ltd-bangalore-bengaluru-2-to-7-years-121120002454?src=jobsearchDesk&sid=16217819558177133&xp=18&px=1',\n",
       " 'https://www.naukri.com/job-listings-data-analyst-draup-bangalore-bengaluru-1-to-3-years-050521500480?src=jobsearchDesk&sid=16217819558177133&xp=19&px=1',\n",
       " 'https://www.naukri.com/job-listings-hiring-for-data-analyst-flipkart-on-contract-flipkart-internet-private-limited-bangalore-bengaluru-2-to-6-years-170521002261?src=jobsearchDesk&sid=16217819558177133&xp=20&px=1']"
      ]
     },
     "execution_count": 33,
     "metadata": {},
     "output_type": "execute_result"
    }
   ],
   "source": [
    "Job_url_x = []\n",
    "for i in job_url:\n",
    "    Job_url_x.append(i.get_attribute('href'))\n",
    "Job_url_x"
   ]
  },
  {
   "cell_type": "code",
   "execution_count": 34,
   "id": "civic-insulation",
   "metadata": {},
   "outputs": [],
   "source": [
    "Job_url = Job_url_x[:10]"
   ]
  },
  {
   "cell_type": "code",
   "execution_count": 35,
   "id": "worst-peoples",
   "metadata": {},
   "outputs": [],
   "source": [
    "from selenium.common.exceptions import NoSuchElementException"
   ]
  },
  {
   "cell_type": "code",
   "execution_count": 36,
   "id": "homeless-cartridge",
   "metadata": {},
   "outputs": [
    {
     "data": {
      "text/plain": [
       "['Job descriptionResponsibilities :- Apply your expertise in quantitative analysis, data mining, and the presentation of data to see beyond the numbers and understand how our users interact with our core products.- Partner with Product and Engineering teams to solve problems and identify trends & opportunities.- Inform, influence, support and execute product decisions.- Buildmaintain reports, dashboards, and metrics to monitor the performance of products.- Mine massive amounts of data and extract useful product insights.- Manage development of data resources, gather requirements, organise sources & support product launches.- Data Visualisation and presentation tofor cross functional teams.RoleBusiness AnalystIndustry TypeIT Services & ConsultingFunctional AreaIT Software - DBA, DatawarehousingEmployment TypeFull Time, PermanentRole CategorySystem Design/Implementation/ERP/CRMEducationUG :BCA in Computers, B.Tech/B.E. in Any Specialization, B.Sc in Any SpecializationPG :Any Postgraduate in Any SpecializationDoctorate :Doctorate Not RequiredKey SkillsData ScienceDashboard DesignData MiningData VisualizationData AnalystData AnalyticsQuant',\n",
       " 'Job descriptionThe OpportunityNear is looking for a Data Analyst to join our team as we scale globally. You will be a key member of the Analytics Research team, delivering critical data-driven insights across the organization as well as to partners.Your responsibilities will include extracting data from various sources, interpreting and analysing it to deliver actionable insights. You will also be responsible for presenting it in an appealing manner to enable effective data-driven decision-making through reporting, analysis, and optimization.This is a great opportunity to be part of one of the fastest growing Enterprise SaaS companies in the world.Tasks includeUndertake analytics tasks and complete it within the set deadlines.Use your understanding of different data sources and employ it for the best use cases.Optimize code for maximum efficiency.Collaborate with product managers and suggest appropriate solutions for analytics deliverables.Build solutions for users and customers based on feedback.Build reusable code and libraries for future use.Synthesize quantitative and qualitative data into insights that deepen our understanding of our product performance and user behaviour.Support cross functional teams with data reports and insights on data.Stay up-to-date on emerging technologies and skills.Skills and RequirementsYou should hold a Bachelor s/Master s degree in B.Tech/M.Tech.Should have 2-5 Years of relevant BI/reporting experience in SQL/Python.Should be self-driven and passionate about all things data.Should be adept at understanding business requirements and translating them into code.Expertise in analyzing data and querying authoring.Experience in structured analysis and query optimization in SQL.Experience with Big Data Technologies and any Data Visualization tools will be a big plus.Exceptional problem solving, analytical and organizational skills with an eye for detail.RoleAssociate/Senior Associate -(NonTechnical)Industry TypeFilm / Music / EntertainmentFunctional AreaITES, BPO, KPO, LPO, Customer Service, OperationsEmployment TypeFull Time, PermanentRole CategoryVoiceEducationUG :Any Graduate in Any SpecializationPG :Post Graduation Not RequiredKey SkillsData analysisquery optimizationAnalyticalHTMLData Analystdata visualizationbig dataAnalyticsSQLPython',\n",
       " 'Job descriptionDescriptionWork closely with the business development team to help them scrap data from social media platforms like Instagram, YouTube, Linkedin, etcShould possess a Business mindset and understand upcoming trendsShould be able to identify different categories and scrap data accordinglyUnderstanding of data management using excelRequirementsUnderstanding of scripting languagesSound understanding of Data extraction and web scrapingShould have a logical understanding of Graphy businessExperience required - 1-4 yrsSkill Required - Web Scraping Python Requests,HTML parsing, Pandas will be an added advantageEducation - B.Tech (Computer Science) is preferredBenefitsTop of the Market SalaryGreat learning environmentRoleAssociate/Senior Associate -(NonTechnical)Industry TypeEducation / TrainingFunctional AreaITES, BPO, KPO, LPO, Customer Service, OperationsEmployment TypeFull Time, PermanentRole CategoryVoiceEducationUG :Any Graduate in Any SpecializationPG :Post Graduation Not RequiredKey SkillsExcelData managementSocial mediaData Analyst',\n",
       " 'Job descriptionBasic Data entry operationData uploading and scrubbingMIS activities & Basic Data entry operationSpreadsheet preparation and data managementRequired Candidate profile1-3 Years of experience.Daily/Weekly/Monthly reports knowledge.Advanced Excel Expertise (including Pivot, all functions etc.) and Analytical Skills.Good communication & comprehending skills.VBA, Macro & basic SQL knowledge will be an added advantage.RoleData AnalystIndustry TypeMiscellaneousFunctional AreaAnalytics & Business IntelligenceEmployment TypeFull Time, PermanentRole CategoryAnalytics & BIEducationUG :Any Graduate in Any SpecializationPG :Any Postgraduate in Any SpecializationKey SkillsCommunication SkillsMonthly Dash BoardsNon Voice ProcessMISData AnalysisAdvanced ExcelProcess ExcellenceFresherData ProcessingBusiness Process AnalysisMba FresherMacros',\n",
       " \"Job descriptionExtract weekly data for COMPANIES clientsMake sure the data is placed in the right serversTo Run scripts to covert the data into COMPANIES 's data warehouse formatRequired Candidate profilePeriodically contact Client to make sure that the Client is properly using the EHR, so that they don't miss on any of the incentive parameters.Interact with TL and other membersPerks and benefitsPlus incentives and transportationRoleAssociate/Senior Associate -(Technical)Industry TypeBPO / Call CentreFunctional AreaITES, BPO, KPO, LPO, Customer Service, OperationsEmployment TypeFull Time, PermanentRole CategoryVoiceEducationUG :Any Graduate in Any Specialization, Graduation Not RequiredPG :Post Graduation Not Required, Any Postgraduate in Any SpecializationDoctorate :Any Doctorate in Any Specialization, Doctorate Not RequiredKey Skillsdata analysis\",\n",
       " \"Job descriptionGreetings!!Concentrix Innovation Labs is Hiring For Data Analyst.Position - Data AnalystLocation - Open for Pan India(Bangalore, Hyderabad, Chennai, Delhi NCR, Mumbai, Pune)Looking for Immediate Joiner who can join in max 1monthKeywordData Analysis ,BI , SQLJob DescriptionResponsible to analysis business requirement for data analytics purposeResponsible to design and develop business analysis modelResponsible to design and develop for digital applicationResponsible to data visualization developmentQualifications:Bachelor's Degree in Computer Science or mathematics/statistics2+ years of Data Analysis ExperienceGood at BI Products like MS Power BI, Tableau, Fine ReportGood at Visualization Design for User ExperienceBe familiar with SQL DevelopmentExperience with Spark/Python for ETL/ELT Process development is preferredExperience with Hive, Vertica, Vector is preferredExperience in offshore team collaboration.Looking for Immediate JoinerRoleData AnalystIndustry TypeBPO / Call CentreFunctional AreaAnalytics & Business IntelligenceEmployment TypeFull Time, PermanentRole CategoryAnalytics & BIEducationUG :Any Graduate in Any SpecializationKey SkillsData analystPower BiData AnalysisData VisualizationTableauSparkETLStatisticssql\",\n",
       " \"Job descriptionMUST HAVE EXPERIENCE IN DATA ANALYST USING PYTHON / R, AND WRITING SQL,MUST HAVE EXPERIENCE IN DASHBOARD.MUST HAVE EXPERIENCE IN QUALITATIVE AND QUNATITATIVE METHODS.MUST WILLING TO WORK IN ANY SHIFTS.Role:Write SQL queries to measure performance and visibility and based on internal requests from the team.To efficiently manage inter function interactions with all the stakeholders.Be the central depository for all Supply related performance data, reports, contact.Calculate Fill Rate for all Monetised Properties on a weekly basis.Assist with business planning efforts supported by quantitative and qualitative analysis.Create Base Allocation Sheet for all platform level events with complete clarity on supply.Maintain Historical Data Points for BU wise spend data on the monthly basis and Coordinate with respective demand spocs for the same.Create Dashboards and Visualize data Useful for the team.Requirements1. Work-ex should be in the analytical domain with strong experience with Advanced Excel, SQL and Python /R is Must.2. Preferred work-ex 1-4 years.3. Candidates must have at least a bachelor's degree from Tier one Institute. Additional Courses on analytics online would be a plus.4. Strong Stakeholder Management Skills and a team player.4. Knowledge of Tableau/Google data studio would be a Plus.IF INTERSTED, SHARE YOUR RESUME ALONG WITH CURRENT NET, EXPECTED TAKE HOME, MOTICE PERIOD AND REASON FOR LEAVING TO roopa_kotian@kellyservices.co.in or SMS to 9513417626By submitting your curriculum vitae or personal data to us in connection with your job application, you are deemed to have read and agreed to the terms of our Privacy Policy, and consented to the collection, use and disclosure of your personal data by us and our affiliates, in accordance with our Privacy Policy. Please visit www.kellyservices.co.in for a copy of our Privacy Policy. If you wish to withdraw your consent, please drop us an email to let us know.We at Kelly Services India do not ask job seekers to pay any kind of fee, make cash or online payment through any channel in exchange of interviews, offer letters or job for Kelly services or any of our clients . Nor do we ask our candidates to supply credit card numbers, PIN numbers, OTP details relating to bank accounts. If you receive any suspicious requests purportedly from Kelly Services India, please alert us at KellyServicesIndia@kellyservices.co.in.RoleData AnalystIndustry TypeInternetFunctional AreaAnalytics & Business IntelligenceEmployment TypeFull Time, PermanentRole CategoryAnalytics & BIEducationUG :Any Graduate in Any SpecializationKey SkillsRBankingData AnalysisDATA ANALYSTSQLPython\",\n",
       " 'Job descriptionRoles and Responsibilities :Identify, analyze, and interpret trends or patterns in complex data setsWork with management to prioritize business and information needsInterpret data, analyze results using statistical techniques and provide ongoing reportsAcquire data from primary or secondary data sources and maintain databases/data systemsLocate and define new process improvement opportunitiesExperience in Power BI and SQLStrong in Excel- Data Visualization, Graphs , data analyzingRoleBusiness AnalystIndustry TypeMiscellaneousFunctional AreaIT Software - Application Programming, MaintenanceEmployment TypeFull Time, PermanentRole CategorySystem Design/Implementation/ERP/CRMEducationUG :Any Graduate in Any SpecializationKey SkillsData Analysis',\n",
       " 'Job descriptionGreetings..!!Client: Well known Ecommerce CompanyDesignation: Data AnalystExperience: 1 YearCTC: 4.5 L to 8 LacsMandatory skills: Microsoft Excel / SQL / Basic Programming knowledge - R/Python /Regression/ForecastingLocation: Bangalore (WFH)Contract Period: 6 Months to 1 YearRoles and ResponsibilitiesDashboard development and generation for daily, weekly, monthly and all reporting needs. Gather user requirements for new reports and enhance existing reports. Interpret needs and design reports to meet end user expectations.Data modeling, and creation of both logical and physical data models for effective and efficient reporting and TAT on frequent requestsDesign and develop complex data queries to move and transform data from operational data sources to analytical databases. Test all new reports/deliverables and periodically review them for quality control. Data validation and attention to detail is required as this role will be accountable for quality of all the numbers delivered through dashboards or otherwise.Work effectively as part of a team to achieve individual, team and organizational objectives, sharing knowledge and skills. Positively work and influence with team members to partner together to achieve individual, customers and business goalsRequired Technical Skills:Strong experience in building complex SQL queries Advanced Excel & Macros.Strong logical & analytical concepts in databases, schemas, dimensional modellingEnd-to-end Experience in building complex MIS and dashboards especially in QlikView Programming languages like VB, JAVA, C will be good to have Experience in QlikView and Hadoop is highly desirable but not mandatoryDesired Candidate ProfileVBA / Business AcumenPerks and BenefitsPF, Medical, InsuranceIf interested, kindly share your updated resume to ankitad@innovsource.comRoleBusiness AnalystIndustry TypeIT Services & ConsultingFunctional AreaIT Software - Application Programming, MaintenanceEmployment TypeFull Time, PermanentRole CategorySystem Design/Implementation/ERP/CRMEducationUG :Any Graduate in Any SpecializationKey SkillsData AnalysisRegressiondata analystPythonSQL',\n",
       " 'Job descriptionGreetings..!!Client: Well known Ecommerce CompanyDesignation: Data AnalystExperience: 1 YearCTC: 4.5 L to 5 LacsMandatory skills: Microsoft Excel / SQL / Basic Programming knowledge - R/Python /Regression/Forecasting/Fashion(D1015)/SQL query building / advanced excel/macros knowledge / Python/R / A/B testing / PowerBILocation: Bangalore (WFH)Contract Period: 6 Months to 1 YearRoles and ResponsibilitiesDashboard development and generation for daily, weekly, monthly and all reporting needs. Gather user requirements for new reports and enhance existing reports. Interpret needs and design reports to meet end user expectations.Data modeling, and creation of both logical and physical data models for effective and efficient reporting and TAT on frequent requestsDesign and develop complex data queries to move and transform data from operational data sources to analytical databases. Test all new reports/deliverables and periodically review them for quality control. Data validation and attention to detail is required as this role will be accountable for quality of all the numbers delivered through dashboards or otherwise.Work effectively as part of a team to achieve individual, team and organizational objectives, sharing knowledge and skills. Positively work and influence with team members to partner together to achieve individual, customers and business goalsRequired Technical Skills:Strong experience in building complex SQL queries Advanced Excel & Macros.Strong logical & analytical concepts in databases, schemas, dimensional modellingEnd-to-end Experience in building complex MIS and dashboards especially in QlikView Programming languages like VB, JAVA, C will be good to have Experience in QlikView and Hadoop is highly desirable but not mandatoryDesired Candidate ProfileRevenue, Marketing and Planning(T1060)Perks and BenefitsPF, Medical, InsuranceRoleBusiness AnalystIndustry TypeIT Services & ConsultingFunctional AreaIT Software - Application Programming, MaintenanceEmployment TypeFull Time, PermanentRole CategorySystem Design/Implementation/ERP/CRMEducationUG :Any Graduate in Any SpecializationKey SkillsData AnalysisRegressiondata analystPythonSQL']"
      ]
     },
     "execution_count": 36,
     "metadata": {},
     "output_type": "execute_result"
    }
   ],
   "source": [
    "Job_desc = []\n",
    "for i in Job_url:\n",
    "    driver.get(i)\n",
    "    time.sleep(3)\n",
    "    try:\n",
    "        job_desc = driver.find_element_by_xpath(\"//section[@class = 'job-desc']\")\n",
    "        Job_desc.append(job_desc.text.replace('\\n', ''))\n",
    "    except NoSuchElementException:\n",
    "        Job_desc.append('-')\n",
    "        \n",
    "Job_desc"
   ]
  },
  {
   "cell_type": "code",
   "execution_count": 37,
   "id": "massive-carter",
   "metadata": {},
   "outputs": [],
   "source": [
    "Naukri = pd.DataFrame({})\n",
    "Naukri['Job Title'] = Job_titles\n",
    "Naukri['Company Name'] = Company_name\n",
    "Naukri['Location'] = Job_location\n",
    "Naukri['Job Description'] = Job_desc"
   ]
  },
  {
   "cell_type": "code",
   "execution_count": 38,
   "id": "median-indication",
   "metadata": {},
   "outputs": [
    {
     "data": {
      "text/html": [
       "<div>\n",
       "<style scoped>\n",
       "    .dataframe tbody tr th:only-of-type {\n",
       "        vertical-align: middle;\n",
       "    }\n",
       "\n",
       "    .dataframe tbody tr th {\n",
       "        vertical-align: top;\n",
       "    }\n",
       "\n",
       "    .dataframe thead th {\n",
       "        text-align: right;\n",
       "    }\n",
       "</style>\n",
       "<table border=\"1\" class=\"dataframe\">\n",
       "  <thead>\n",
       "    <tr style=\"text-align: right;\">\n",
       "      <th></th>\n",
       "      <th>Job Title</th>\n",
       "      <th>Company Name</th>\n",
       "      <th>Location</th>\n",
       "      <th>Job Description</th>\n",
       "    </tr>\n",
       "  </thead>\n",
       "  <tbody>\n",
       "    <tr>\n",
       "      <th>0</th>\n",
       "      <td>Data Analyst - Quant &amp; Data Mining</td>\n",
       "      <td>Catalyst</td>\n",
       "      <td>Bangalore/Bengaluru</td>\n",
       "      <td>Job descriptionResponsibilities :- Apply your ...</td>\n",
       "    </tr>\n",
       "    <tr>\n",
       "      <th>1</th>\n",
       "      <td>Data Analyst</td>\n",
       "      <td>Near Pte. Ltd.</td>\n",
       "      <td>Bangalore/Bengaluru</td>\n",
       "      <td>Job descriptionThe OpportunityNear is looking ...</td>\n",
       "    </tr>\n",
       "    <tr>\n",
       "      <th>2</th>\n",
       "      <td>Data Analyst - Graphy</td>\n",
       "      <td>Unacademy</td>\n",
       "      <td>Bangalore/Bengaluru</td>\n",
       "      <td>Job descriptionDescriptionWork closely with th...</td>\n",
       "    </tr>\n",
       "    <tr>\n",
       "      <th>3</th>\n",
       "      <td>Data Analyst</td>\n",
       "      <td>Novel Office</td>\n",
       "      <td>Bangalore/Bengaluru</td>\n",
       "      <td>Job descriptionBasic Data entry operationData ...</td>\n",
       "    </tr>\n",
       "    <tr>\n",
       "      <th>4</th>\n",
       "      <td>ACO Data Analyst Call Rina</td>\n",
       "      <td>White Horse Manpower Consultancy Private Limited</td>\n",
       "      <td>Bangalore/Bengaluru</td>\n",
       "      <td>Job descriptionExtract weekly data for COMPANI...</td>\n",
       "    </tr>\n",
       "    <tr>\n",
       "      <th>5</th>\n",
       "      <td>Concentrix Innovation Labs Hiring For Data Ana...</td>\n",
       "      <td>Concentrix Daksh Services India Private Limited.</td>\n",
       "      <td>Bangalore/Bengaluru, Delhi / NCR</td>\n",
       "      <td>Job descriptionGreetings!!Concentrix Innovatio...</td>\n",
       "    </tr>\n",
       "    <tr>\n",
       "      <th>6</th>\n",
       "      <td>Data Analyst / Python R/ SQL @ Bangalore</td>\n",
       "      <td>PERSOLKELLY INDIA PRIVATE LIMITED</td>\n",
       "      <td>Bangalore/Bengaluru</td>\n",
       "      <td>Job descriptionMUST HAVE EXPERIENCE IN DATA AN...</td>\n",
       "    </tr>\n",
       "    <tr>\n",
       "      <th>7</th>\n",
       "      <td>Data Analyst</td>\n",
       "      <td>Sobha Limited</td>\n",
       "      <td>Bangalore/Bengaluru</td>\n",
       "      <td>Job descriptionRoles and Responsibilities :Ide...</td>\n",
       "    </tr>\n",
       "    <tr>\n",
       "      <th>8</th>\n",
       "      <td>Data Analyst</td>\n",
       "      <td>Innovsource Services Private Limited</td>\n",
       "      <td>Bangalore/Bengaluru</td>\n",
       "      <td>Job descriptionGreetings..!!Client: Well known...</td>\n",
       "    </tr>\n",
       "    <tr>\n",
       "      <th>9</th>\n",
       "      <td>Data Analyst</td>\n",
       "      <td>Innovsource Services Private Limited</td>\n",
       "      <td>Bangalore/Bengaluru</td>\n",
       "      <td>Job descriptionGreetings..!!Client: Well known...</td>\n",
       "    </tr>\n",
       "  </tbody>\n",
       "</table>\n",
       "</div>"
      ],
      "text/plain": [
       "                                           Job Title  \\\n",
       "0                 Data Analyst - Quant & Data Mining   \n",
       "1                                       Data Analyst   \n",
       "2                              Data Analyst - Graphy   \n",
       "3                                       Data Analyst   \n",
       "4                         ACO Data Analyst Call Rina   \n",
       "5  Concentrix Innovation Labs Hiring For Data Ana...   \n",
       "6           Data Analyst / Python R/ SQL @ Bangalore   \n",
       "7                                       Data Analyst   \n",
       "8                                       Data Analyst   \n",
       "9                                       Data Analyst   \n",
       "\n",
       "                                       Company Name  \\\n",
       "0                                          Catalyst   \n",
       "1                                    Near Pte. Ltd.   \n",
       "2                                         Unacademy   \n",
       "3                                      Novel Office   \n",
       "4  White Horse Manpower Consultancy Private Limited   \n",
       "5  Concentrix Daksh Services India Private Limited.   \n",
       "6                 PERSOLKELLY INDIA PRIVATE LIMITED   \n",
       "7                                     Sobha Limited   \n",
       "8              Innovsource Services Private Limited   \n",
       "9              Innovsource Services Private Limited   \n",
       "\n",
       "                           Location  \\\n",
       "0               Bangalore/Bengaluru   \n",
       "1               Bangalore/Bengaluru   \n",
       "2               Bangalore/Bengaluru   \n",
       "3               Bangalore/Bengaluru   \n",
       "4               Bangalore/Bengaluru   \n",
       "5  Bangalore/Bengaluru, Delhi / NCR   \n",
       "6               Bangalore/Bengaluru   \n",
       "7               Bangalore/Bengaluru   \n",
       "8               Bangalore/Bengaluru   \n",
       "9               Bangalore/Bengaluru   \n",
       "\n",
       "                                     Job Description  \n",
       "0  Job descriptionResponsibilities :- Apply your ...  \n",
       "1  Job descriptionThe OpportunityNear is looking ...  \n",
       "2  Job descriptionDescriptionWork closely with th...  \n",
       "3  Job descriptionBasic Data entry operationData ...  \n",
       "4  Job descriptionExtract weekly data for COMPANI...  \n",
       "5  Job descriptionGreetings!!Concentrix Innovatio...  \n",
       "6  Job descriptionMUST HAVE EXPERIENCE IN DATA AN...  \n",
       "7  Job descriptionRoles and Responsibilities :Ide...  \n",
       "8  Job descriptionGreetings..!!Client: Well known...  \n",
       "9  Job descriptionGreetings..!!Client: Well known...  "
      ]
     },
     "execution_count": 38,
     "metadata": {},
     "output_type": "execute_result"
    }
   ],
   "source": [
    "Naukri"
   ]
  },
  {
   "cell_type": "markdown",
   "id": "combined-dodge",
   "metadata": {},
   "source": [
    "# Q3"
   ]
  },
  {
   "cell_type": "code",
   "execution_count": 39,
   "id": "integral-dialogue",
   "metadata": {},
   "outputs": [],
   "source": [
    "# Opening the webpage\n",
    "url1 = 'https://www.naukri.com/'"
   ]
  },
  {
   "cell_type": "code",
   "execution_count": 40,
   "id": "indonesian-enlargement",
   "metadata": {},
   "outputs": [],
   "source": [
    "driver.get(url1)\n",
    "time.sleep(3)"
   ]
  },
  {
   "cell_type": "code",
   "execution_count": 41,
   "id": "ancient-lying",
   "metadata": {},
   "outputs": [],
   "source": [
    "# Elements for searchbar\n",
    "search_bar = driver.find_element_by_id('qsb-keyword-sugg')\n",
    "search_bar\n",
    "time.sleep(1)"
   ]
  },
  {
   "cell_type": "code",
   "execution_count": 42,
   "id": "planned-raise",
   "metadata": {},
   "outputs": [],
   "source": [
    "search_bar.send_keys('Data Analyst')"
   ]
  },
  {
   "cell_type": "code",
   "execution_count": 43,
   "id": "aging-broad",
   "metadata": {},
   "outputs": [
    {
     "data": {
      "text/plain": [
       "<selenium.webdriver.remote.webelement.WebElement (session=\"f3e0a8800572b5816e4881fff9dc8726\", element=\"4db9632f-2af7-4df5-8ed5-80fcfe226b7d\")>"
      ]
     },
     "execution_count": 43,
     "metadata": {},
     "output_type": "execute_result"
    }
   ],
   "source": [
    "# Element for the search button\n",
    "search_button = driver.find_element_by_xpath(\"//button[@class = 'btn']\")\n",
    "search_button"
   ]
  },
  {
   "cell_type": "code",
   "execution_count": 44,
   "id": "banner-enterprise",
   "metadata": {},
   "outputs": [],
   "source": [
    "# Elements for Location bar\n",
    "location_bar = driver.find_element_by_id('qsb-location-sugg')\n",
    "location_bar\n",
    "time.sleep(1)"
   ]
  },
  {
   "cell_type": "code",
   "execution_count": 45,
   "id": "ceramic-sharp",
   "metadata": {},
   "outputs": [],
   "source": [
    "location_bar.send_keys('Bangalore')"
   ]
  },
  {
   "cell_type": "code",
   "execution_count": 46,
   "id": "renewable-thomas",
   "metadata": {},
   "outputs": [
    {
     "data": {
      "text/plain": [
       "<selenium.webdriver.remote.webelement.WebElement (session=\"f3e0a8800572b5816e4881fff9dc8726\", element=\"4db9632f-2af7-4df5-8ed5-80fcfe226b7d\")>"
      ]
     },
     "execution_count": 46,
     "metadata": {},
     "output_type": "execute_result"
    }
   ],
   "source": [
    "# Element for the search button\n",
    "search_button = driver.find_element_by_xpath(\"//button[@class = 'btn']\")\n",
    "search_button"
   ]
  },
  {
   "cell_type": "code",
   "execution_count": 47,
   "id": "introductory-bacteria",
   "metadata": {},
   "outputs": [],
   "source": [
    "search_button.click()"
   ]
  },
  {
   "cell_type": "code",
   "execution_count": 50,
   "id": "designed-stopping",
   "metadata": {},
   "outputs": [],
   "source": [
    "# Location filter \n",
    "location_filter = driver.find_element_by_xpath(\"//span[@title = 'Delhi / NCR']\")\n",
    "location_filter.click()\n",
    "# This code breaks for some reason. Just hit shift-enter, it'll run"
   ]
  },
  {
   "cell_type": "code",
   "execution_count": 52,
   "id": "controlled-domain",
   "metadata": {},
   "outputs": [],
   "source": [
    "# Salary filter\n",
    "salary_filter = driver.find_element_by_xpath(\"//span[@title = '3-6 Lakhs']\")\n",
    "salary_filter.click()"
   ]
  },
  {
   "cell_type": "code",
   "execution_count": 54,
   "id": "protective-rating",
   "metadata": {},
   "outputs": [
    {
     "data": {
      "text/plain": [
       "[<selenium.webdriver.remote.webelement.WebElement (session=\"f3e0a8800572b5816e4881fff9dc8726\", element=\"c4a8e45d-8478-4a65-810f-1fd9df5af88d\")>,\n",
       " <selenium.webdriver.remote.webelement.WebElement (session=\"f3e0a8800572b5816e4881fff9dc8726\", element=\"76bc8ec7-ffd9-4fa7-b20b-bb84f427bb0a\")>,\n",
       " <selenium.webdriver.remote.webelement.WebElement (session=\"f3e0a8800572b5816e4881fff9dc8726\", element=\"a0db603d-b24a-453b-a9d3-f78c8e9a51bd\")>,\n",
       " <selenium.webdriver.remote.webelement.WebElement (session=\"f3e0a8800572b5816e4881fff9dc8726\", element=\"3433b848-a239-4142-9c03-2e07a44ce0c2\")>,\n",
       " <selenium.webdriver.remote.webelement.WebElement (session=\"f3e0a8800572b5816e4881fff9dc8726\", element=\"7d04f3fb-945c-4288-9e11-4b157553ebae\")>,\n",
       " <selenium.webdriver.remote.webelement.WebElement (session=\"f3e0a8800572b5816e4881fff9dc8726\", element=\"2a0b0a22-146c-4265-a97f-b4afcc288e14\")>,\n",
       " <selenium.webdriver.remote.webelement.WebElement (session=\"f3e0a8800572b5816e4881fff9dc8726\", element=\"ebe81b20-7224-43e3-bcf7-0edc65a161db\")>,\n",
       " <selenium.webdriver.remote.webelement.WebElement (session=\"f3e0a8800572b5816e4881fff9dc8726\", element=\"cc430bde-dd7d-47a9-8d58-f2dda6d4546a\")>,\n",
       " <selenium.webdriver.remote.webelement.WebElement (session=\"f3e0a8800572b5816e4881fff9dc8726\", element=\"a4541c25-e14d-4960-9156-da9e0abd787b\")>,\n",
       " <selenium.webdriver.remote.webelement.WebElement (session=\"f3e0a8800572b5816e4881fff9dc8726\", element=\"e3bd39c0-ed10-47c8-bec1-c1d07cbd6406\")>,\n",
       " <selenium.webdriver.remote.webelement.WebElement (session=\"f3e0a8800572b5816e4881fff9dc8726\", element=\"9a89d76d-564b-482d-9ef1-e608326d051e\")>,\n",
       " <selenium.webdriver.remote.webelement.WebElement (session=\"f3e0a8800572b5816e4881fff9dc8726\", element=\"abc3a00e-4a41-403d-90b0-58495437ed90\")>,\n",
       " <selenium.webdriver.remote.webelement.WebElement (session=\"f3e0a8800572b5816e4881fff9dc8726\", element=\"77d9fa54-6aed-4bab-a9a7-64ce152b50d8\")>,\n",
       " <selenium.webdriver.remote.webelement.WebElement (session=\"f3e0a8800572b5816e4881fff9dc8726\", element=\"819ace76-9dee-4f9e-8da3-9e8752c33ca0\")>,\n",
       " <selenium.webdriver.remote.webelement.WebElement (session=\"f3e0a8800572b5816e4881fff9dc8726\", element=\"44093aa5-d4e2-4f48-8ca9-c18582424263\")>,\n",
       " <selenium.webdriver.remote.webelement.WebElement (session=\"f3e0a8800572b5816e4881fff9dc8726\", element=\"fb6da013-ae98-4216-8ec1-30bd00b55aef\")>,\n",
       " <selenium.webdriver.remote.webelement.WebElement (session=\"f3e0a8800572b5816e4881fff9dc8726\", element=\"7263e5d9-7fbb-43c4-b6e1-476b917cf162\")>,\n",
       " <selenium.webdriver.remote.webelement.WebElement (session=\"f3e0a8800572b5816e4881fff9dc8726\", element=\"46660efb-3b70-4cb0-86da-26d09b72c101\")>,\n",
       " <selenium.webdriver.remote.webelement.WebElement (session=\"f3e0a8800572b5816e4881fff9dc8726\", element=\"4ed5feca-88b0-4c29-867c-f00ef34a814a\")>,\n",
       " <selenium.webdriver.remote.webelement.WebElement (session=\"f3e0a8800572b5816e4881fff9dc8726\", element=\"b6ca8f33-c376-4817-aa7e-6085f2decd5a\")>]"
      ]
     },
     "execution_count": 54,
     "metadata": {},
     "output_type": "execute_result"
    }
   ],
   "source": [
    "# Scrapping data for first 10 job results. \n",
    "time.sleep(5)\n",
    "job_titles = driver.find_elements_by_xpath(\"//a[@class = 'title fw500 ellipsis']\")\n",
    "job_titles"
   ]
  },
  {
   "cell_type": "code",
   "execution_count": 55,
   "id": "muslim-gentleman",
   "metadata": {},
   "outputs": [
    {
     "data": {
      "text/plain": [
       "['Data Analyst - Graphy',\n",
       " 'Data Analyst',\n",
       " 'Data Analyst / Python R/ SQL @ Bangalore',\n",
       " 'Data Analyst',\n",
       " 'Data Analyst',\n",
       " 'Operations Data Analyst - Hiring For MNC - Upto 5 LPA - SQL Experience',\n",
       " 'Data Analyst',\n",
       " 'Data Analyst',\n",
       " 'Data Analyst',\n",
       " 'Data Analyst',\n",
       " 'Data Analyst',\n",
       " 'Data Analyst',\n",
       " 'Data Analyst - Revenue & Growth',\n",
       " 'Data Analyst - Myntra Emerging Labels',\n",
       " 'MIS / Data Analyst',\n",
       " 'Urgent Hiring Data Analyst or Business Analyst. Call us now!',\n",
       " 'Data Analyst - Operations Analyst - SQL Experience - Hiring For MNC',\n",
       " 'Data Analyst (asset Management)',\n",
       " 'Data Analyst',\n",
       " 'Data Analyst']"
      ]
     },
     "execution_count": 55,
     "metadata": {},
     "output_type": "execute_result"
    }
   ],
   "source": [
    "Job_titles_x = []\n",
    "for i in job_titles:\n",
    "    Job_titles_x.append(i.text)\n",
    "Job_titles_x"
   ]
  },
  {
   "cell_type": "code",
   "execution_count": 56,
   "id": "herbal-bahamas",
   "metadata": {},
   "outputs": [],
   "source": [
    "Job_titles = Job_titles_x[:10]"
   ]
  },
  {
   "cell_type": "code",
   "execution_count": 57,
   "id": "covered-confirmation",
   "metadata": {},
   "outputs": [
    {
     "data": {
      "text/plain": [
       "[<selenium.webdriver.remote.webelement.WebElement (session=\"f3e0a8800572b5816e4881fff9dc8726\", element=\"8d6b7f5e-7a6a-4e89-95dc-1fe33a92c794\")>,\n",
       " <selenium.webdriver.remote.webelement.WebElement (session=\"f3e0a8800572b5816e4881fff9dc8726\", element=\"c5668914-339f-4ff8-bf9a-cb775af0608a\")>,\n",
       " <selenium.webdriver.remote.webelement.WebElement (session=\"f3e0a8800572b5816e4881fff9dc8726\", element=\"f40a0231-8ce5-49b0-8385-467850295abd\")>,\n",
       " <selenium.webdriver.remote.webelement.WebElement (session=\"f3e0a8800572b5816e4881fff9dc8726\", element=\"e1eef8b5-8cd1-4b1b-9e1d-7fbae664378d\")>,\n",
       " <selenium.webdriver.remote.webelement.WebElement (session=\"f3e0a8800572b5816e4881fff9dc8726\", element=\"4a685b35-f9dc-490f-b345-8a4519704f3f\")>,\n",
       " <selenium.webdriver.remote.webelement.WebElement (session=\"f3e0a8800572b5816e4881fff9dc8726\", element=\"cd236abf-d3d6-4444-a2ae-49f4d313e8bf\")>,\n",
       " <selenium.webdriver.remote.webelement.WebElement (session=\"f3e0a8800572b5816e4881fff9dc8726\", element=\"325f7ae4-05b2-44c3-95c4-220122ffc9ce\")>,\n",
       " <selenium.webdriver.remote.webelement.WebElement (session=\"f3e0a8800572b5816e4881fff9dc8726\", element=\"c975bb27-6b06-489d-bbb6-d6a5a78a016f\")>,\n",
       " <selenium.webdriver.remote.webelement.WebElement (session=\"f3e0a8800572b5816e4881fff9dc8726\", element=\"d0f76e30-1f36-44a1-a76b-99b798c852d1\")>,\n",
       " <selenium.webdriver.remote.webelement.WebElement (session=\"f3e0a8800572b5816e4881fff9dc8726\", element=\"81f3943e-1e15-4d95-8c96-22a3d6d74a12\")>,\n",
       " <selenium.webdriver.remote.webelement.WebElement (session=\"f3e0a8800572b5816e4881fff9dc8726\", element=\"29ffe001-b2c2-47d4-927b-7e4661e05cbe\")>,\n",
       " <selenium.webdriver.remote.webelement.WebElement (session=\"f3e0a8800572b5816e4881fff9dc8726\", element=\"d2e6c033-38d5-4941-91dd-c33efaa04b69\")>,\n",
       " <selenium.webdriver.remote.webelement.WebElement (session=\"f3e0a8800572b5816e4881fff9dc8726\", element=\"bfc35f96-1480-4c98-bd82-8e6eace0a0b0\")>,\n",
       " <selenium.webdriver.remote.webelement.WebElement (session=\"f3e0a8800572b5816e4881fff9dc8726\", element=\"b3e1db5b-40c4-4a10-a11a-5b2cc024a8b4\")>,\n",
       " <selenium.webdriver.remote.webelement.WebElement (session=\"f3e0a8800572b5816e4881fff9dc8726\", element=\"36013820-e254-45ed-acd6-65444530b9bb\")>,\n",
       " <selenium.webdriver.remote.webelement.WebElement (session=\"f3e0a8800572b5816e4881fff9dc8726\", element=\"75676dc0-d5e2-4d8b-896a-59147ed62ec4\")>,\n",
       " <selenium.webdriver.remote.webelement.WebElement (session=\"f3e0a8800572b5816e4881fff9dc8726\", element=\"187c9d84-c301-4319-98ab-0131812d64af\")>,\n",
       " <selenium.webdriver.remote.webelement.WebElement (session=\"f3e0a8800572b5816e4881fff9dc8726\", element=\"af4a1586-193a-4dd7-97f0-280556b5e237\")>,\n",
       " <selenium.webdriver.remote.webelement.WebElement (session=\"f3e0a8800572b5816e4881fff9dc8726\", element=\"0fbd73d3-0d3d-4204-a290-c49817ec68ae\")>,\n",
       " <selenium.webdriver.remote.webelement.WebElement (session=\"f3e0a8800572b5816e4881fff9dc8726\", element=\"25fb1ae8-fa7d-4efe-acc7-45fbc7d391d7\")>]"
      ]
     },
     "execution_count": 57,
     "metadata": {},
     "output_type": "execute_result"
    }
   ],
   "source": [
    "# Finding the Job locations\n",
    "job_location = driver.find_elements_by_xpath(\"//li[@class = 'fleft grey-text br2 placeHolderLi location']//span\")\n",
    "job_location"
   ]
  },
  {
   "cell_type": "code",
   "execution_count": 58,
   "id": "roman-terrorist",
   "metadata": {},
   "outputs": [
    {
     "data": {
      "text/plain": [
       "['Bangalore/Bengaluru',\n",
       " 'Bangalore/Bengaluru',\n",
       " 'Bangalore/Bengaluru',\n",
       " 'Bangalore/Bengaluru',\n",
       " 'Bangalore/Bengaluru',\n",
       " 'Bangalore/Bengaluru',\n",
       " 'Bangalore/Bengaluru',\n",
       " 'Bangalore/Bengaluru',\n",
       " 'Bangalore/Bengaluru',\n",
       " 'Bangalore/Bengaluru',\n",
       " 'Bangalore/Bengaluru',\n",
       " 'Bangalore/Bengaluru, Delhi / NCR',\n",
       " 'Bangalore/Bengaluru',\n",
       " 'Bangalore/Bengaluru',\n",
       " 'Bangalore/Bengaluru',\n",
       " 'Bangalore/Bengaluru',\n",
       " 'Bangalore/Bengaluru',\n",
       " 'Bangalore/Bengaluru, Bangalore',\n",
       " 'Bengaluru',\n",
       " 'Bangalore/Bengaluru']"
      ]
     },
     "execution_count": 58,
     "metadata": {},
     "output_type": "execute_result"
    }
   ],
   "source": [
    "Job_location_x = []\n",
    "for i in job_location:\n",
    "    Job_location_x.append(i.text)\n",
    "Job_location_x"
   ]
  },
  {
   "cell_type": "code",
   "execution_count": 59,
   "id": "prostate-ideal",
   "metadata": {},
   "outputs": [],
   "source": [
    "Job_location = Job_location_x[:10]"
   ]
  },
  {
   "cell_type": "code",
   "execution_count": 60,
   "id": "specific-cosmetic",
   "metadata": {},
   "outputs": [
    {
     "data": {
      "text/plain": [
       "[<selenium.webdriver.remote.webelement.WebElement (session=\"f3e0a8800572b5816e4881fff9dc8726\", element=\"fc778f24-1fca-4724-9540-14c4e0ef67ef\")>,\n",
       " <selenium.webdriver.remote.webelement.WebElement (session=\"f3e0a8800572b5816e4881fff9dc8726\", element=\"02814a2c-19d2-4c0b-a9e3-bcc226bd33dd\")>,\n",
       " <selenium.webdriver.remote.webelement.WebElement (session=\"f3e0a8800572b5816e4881fff9dc8726\", element=\"6286b289-9241-4bca-b69b-bcb767bc7d8d\")>,\n",
       " <selenium.webdriver.remote.webelement.WebElement (session=\"f3e0a8800572b5816e4881fff9dc8726\", element=\"763620dc-8f5b-4285-9ea0-05fa70f10690\")>,\n",
       " <selenium.webdriver.remote.webelement.WebElement (session=\"f3e0a8800572b5816e4881fff9dc8726\", element=\"21508a91-680e-46a5-b7cf-e1a9a05e1ac0\")>,\n",
       " <selenium.webdriver.remote.webelement.WebElement (session=\"f3e0a8800572b5816e4881fff9dc8726\", element=\"ae4682d1-5a79-407e-b23e-fdfba4304f7f\")>,\n",
       " <selenium.webdriver.remote.webelement.WebElement (session=\"f3e0a8800572b5816e4881fff9dc8726\", element=\"badf2ff0-4431-4c25-b83b-ac8d5630882d\")>,\n",
       " <selenium.webdriver.remote.webelement.WebElement (session=\"f3e0a8800572b5816e4881fff9dc8726\", element=\"496e939e-cff0-40ac-9e71-d9f135f80d62\")>,\n",
       " <selenium.webdriver.remote.webelement.WebElement (session=\"f3e0a8800572b5816e4881fff9dc8726\", element=\"433df685-0147-4578-a458-4a0a7b872cf0\")>,\n",
       " <selenium.webdriver.remote.webelement.WebElement (session=\"f3e0a8800572b5816e4881fff9dc8726\", element=\"f9fa9016-d075-480b-9bc2-b948cec58202\")>,\n",
       " <selenium.webdriver.remote.webelement.WebElement (session=\"f3e0a8800572b5816e4881fff9dc8726\", element=\"1e04fdf1-ea2f-474a-8010-9dc056842ef1\")>,\n",
       " <selenium.webdriver.remote.webelement.WebElement (session=\"f3e0a8800572b5816e4881fff9dc8726\", element=\"19d28dab-a284-430e-b16d-cca9556e2afc\")>,\n",
       " <selenium.webdriver.remote.webelement.WebElement (session=\"f3e0a8800572b5816e4881fff9dc8726\", element=\"61b1a8a3-e474-4e55-bd45-d07ea2fff478\")>,\n",
       " <selenium.webdriver.remote.webelement.WebElement (session=\"f3e0a8800572b5816e4881fff9dc8726\", element=\"3a238fa6-8973-4a7d-a241-95f6047bd2fa\")>,\n",
       " <selenium.webdriver.remote.webelement.WebElement (session=\"f3e0a8800572b5816e4881fff9dc8726\", element=\"6b9d6cc6-bdf0-4d43-ab5c-2ee159f58ce6\")>,\n",
       " <selenium.webdriver.remote.webelement.WebElement (session=\"f3e0a8800572b5816e4881fff9dc8726\", element=\"5bc94f48-a86d-43c2-b7a1-8f79790a9f86\")>,\n",
       " <selenium.webdriver.remote.webelement.WebElement (session=\"f3e0a8800572b5816e4881fff9dc8726\", element=\"b86c28e9-a9b2-447d-84ce-c4097361db28\")>,\n",
       " <selenium.webdriver.remote.webelement.WebElement (session=\"f3e0a8800572b5816e4881fff9dc8726\", element=\"7a96f82d-15f0-4e65-8408-5d03ee1a3ff7\")>,\n",
       " <selenium.webdriver.remote.webelement.WebElement (session=\"f3e0a8800572b5816e4881fff9dc8726\", element=\"66b02649-8cf0-4f96-838a-a32f04f941d0\")>,\n",
       " <selenium.webdriver.remote.webelement.WebElement (session=\"f3e0a8800572b5816e4881fff9dc8726\", element=\"7ba2fa89-f245-4e3e-a7fa-95c8fec9c597\")>]"
      ]
     },
     "execution_count": 60,
     "metadata": {},
     "output_type": "execute_result"
    }
   ],
   "source": [
    "# Finding the company names\n",
    "company_name = driver.find_elements_by_xpath(\"//a[@class = 'subTitle ellipsis fleft']\")\n",
    "company_name"
   ]
  },
  {
   "cell_type": "code",
   "execution_count": 61,
   "id": "dense-scientist",
   "metadata": {
    "scrolled": true
   },
   "outputs": [
    {
     "data": {
      "text/plain": [
       "['Unacademy',\n",
       " 'Innovsource Services Private Limited',\n",
       " 'PERSOLKELLY INDIA PRIVATE LIMITED',\n",
       " 'Flipkart Internet Private Limited',\n",
       " 'Draup',\n",
       " 'Universal Manpower Online',\n",
       " 'Clarivate Analytics (TRCPL Projects Pvt Ltd.)',\n",
       " 'Bion',\n",
       " 'Xylem Resource Management Pvt. Ltd.',\n",
       " 'GlaxoSmithKline Pharmaceuticals Limited',\n",
       " 'yoodle',\n",
       " 'Bytech India Private Limited',\n",
       " 'Myntra Designs Pvt. Ltd.',\n",
       " 'Myntra Designs Pvt. Ltd.',\n",
       " 'DocsApp',\n",
       " 'ZG Staffing solutions Pvt Ltd',\n",
       " 'Universal Manpower Online',\n",
       " 'Webhelp',\n",
       " 'Glassbeam, Inc',\n",
       " '6Sense']"
      ]
     },
     "execution_count": 61,
     "metadata": {},
     "output_type": "execute_result"
    }
   ],
   "source": [
    "Company_name_x = []\n",
    "for i in company_name:\n",
    "    Company_name_x.append(i.text)\n",
    "Company_name_x"
   ]
  },
  {
   "cell_type": "code",
   "execution_count": 62,
   "id": "extended-lobby",
   "metadata": {},
   "outputs": [],
   "source": [
    "Company_name = Company_name_x[:10]"
   ]
  },
  {
   "cell_type": "code",
   "execution_count": 63,
   "id": "becoming-beijing",
   "metadata": {},
   "outputs": [
    {
     "data": {
      "text/plain": [
       "[<selenium.webdriver.remote.webelement.WebElement (session=\"f3e0a8800572b5816e4881fff9dc8726\", element=\"c4a8e45d-8478-4a65-810f-1fd9df5af88d\")>,\n",
       " <selenium.webdriver.remote.webelement.WebElement (session=\"f3e0a8800572b5816e4881fff9dc8726\", element=\"76bc8ec7-ffd9-4fa7-b20b-bb84f427bb0a\")>,\n",
       " <selenium.webdriver.remote.webelement.WebElement (session=\"f3e0a8800572b5816e4881fff9dc8726\", element=\"a0db603d-b24a-453b-a9d3-f78c8e9a51bd\")>,\n",
       " <selenium.webdriver.remote.webelement.WebElement (session=\"f3e0a8800572b5816e4881fff9dc8726\", element=\"3433b848-a239-4142-9c03-2e07a44ce0c2\")>,\n",
       " <selenium.webdriver.remote.webelement.WebElement (session=\"f3e0a8800572b5816e4881fff9dc8726\", element=\"7d04f3fb-945c-4288-9e11-4b157553ebae\")>,\n",
       " <selenium.webdriver.remote.webelement.WebElement (session=\"f3e0a8800572b5816e4881fff9dc8726\", element=\"2a0b0a22-146c-4265-a97f-b4afcc288e14\")>,\n",
       " <selenium.webdriver.remote.webelement.WebElement (session=\"f3e0a8800572b5816e4881fff9dc8726\", element=\"ebe81b20-7224-43e3-bcf7-0edc65a161db\")>,\n",
       " <selenium.webdriver.remote.webelement.WebElement (session=\"f3e0a8800572b5816e4881fff9dc8726\", element=\"cc430bde-dd7d-47a9-8d58-f2dda6d4546a\")>,\n",
       " <selenium.webdriver.remote.webelement.WebElement (session=\"f3e0a8800572b5816e4881fff9dc8726\", element=\"a4541c25-e14d-4960-9156-da9e0abd787b\")>,\n",
       " <selenium.webdriver.remote.webelement.WebElement (session=\"f3e0a8800572b5816e4881fff9dc8726\", element=\"e3bd39c0-ed10-47c8-bec1-c1d07cbd6406\")>,\n",
       " <selenium.webdriver.remote.webelement.WebElement (session=\"f3e0a8800572b5816e4881fff9dc8726\", element=\"9a89d76d-564b-482d-9ef1-e608326d051e\")>,\n",
       " <selenium.webdriver.remote.webelement.WebElement (session=\"f3e0a8800572b5816e4881fff9dc8726\", element=\"abc3a00e-4a41-403d-90b0-58495437ed90\")>,\n",
       " <selenium.webdriver.remote.webelement.WebElement (session=\"f3e0a8800572b5816e4881fff9dc8726\", element=\"77d9fa54-6aed-4bab-a9a7-64ce152b50d8\")>,\n",
       " <selenium.webdriver.remote.webelement.WebElement (session=\"f3e0a8800572b5816e4881fff9dc8726\", element=\"819ace76-9dee-4f9e-8da3-9e8752c33ca0\")>,\n",
       " <selenium.webdriver.remote.webelement.WebElement (session=\"f3e0a8800572b5816e4881fff9dc8726\", element=\"44093aa5-d4e2-4f48-8ca9-c18582424263\")>,\n",
       " <selenium.webdriver.remote.webelement.WebElement (session=\"f3e0a8800572b5816e4881fff9dc8726\", element=\"fb6da013-ae98-4216-8ec1-30bd00b55aef\")>,\n",
       " <selenium.webdriver.remote.webelement.WebElement (session=\"f3e0a8800572b5816e4881fff9dc8726\", element=\"7263e5d9-7fbb-43c4-b6e1-476b917cf162\")>,\n",
       " <selenium.webdriver.remote.webelement.WebElement (session=\"f3e0a8800572b5816e4881fff9dc8726\", element=\"46660efb-3b70-4cb0-86da-26d09b72c101\")>,\n",
       " <selenium.webdriver.remote.webelement.WebElement (session=\"f3e0a8800572b5816e4881fff9dc8726\", element=\"4ed5feca-88b0-4c29-867c-f00ef34a814a\")>,\n",
       " <selenium.webdriver.remote.webelement.WebElement (session=\"f3e0a8800572b5816e4881fff9dc8726\", element=\"b6ca8f33-c376-4817-aa7e-6085f2decd5a\")>]"
      ]
     },
     "execution_count": 63,
     "metadata": {},
     "output_type": "execute_result"
    }
   ],
   "source": [
    "# Finding the job descriptions\n",
    "# To find this, we need to go inside every pages. Hence preparing the URL lists.\n",
    "job_url = driver.find_elements_by_xpath(\"//a[@class = 'title fw500 ellipsis']\")\n",
    "job_url"
   ]
  },
  {
   "cell_type": "code",
   "execution_count": 64,
   "id": "guilty-colon",
   "metadata": {},
   "outputs": [
    {
     "data": {
      "text/plain": [
       "['https://www.naukri.com/job-listings-data-analyst-graphy-unacademy-bangalore-bengaluru-1-to-4-years-120521500667?src=jobsearchDesk&sid=16217820071781475_3&xp=1&px=1',\n",
       " 'https://www.naukri.com/job-listings-data-analyst-innovsource-services-private-limited-bangalore-bengaluru-1-to-6-years-220521001189?src=jobsearchDesk&sid=16217820071781475_3&xp=2&px=1',\n",
       " 'https://www.naukri.com/job-listings-data-analyst-python-r-sql-bangalore-persolkelly-india-private-limited-bangalore-bengaluru-2-to-7-years-050521003763?src=jobsearchDesk&sid=16217820071781475_3&xp=3&px=1',\n",
       " 'https://www.naukri.com/job-listings-data-analyst-flipkart-internet-private-limited-bangalore-bengaluru-1-to-3-years-170521905920?src=jobsearchDesk&sid=16217820071781475_3&xp=4&px=1',\n",
       " 'https://www.naukri.com/job-listings-data-analyst-draup-bangalore-bengaluru-1-to-3-years-050521500480?src=jobsearchDesk&sid=16217820071781475_3&xp=5&px=1',\n",
       " 'https://www.naukri.com/job-listings-operations-data-analyst-hiring-for-mnc-upto-5-lpa-sql-experience-universal-manpower-online-bangalore-bengaluru-2-to-7-years-110521004242?src=jobsearchDesk&sid=16217820071781475_3&xp=6&px=1',\n",
       " 'https://www.naukri.com/job-listings-data-analyst-clarivate-analytics-trcpl-projects-pvt-ltd-bangalore-bengaluru-1-to-2-years-140521500814?src=jobsearchDesk&sid=16217820071781475_3&xp=7&px=1',\n",
       " 'https://www.naukri.com/job-listings-data-analyst-bion-bangalore-bengaluru-2-to-5-years-180521907004?src=jobsearchDesk&sid=16217820071781475_3&xp=8&px=1',\n",
       " 'https://www.naukri.com/job-listings-data-analyst-xylem-resource-management-pvt-ltd-bangalore-bengaluru-1-to-3-years-260421001733?src=jobsearchDesk&sid=16217820071781475_3&xp=9&px=1',\n",
       " 'https://www.naukri.com/job-listings-data-analyst-glaxosmithkline-pharmaceuticals-limited-bangalore-bengaluru-0-to-2-years-280421904697?src=jobsearchDesk&sid=16217820071781475_3&xp=10&px=1',\n",
       " 'https://www.naukri.com/job-listings-data-analyst-yoodle-bangalore-bengaluru-1-to-3-years-070521500321?src=jobsearchDesk&sid=16217820071781475_3&xp=11&px=1',\n",
       " 'https://www.naukri.com/job-listings-data-analyst-bytech-india-private-limited-bangalore-bengaluru-delhi-ncr-3-to-4-years-210521004502?src=jobsearchDesk&sid=16217820071781475_3&xp=12&px=1',\n",
       " 'https://www.naukri.com/job-listings-data-analyst-revenue-growth-myntra-designs-pvt-ltd-bangalore-bengaluru-2-to-3-years-230421900780?src=jobsearchDesk&sid=16217820071781475_3&xp=13&px=1',\n",
       " 'https://www.naukri.com/job-listings-data-analyst-myntra-emerging-labels-myntra-designs-pvt-ltd-bangalore-bengaluru-1-to-2-years-230421904087?src=jobsearchDesk&sid=16217820071781475_3&xp=14&px=1',\n",
       " 'https://www.naukri.com/job-listings-mis-data-analyst-docsapp-bangalore-bengaluru-1-to-3-years-010521500095?src=jobsearchDesk&sid=16217820071781475_3&xp=15&px=1',\n",
       " 'https://www.naukri.com/job-listings-urgent-hiring-data-analyst-or-business-analyst-call-us-now-zg-staffing-solutions-pvt-ltd-bangalore-bengaluru-1-to-3-years-220521002150?src=jobsearchDesk&sid=16217820071781475_3&xp=16&px=1',\n",
       " 'https://www.naukri.com/job-listings-data-analyst-operations-analyst-sql-experience-hiring-for-mnc-universal-manpower-online-bangalore-bengaluru-2-to-7-years-110521004331?src=jobsearchDesk&sid=16217820071781475_3&xp=17&px=1',\n",
       " 'https://www.naukri.com/job-listings-data-analyst-asset-management-webhelp-bangalore-bengaluru-bangalore-3-to-3-years-300421001880?src=jobsearchDesk&sid=16217820071781475_3&xp=18&px=1',\n",
       " 'https://www.naukri.com/job-listings-data-analyst-glassbeam-inc-bengaluru-bangalore-1-to-3-years-020119500080?src=jobsearchDesk&sid=16217820071781475_3&xp=19&px=1',\n",
       " 'https://www.naukri.com/job-listings-data-analyst-6sense-bengaluru-bangalore-1-to-4-years-291019501979?src=jobsearchDesk&sid=16217820071781475_3&xp=20&px=1']"
      ]
     },
     "execution_count": 64,
     "metadata": {},
     "output_type": "execute_result"
    }
   ],
   "source": [
    "Job_url_x = []\n",
    "for i in job_url:\n",
    "    Job_url_x.append(i.get_attribute('href'))\n",
    "Job_url_x"
   ]
  },
  {
   "cell_type": "code",
   "execution_count": 65,
   "id": "arranged-convertible",
   "metadata": {},
   "outputs": [],
   "source": [
    "Job_url = Job_url_x[:10]"
   ]
  },
  {
   "cell_type": "code",
   "execution_count": 66,
   "id": "actual-photography",
   "metadata": {},
   "outputs": [
    {
     "data": {
      "text/plain": [
       "['Job descriptionDescriptionWork closely with the business development team to help them scrap data from social media platforms like Instagram, YouTube, Linkedin, etcShould possess a Business mindset and understand upcoming trendsShould be able to identify different categories and scrap data accordinglyUnderstanding of data management using excelRequirementsUnderstanding of scripting languagesSound understanding of Data extraction and web scrapingShould have a logical understanding of Graphy businessExperience required - 1-4 yrsSkill Required - Web Scraping Python Requests,HTML parsing, Pandas will be an added advantageEducation - B.Tech (Computer Science) is preferredBenefitsTop of the Market SalaryGreat learning environmentRoleAssociate/Senior Associate -(NonTechnical)Industry TypeEducation / TrainingFunctional AreaITES, BPO, KPO, LPO, Customer Service, OperationsEmployment TypeFull Time, PermanentRole CategoryVoiceEducationUG :Any Graduate in Any SpecializationPG :Post Graduation Not RequiredKey SkillsExcelData managementSocial mediaData Analyst',\n",
       " 'Job descriptionGreetings..!!Client: Well known Ecommerce CompanyDesignation: Data AnalystExperience: 1 YearCTC: 4.5 L to 5 LacsMandatory skills: Microsoft Excel / SQL / Basic Programming knowledge - R/Python /Regression/Forecasting/Fashion(D1015)/SQL query building / advanced excel/macros knowledge / Python/R / A/B testing / PowerBILocation: Bangalore (WFH)Contract Period: 6 Months to 1 YearRoles and ResponsibilitiesDashboard development and generation for daily, weekly, monthly and all reporting needs. Gather user requirements for new reports and enhance existing reports. Interpret needs and design reports to meet end user expectations.Data modeling, and creation of both logical and physical data models for effective and efficient reporting and TAT on frequent requestsDesign and develop complex data queries to move and transform data from operational data sources to analytical databases. Test all new reports/deliverables and periodically review them for quality control. Data validation and attention to detail is required as this role will be accountable for quality of all the numbers delivered through dashboards or otherwise.Work effectively as part of a team to achieve individual, team and organizational objectives, sharing knowledge and skills. Positively work and influence with team members to partner together to achieve individual, customers and business goalsRequired Technical Skills:Strong experience in building complex SQL queries Advanced Excel & Macros.Strong logical & analytical concepts in databases, schemas, dimensional modellingEnd-to-end Experience in building complex MIS and dashboards especially in QlikView Programming languages like VB, JAVA, C will be good to have Experience in QlikView and Hadoop is highly desirable but not mandatoryDesired Candidate ProfileRevenue, Marketing and Planning(T1060)Perks and BenefitsPF, Medical, InsuranceRoleBusiness AnalystIndustry TypeIT Services & ConsultingFunctional AreaIT Software - Application Programming, MaintenanceEmployment TypeFull Time, PermanentRole CategorySystem Design/Implementation/ERP/CRMEducationUG :Any Graduate in Any SpecializationKey SkillsData AnalysisRegressiondata analystPythonSQL',\n",
       " \"Job descriptionMUST HAVE EXPERIENCE IN DATA ANALYST USING PYTHON / R, AND WRITING SQL,MUST HAVE EXPERIENCE IN DASHBOARD.MUST HAVE EXPERIENCE IN QUALITATIVE AND QUNATITATIVE METHODS.MUST WILLING TO WORK IN ANY SHIFTS.Role:Write SQL queries to measure performance and visibility and based on internal requests from the team.To efficiently manage inter function interactions with all the stakeholders.Be the central depository for all Supply related performance data, reports, contact.Calculate Fill Rate for all Monetised Properties on a weekly basis.Assist with business planning efforts supported by quantitative and qualitative analysis.Create Base Allocation Sheet for all platform level events with complete clarity on supply.Maintain Historical Data Points for BU wise spend data on the monthly basis and Coordinate with respective demand spocs for the same.Create Dashboards and Visualize data Useful for the team.Requirements1. Work-ex should be in the analytical domain with strong experience with Advanced Excel, SQL and Python /R is Must.2. Preferred work-ex 1-4 years.3. Candidates must have at least a bachelor's degree from Tier one Institute. Additional Courses on analytics online would be a plus.4. Strong Stakeholder Management Skills and a team player.4. Knowledge of Tableau/Google data studio would be a Plus.IF INTERSTED, SHARE YOUR RESUME ALONG WITH CURRENT NET, EXPECTED TAKE HOME, MOTICE PERIOD AND REASON FOR LEAVING TO roopa_kotian@kellyservices.co.in or SMS to 9513417626By submitting your curriculum vitae or personal data to us in connection with your job application, you are deemed to have read and agreed to the terms of our Privacy Policy, and consented to the collection, use and disclosure of your personal data by us and our affiliates, in accordance with our Privacy Policy. Please visit www.kellyservices.co.in for a copy of our Privacy Policy. If you wish to withdraw your consent, please drop us an email to let us know.We at Kelly Services India do not ask job seekers to pay any kind of fee, make cash or online payment through any channel in exchange of interviews, offer letters or job for Kelly services or any of our clients . Nor do we ask our candidates to supply credit card numbers, PIN numbers, OTP details relating to bank accounts. If you receive any suspicious requests purportedly from Kelly Services India, please alert us at KellyServicesIndia@kellyservices.co.in.RoleData AnalystIndustry TypeInternetFunctional AreaAnalytics & Business IntelligenceEmployment TypeFull Time, PermanentRole CategoryAnalytics & BIEducationUG :Any Graduate in Any SpecializationKey SkillsRBankingData AnalysisDATA ANALYSTSQLPython\",\n",
       " 'Job descriptionAbout the role:Data Analyst is an Individual Contributor role where you will be responsible for tracking key metrics through building and maintaining data pipelines and dashboards for visualization. Along with this, you will be expected to have a very good handle on different data streams and address the organization’s data requirements. This role will work across functions with other groups in analytics as well as other departments in the company and will be expected to frequently work on data requests from various stakeholdersWhat you’ll do:Gather user requirements for new reports and enhance existing reports. Interpret needs and design reports to meet end user expectationsCreate and maintain reporting tools and applications to support all strategic and tactical needs of the company. Dashboard development and generation for daily, weekly, monthly and all reporting needsDesign and develop complex data queries to move and transform data from operational data sources to analytical databasesTest all new reports/deliverables and periodically review them for quality controlWhat you’ll need:Technical capabilities: Strong experience in SQL - should be able to build complex and optimized queriesStrong experience in Excel - should be comfortable with advanced functions. Understanding of macros is beneficialStrong logical & analytical concepts in databases, schemas, dimensional modellingGood to have : Basic understanding of scripting languages (R, Python, etc.)Good to have : Experience with BI tools (Power BI, Tableau, Qlikview, Datastudio, etc)Good to have : Working knowledge of data warehousing infra tools like HiveRequired abilities / competencies:Attention to detail and strong data orientationAbility to adapt to and learn new tools/ techniques quicklyVery good written and verbal communication skillsAbility to multitask and work on a diverse range of requirementsStrong rigor in automating repetitive tasksGood to have : understanding of ecommerce/ retail businessWork ex:1+ Years of experience in relevant roleRoleData AnalystIndustry TypeRetailFunctional AreaAnalytics & Business IntelligenceEmployment TypeFull Time, PermanentRole CategoryAnalytics & BIEducationUG :Any Graduate in Any SpecializationPG :Any Postgraduate in Any SpecializationKey SkillsRHiveExcelBig DataData AnalysisTableauData WarehousingQlikViewSQLPython',\n",
       " 'Job descriptionFinding Data flow issues in system and works with developers to restrict the issue occurring scenarios proactively.Creating automated alert mails whenever exceptions found in the system to respective stakeholders.Solving external and internal customer data queries through tools and technologies / manual research whenever required.Testing the Developer codes solves the business issues parallelly.Supporting initiatives for data integrity and normalization.Providing technical expertise on data storage structures, data mining, and data cleansing.Evaluating changes and updates to source production systems.Provide quality assurance of imported data, working with quality assurance analyst if necessary.Managing master data, including creation, updates, and deletion.Locate and define new process improvement/ existing process optimization opportunities.What Will NeedAbility to integrate disparate data sourcesExtensive experience to create Excel charts, Fuzzy Match, Pivots and AnalysisStrong attention to detail, with a research-focused mindsetExcellent critical thinking and problem-solving skillsHigh motivation, good work ethic and maturityExposure to tools/platforms (Databricks, MySQL, Mongo DB, Postgres)Demonstrated experience in handling large data sets and relational databases.Ability to work with stakeholders to assess potential risks.What Will NeedKnowledge of big data/ analytics conceptsKnowledge of programming (Python/R)Good Exposure to develop macros in ExcelRoleAssociate/Senior Associate -(NonTechnical)Industry TypeIT Services & ConsultingFunctional AreaITES, BPO, KPO, LPO, Customer Service, OperationsEmployment TypeFull Time, PermanentRole CategoryVoiceEducationUG :Any Graduate in Any SpecializationPG :Post Graduation Not RequiredKey Skillsdata cleansingPDFProcess improvementMySQLConsultingdata integrityData miningMacrosAnalyticsPython',\n",
       " 'Job descriptionReceiving, checking & processing invoices, and tracking payments to vendors.Execute legal documents related to external service providersCreation of Purchase RequestsHandle vendor Support/QueriesCheck with dispatch & pick up updatesRequired Candidate profileExperience working with courier vendors, business teams & office staff.Knowledge of vendor invoicing & payments.Experience in logistics handling dispatchWorking knowledge of procurement systems.RoleLogistics ExecutiveIndustry TypeCourier / LogisticsFunctional AreaPurchase / Logistics / Supply ChainEmployment TypeFull Time, PermanentRole CategoryLogisticsEducationUG :Any Graduate in Any SpecializationKey SkillsVendor Paymentsoperation data analystInvoice ProcessingInventory ManagementVendor ReconciliationSupply Chain OperationsWarehouse ManagementOperationsdata analystoperations executivesql',\n",
       " 'Job descriptionThis function is responsible for working with the commercial strategy team to develop pricing applications.This function also includes understanding the customer dynamics to build and maintain customer insights dashboardShe/he is responsible for liaising with sales and other stakeholders to manage systematic price increasePrepare reports and info-graphics for reporting to senior management on a regular basisCollaborate with various teams to gather required dataAnalyze data and prepare reports to measure performance of a product/business units and provide meaningful insights to drive decision makingProfile Sought:This role requires a business-credible individual who possesses a commercial mindset and a data-driven approach. The candidate should have a minimum of 1 year coding experience in data management, or in data warehousing or at least have experience working in structured data environments.Knowledge, Skills, and Qualifications:1-2 years experience in working in ETL1-2 years experience with Relational Database Systems and SQLExperience in Python or R is preferredGood analytical, verbal, and written communication skillsEducationB.E. / B. TECH (Computer science preferred)RoleSystem AnalystIndustry TypeIT Services & ConsultingFunctional AreaIT Software - QA & TestingEmployment TypeFull Time, PermanentRole CategoryProgramming & DesignEducationUG :Any Graduate in Any SpecializationPG :Any Postgraduate in Any SpecializationKey SkillsGraphicsComputer scienceData managementCodingStock exchangeAnalyticalIntellectual propertyData warehousingSQLPython',\n",
       " 'Job descriptionYou will work with multiple stakeholders (Technical and Functional) to articulate functional requirements, you will also identify areas for data quality improvement and help to resolve data quality problems.RoleData AnalystIndustry TypeIT Services & ConsultingFunctional AreaAnalytics & Business IntelligenceEmployment TypeFull Time, PermanentRole CategoryAnalytics & BIEducationUG :B.Tech/B.E. in Any SpecializationPG :Any Postgraduate in Any SpecializationDoctorate :Doctorate Not RequiredKey SkillsCommunication Skills Web Analytics Product ManagementData Analysis Product Development',\n",
       " 'Job descriptionRoles and ResponsibilitiesPC Services Data AnalystThis position is located in Bangalore, India.The PC Services Data Analyst is responsible to extract data to provide post-sale support in coordination with our internal sales team as well as our Channel Partners. This position will be working closely with HP Sales and Product Category teams in Greater Asia and India market along with a variety of internal support organizations as required. As a member of the Services team, this position engages closely with the data analytics team to drive business excellence by providing accurate data for Demand Gen activities on a daily basis. This individual will develop and enhance business data and category related admin activitiesRole Responsibilities:Owns PC Services Data extraction responsibility used for DemandGen activities. (CAMs tool, IBSVCube and Channel DNA)Responsible for providing data related support for Sales Coverage and funnel development.Reporting & analytics: Orders Performance tracking; Country/Enterprise/Channel Partner/Sales Performance analytics; Services & Solutions AUP/repricing assessmentAd-hoc business reporting, modeling, and special projectsAdmin support (PO generation for internal and vendor related)Education and Experience Required:Typically 1-3 years experience in data extraction, reporting, or related functional area.First level university degree.Knowledge and Skills Required:Demonstrated business acumen and technical knowledge (VBA scripts) within data extraction and area of responsibility.Strong analytical thinking, technical analysis, and data manipulation skills.Ability to learn and draw on new analytical techniques.Strong knowledge of Excel (includes Macros) and financial modeling.Strong verbal and written communication skillsRoleData AnalystIndustry TypeHardware & NetworkingFunctional AreaAnalytics & Business IntelligenceEmployment TypeFull Time, PermanentRole CategoryAnalytics & BIEducationUG :Any Graduate in Any SpecializationPG :Post Graduation Not RequiredDoctorate :Doctorate Not RequiredKey SkillsChannel PartnersProduct SalesData AnalysisData ExtractionBusiness ExcellenceData AnalyticsMacrosDemand Gen Activities',\n",
       " '-']"
      ]
     },
     "execution_count": 66,
     "metadata": {},
     "output_type": "execute_result"
    }
   ],
   "source": [
    "Job_desc = []\n",
    "for i in Job_url:\n",
    "    driver.get(i)\n",
    "    time.sleep(3)\n",
    "    try:\n",
    "        job_desc = driver.find_element_by_xpath(\"//section[@class = 'job-desc']\")\n",
    "        Job_desc.append(job_desc.text.replace('\\n', ''))\n",
    "    except NoSuchElementException:\n",
    "        Job_desc.append('-')\n",
    "        \n",
    "Job_desc"
   ]
  },
  {
   "cell_type": "code",
   "execution_count": 67,
   "id": "offensive-conviction",
   "metadata": {},
   "outputs": [],
   "source": [
    "Naukri = pd.DataFrame({})\n",
    "Naukri['Job Title'] = Job_titles\n",
    "Naukri['Company Name'] = Company_name\n",
    "Naukri['Location'] = Job_location\n",
    "Naukri['Job Description'] = Job_desc"
   ]
  },
  {
   "cell_type": "code",
   "execution_count": 68,
   "id": "interpreted-amateur",
   "metadata": {},
   "outputs": [
    {
     "data": {
      "text/html": [
       "<div>\n",
       "<style scoped>\n",
       "    .dataframe tbody tr th:only-of-type {\n",
       "        vertical-align: middle;\n",
       "    }\n",
       "\n",
       "    .dataframe tbody tr th {\n",
       "        vertical-align: top;\n",
       "    }\n",
       "\n",
       "    .dataframe thead th {\n",
       "        text-align: right;\n",
       "    }\n",
       "</style>\n",
       "<table border=\"1\" class=\"dataframe\">\n",
       "  <thead>\n",
       "    <tr style=\"text-align: right;\">\n",
       "      <th></th>\n",
       "      <th>Job Title</th>\n",
       "      <th>Company Name</th>\n",
       "      <th>Location</th>\n",
       "      <th>Job Description</th>\n",
       "    </tr>\n",
       "  </thead>\n",
       "  <tbody>\n",
       "    <tr>\n",
       "      <th>0</th>\n",
       "      <td>Data Analyst - Graphy</td>\n",
       "      <td>Unacademy</td>\n",
       "      <td>Bangalore/Bengaluru</td>\n",
       "      <td>Job descriptionDescriptionWork closely with th...</td>\n",
       "    </tr>\n",
       "    <tr>\n",
       "      <th>1</th>\n",
       "      <td>Data Analyst</td>\n",
       "      <td>Innovsource Services Private Limited</td>\n",
       "      <td>Bangalore/Bengaluru</td>\n",
       "      <td>Job descriptionGreetings..!!Client: Well known...</td>\n",
       "    </tr>\n",
       "    <tr>\n",
       "      <th>2</th>\n",
       "      <td>Data Analyst / Python R/ SQL @ Bangalore</td>\n",
       "      <td>PERSOLKELLY INDIA PRIVATE LIMITED</td>\n",
       "      <td>Bangalore/Bengaluru</td>\n",
       "      <td>Job descriptionMUST HAVE EXPERIENCE IN DATA AN...</td>\n",
       "    </tr>\n",
       "    <tr>\n",
       "      <th>3</th>\n",
       "      <td>Data Analyst</td>\n",
       "      <td>Flipkart Internet Private Limited</td>\n",
       "      <td>Bangalore/Bengaluru</td>\n",
       "      <td>Job descriptionAbout the role:Data Analyst is ...</td>\n",
       "    </tr>\n",
       "    <tr>\n",
       "      <th>4</th>\n",
       "      <td>Data Analyst</td>\n",
       "      <td>Draup</td>\n",
       "      <td>Bangalore/Bengaluru</td>\n",
       "      <td>Job descriptionFinding Data flow issues in sys...</td>\n",
       "    </tr>\n",
       "    <tr>\n",
       "      <th>5</th>\n",
       "      <td>Operations Data Analyst - Hiring For MNC - Upt...</td>\n",
       "      <td>Universal Manpower Online</td>\n",
       "      <td>Bangalore/Bengaluru</td>\n",
       "      <td>Job descriptionReceiving, checking &amp; processin...</td>\n",
       "    </tr>\n",
       "    <tr>\n",
       "      <th>6</th>\n",
       "      <td>Data Analyst</td>\n",
       "      <td>Clarivate Analytics (TRCPL Projects Pvt Ltd.)</td>\n",
       "      <td>Bangalore/Bengaluru</td>\n",
       "      <td>Job descriptionThis function is responsible fo...</td>\n",
       "    </tr>\n",
       "    <tr>\n",
       "      <th>7</th>\n",
       "      <td>Data Analyst</td>\n",
       "      <td>Bion</td>\n",
       "      <td>Bangalore/Bengaluru</td>\n",
       "      <td>Job descriptionYou will work with multiple sta...</td>\n",
       "    </tr>\n",
       "    <tr>\n",
       "      <th>8</th>\n",
       "      <td>Data Analyst</td>\n",
       "      <td>Xylem Resource Management Pvt. Ltd.</td>\n",
       "      <td>Bangalore/Bengaluru</td>\n",
       "      <td>Job descriptionRoles and ResponsibilitiesPC Se...</td>\n",
       "    </tr>\n",
       "    <tr>\n",
       "      <th>9</th>\n",
       "      <td>Data Analyst</td>\n",
       "      <td>GlaxoSmithKline Pharmaceuticals Limited</td>\n",
       "      <td>Bangalore/Bengaluru</td>\n",
       "      <td>-</td>\n",
       "    </tr>\n",
       "  </tbody>\n",
       "</table>\n",
       "</div>"
      ],
      "text/plain": [
       "                                           Job Title  \\\n",
       "0                              Data Analyst - Graphy   \n",
       "1                                       Data Analyst   \n",
       "2           Data Analyst / Python R/ SQL @ Bangalore   \n",
       "3                                       Data Analyst   \n",
       "4                                       Data Analyst   \n",
       "5  Operations Data Analyst - Hiring For MNC - Upt...   \n",
       "6                                       Data Analyst   \n",
       "7                                       Data Analyst   \n",
       "8                                       Data Analyst   \n",
       "9                                       Data Analyst   \n",
       "\n",
       "                                    Company Name             Location  \\\n",
       "0                                      Unacademy  Bangalore/Bengaluru   \n",
       "1           Innovsource Services Private Limited  Bangalore/Bengaluru   \n",
       "2              PERSOLKELLY INDIA PRIVATE LIMITED  Bangalore/Bengaluru   \n",
       "3              Flipkart Internet Private Limited  Bangalore/Bengaluru   \n",
       "4                                          Draup  Bangalore/Bengaluru   \n",
       "5                      Universal Manpower Online  Bangalore/Bengaluru   \n",
       "6  Clarivate Analytics (TRCPL Projects Pvt Ltd.)  Bangalore/Bengaluru   \n",
       "7                                           Bion  Bangalore/Bengaluru   \n",
       "8            Xylem Resource Management Pvt. Ltd.  Bangalore/Bengaluru   \n",
       "9        GlaxoSmithKline Pharmaceuticals Limited  Bangalore/Bengaluru   \n",
       "\n",
       "                                     Job Description  \n",
       "0  Job descriptionDescriptionWork closely with th...  \n",
       "1  Job descriptionGreetings..!!Client: Well known...  \n",
       "2  Job descriptionMUST HAVE EXPERIENCE IN DATA AN...  \n",
       "3  Job descriptionAbout the role:Data Analyst is ...  \n",
       "4  Job descriptionFinding Data flow issues in sys...  \n",
       "5  Job descriptionReceiving, checking & processin...  \n",
       "6  Job descriptionThis function is responsible fo...  \n",
       "7  Job descriptionYou will work with multiple sta...  \n",
       "8  Job descriptionRoles and ResponsibilitiesPC Se...  \n",
       "9                                                  -  "
      ]
     },
     "execution_count": 68,
     "metadata": {},
     "output_type": "execute_result"
    }
   ],
   "source": [
    "Naukri"
   ]
  },
  {
   "cell_type": "markdown",
   "id": "large-prayer",
   "metadata": {},
   "source": [
    "# Q4"
   ]
  },
  {
   "cell_type": "code",
   "execution_count": 69,
   "id": "vocal-telescope",
   "metadata": {},
   "outputs": [],
   "source": [
    "# Glassdoor URL\n",
    "url = 'https://www.glassdoor.co.in/index.htm'\n",
    "driver.get(url)"
   ]
  },
  {
   "cell_type": "code",
   "execution_count": 72,
   "id": "beginning-tissue",
   "metadata": {},
   "outputs": [],
   "source": [
    "# Entering the job search\n",
    "job_search = driver.find_element_by_id('sc.keyword')\n",
    "job_search.click()"
   ]
  },
  {
   "cell_type": "code",
   "execution_count": 73,
   "id": "turned-hopkins",
   "metadata": {},
   "outputs": [
    {
     "data": {
      "text/plain": [
       "<selenium.webdriver.remote.webelement.WebElement (session=\"f3e0a8800572b5816e4881fff9dc8726\", element=\"012d97c4-0d6e-40f2-81ab-5e9366f014d9\")>"
      ]
     },
     "execution_count": 73,
     "metadata": {},
     "output_type": "execute_result"
    }
   ],
   "source": [
    "# Entering the location search\n",
    "location_search = driver.find_element_by_id('sc.location')\n",
    "location_search"
   ]
  },
  {
   "cell_type": "code",
   "execution_count": 74,
   "id": "blind-aspect",
   "metadata": {},
   "outputs": [],
   "source": [
    "# Running this because location_search.clear() didn't work.\n",
    "for i in range (0,9):\n",
    "    location_search.send_keys(Keys.BACK_SPACE)"
   ]
  },
  {
   "cell_type": "code",
   "execution_count": 75,
   "id": "foster-roads",
   "metadata": {},
   "outputs": [],
   "source": [
    "job_search.send_keys('Data Scientist')\n",
    "location_search.send_keys('Noida')"
   ]
  },
  {
   "cell_type": "code",
   "execution_count": 76,
   "id": "handy-swiss",
   "metadata": {},
   "outputs": [],
   "source": [
    "search_button = driver.find_element_by_xpath(\"//button[@class = 'gd-ui-button ml-std col-auto SearchStyles__newSearchButton css-iixdfr']\")\n",
    "search_button.click()"
   ]
  },
  {
   "cell_type": "code",
   "execution_count": 77,
   "id": "variable-respect",
   "metadata": {},
   "outputs": [
    {
     "data": {
      "text/plain": [
       "[<selenium.webdriver.remote.webelement.WebElement (session=\"f3e0a8800572b5816e4881fff9dc8726\", element=\"c1d47d42-a151-4cb9-92c4-e394c785c47d\")>,\n",
       " <selenium.webdriver.remote.webelement.WebElement (session=\"f3e0a8800572b5816e4881fff9dc8726\", element=\"ca3c9ed3-3f2c-4c4d-9181-74ea7bf22c0d\")>,\n",
       " <selenium.webdriver.remote.webelement.WebElement (session=\"f3e0a8800572b5816e4881fff9dc8726\", element=\"22b79228-4983-46db-ba7b-bd46568987f8\")>,\n",
       " <selenium.webdriver.remote.webelement.WebElement (session=\"f3e0a8800572b5816e4881fff9dc8726\", element=\"9e13b008-2029-4bc0-964c-52a9a49e2870\")>,\n",
       " <selenium.webdriver.remote.webelement.WebElement (session=\"f3e0a8800572b5816e4881fff9dc8726\", element=\"ee0e7f37-2efc-4266-bfc4-eaecc58729d8\")>,\n",
       " <selenium.webdriver.remote.webelement.WebElement (session=\"f3e0a8800572b5816e4881fff9dc8726\", element=\"da590332-ff74-4eb6-bd86-75d79fe80965\")>,\n",
       " <selenium.webdriver.remote.webelement.WebElement (session=\"f3e0a8800572b5816e4881fff9dc8726\", element=\"12f88076-66fa-4103-a657-8f27c8b82c07\")>,\n",
       " <selenium.webdriver.remote.webelement.WebElement (session=\"f3e0a8800572b5816e4881fff9dc8726\", element=\"24fe00ff-ed22-4ee7-85ee-1a2f7d7d524b\")>,\n",
       " <selenium.webdriver.remote.webelement.WebElement (session=\"f3e0a8800572b5816e4881fff9dc8726\", element=\"26c4743f-da22-4642-8fcd-ea45c7aeb828\")>,\n",
       " <selenium.webdriver.remote.webelement.WebElement (session=\"f3e0a8800572b5816e4881fff9dc8726\", element=\"15b6e2da-7137-41d2-bafa-c0213c1b2b61\")>,\n",
       " <selenium.webdriver.remote.webelement.WebElement (session=\"f3e0a8800572b5816e4881fff9dc8726\", element=\"74a8581d-49e7-4150-a812-f818cbb19db1\")>,\n",
       " <selenium.webdriver.remote.webelement.WebElement (session=\"f3e0a8800572b5816e4881fff9dc8726\", element=\"711af248-dcf3-4607-8589-31a350767754\")>,\n",
       " <selenium.webdriver.remote.webelement.WebElement (session=\"f3e0a8800572b5816e4881fff9dc8726\", element=\"498250b7-56a9-4a33-a748-702adb5a55c3\")>,\n",
       " <selenium.webdriver.remote.webelement.WebElement (session=\"f3e0a8800572b5816e4881fff9dc8726\", element=\"d9742c9b-1c41-4be0-9c04-b664c00b24bd\")>,\n",
       " <selenium.webdriver.remote.webelement.WebElement (session=\"f3e0a8800572b5816e4881fff9dc8726\", element=\"b71ec2fc-8b49-468b-bf97-234904aa72bb\")>,\n",
       " <selenium.webdriver.remote.webelement.WebElement (session=\"f3e0a8800572b5816e4881fff9dc8726\", element=\"68447f89-51ae-4f6d-8768-8523ed9f6763\")>,\n",
       " <selenium.webdriver.remote.webelement.WebElement (session=\"f3e0a8800572b5816e4881fff9dc8726\", element=\"2afceb6b-32f3-4e21-9fea-3acdad0e931b\")>,\n",
       " <selenium.webdriver.remote.webelement.WebElement (session=\"f3e0a8800572b5816e4881fff9dc8726\", element=\"5ab59222-b401-400b-9b73-4a85575c3524\")>,\n",
       " <selenium.webdriver.remote.webelement.WebElement (session=\"f3e0a8800572b5816e4881fff9dc8726\", element=\"dd9b2f44-cc8e-4fd5-b279-89cb8bcb6478\")>,\n",
       " <selenium.webdriver.remote.webelement.WebElement (session=\"f3e0a8800572b5816e4881fff9dc8726\", element=\"6864478a-25b0-4d9e-8937-990a34bf4eb8\")>,\n",
       " <selenium.webdriver.remote.webelement.WebElement (session=\"f3e0a8800572b5816e4881fff9dc8726\", element=\"74d7a443-1801-4fe8-b275-e58a0831b6f7\")>,\n",
       " <selenium.webdriver.remote.webelement.WebElement (session=\"f3e0a8800572b5816e4881fff9dc8726\", element=\"361ea1f9-44d9-423b-80a4-2cba52ba1d47\")>,\n",
       " <selenium.webdriver.remote.webelement.WebElement (session=\"f3e0a8800572b5816e4881fff9dc8726\", element=\"c5c52994-7f27-43d0-b70d-9afe59e178d4\")>,\n",
       " <selenium.webdriver.remote.webelement.WebElement (session=\"f3e0a8800572b5816e4881fff9dc8726\", element=\"03624bd7-4bcc-4dab-8a6b-25590c938145\")>,\n",
       " <selenium.webdriver.remote.webelement.WebElement (session=\"f3e0a8800572b5816e4881fff9dc8726\", element=\"55351224-ef5d-43a8-a19f-42d349578bb2\")>,\n",
       " <selenium.webdriver.remote.webelement.WebElement (session=\"f3e0a8800572b5816e4881fff9dc8726\", element=\"40be72c9-010b-4e9c-a205-deb541396434\")>,\n",
       " <selenium.webdriver.remote.webelement.WebElement (session=\"f3e0a8800572b5816e4881fff9dc8726\", element=\"b2db88e9-e019-40a9-816c-6cf566a14af6\")>,\n",
       " <selenium.webdriver.remote.webelement.WebElement (session=\"f3e0a8800572b5816e4881fff9dc8726\", element=\"98bf699d-72d6-4fcf-94d1-b18560d1ce2e\")>,\n",
       " <selenium.webdriver.remote.webelement.WebElement (session=\"f3e0a8800572b5816e4881fff9dc8726\", element=\"e70427e0-b1c2-4e3e-979d-342c0eb88d96\")>,\n",
       " <selenium.webdriver.remote.webelement.WebElement (session=\"f3e0a8800572b5816e4881fff9dc8726\", element=\"1a742575-e099-4c9e-9957-13ac6cdba0b0\")>]"
      ]
     },
     "execution_count": 77,
     "metadata": {},
     "output_type": "execute_result"
    }
   ],
   "source": [
    "time.sleep(5)\n",
    "# Extracting Company Names\n",
    "company_name = driver.find_elements_by_xpath(\"//div[@class = 'd-flex justify-content-between align-items-start']\")\n",
    "company_name"
   ]
  },
  {
   "cell_type": "code",
   "execution_count": 78,
   "id": "ranking-ownership",
   "metadata": {},
   "outputs": [
    {
     "data": {
      "text/plain": [
       "['Adobe',\n",
       " 'CRMNEXT',\n",
       " 'NatWest Group',\n",
       " 'Ericsson',\n",
       " 'Biz2Credit Inc',\n",
       " 'WishFin',\n",
       " 'CRMNEXT',\n",
       " 'Adobe',\n",
       " 'Techlive',\n",
       " 'dunnhumby']"
      ]
     },
     "execution_count": 78,
     "metadata": {},
     "output_type": "execute_result"
    }
   ],
   "source": [
    "Comp_name = []\n",
    "for i in company_name:\n",
    "    Comp_name.append(i.text)\n",
    "Company_Name = Comp_name[:10]\n",
    "Company_Name"
   ]
  },
  {
   "cell_type": "code",
   "execution_count": 79,
   "id": "blessed-anime",
   "metadata": {},
   "outputs": [
    {
     "data": {
      "text/plain": [
       "[<selenium.webdriver.remote.webelement.WebElement (session=\"f3e0a8800572b5816e4881fff9dc8726\", element=\"a9cec6e4-1503-4c4e-b638-44148b1c1872\")>,\n",
       " <selenium.webdriver.remote.webelement.WebElement (session=\"f3e0a8800572b5816e4881fff9dc8726\", element=\"4550ae19-3842-448a-8e1d-b8f07d828e9c\")>,\n",
       " <selenium.webdriver.remote.webelement.WebElement (session=\"f3e0a8800572b5816e4881fff9dc8726\", element=\"7722144c-8978-48ce-a2aa-d30624ad6915\")>,\n",
       " <selenium.webdriver.remote.webelement.WebElement (session=\"f3e0a8800572b5816e4881fff9dc8726\", element=\"7b9adced-bf19-49f7-a75a-3bcb78a7692d\")>,\n",
       " <selenium.webdriver.remote.webelement.WebElement (session=\"f3e0a8800572b5816e4881fff9dc8726\", element=\"080685ef-ac0d-440b-a9e5-6817c145a546\")>,\n",
       " <selenium.webdriver.remote.webelement.WebElement (session=\"f3e0a8800572b5816e4881fff9dc8726\", element=\"8b35e116-167e-4082-80f5-da22143f4c8b\")>,\n",
       " <selenium.webdriver.remote.webelement.WebElement (session=\"f3e0a8800572b5816e4881fff9dc8726\", element=\"4cd9b3f1-a281-412c-a9dc-9f228201e03f\")>,\n",
       " <selenium.webdriver.remote.webelement.WebElement (session=\"f3e0a8800572b5816e4881fff9dc8726\", element=\"53f27ebe-9e70-4a58-98b9-f5db0979ccb8\")>,\n",
       " <selenium.webdriver.remote.webelement.WebElement (session=\"f3e0a8800572b5816e4881fff9dc8726\", element=\"6c9af1f0-24f5-4f5f-8312-6fb296ff9b49\")>,\n",
       " <selenium.webdriver.remote.webelement.WebElement (session=\"f3e0a8800572b5816e4881fff9dc8726\", element=\"d764a6d1-5dd5-4142-a66a-bc4a7650dfc8\")>,\n",
       " <selenium.webdriver.remote.webelement.WebElement (session=\"f3e0a8800572b5816e4881fff9dc8726\", element=\"6760ac5a-de80-4509-a130-f8a1adb42bc6\")>,\n",
       " <selenium.webdriver.remote.webelement.WebElement (session=\"f3e0a8800572b5816e4881fff9dc8726\", element=\"0a0d283e-e1bc-417e-8b93-ace1148cd338\")>,\n",
       " <selenium.webdriver.remote.webelement.WebElement (session=\"f3e0a8800572b5816e4881fff9dc8726\", element=\"90955941-e330-4229-882c-34bd4d57a1ad\")>,\n",
       " <selenium.webdriver.remote.webelement.WebElement (session=\"f3e0a8800572b5816e4881fff9dc8726\", element=\"f4bda267-8cb5-49cb-b152-368f23388dbb\")>,\n",
       " <selenium.webdriver.remote.webelement.WebElement (session=\"f3e0a8800572b5816e4881fff9dc8726\", element=\"7542b26c-e309-4223-bb0a-d7d46f1b115b\")>,\n",
       " <selenium.webdriver.remote.webelement.WebElement (session=\"f3e0a8800572b5816e4881fff9dc8726\", element=\"2946a7d2-4582-42da-900b-3058b9c53e98\")>,\n",
       " <selenium.webdriver.remote.webelement.WebElement (session=\"f3e0a8800572b5816e4881fff9dc8726\", element=\"58f003f4-ba75-4c9f-b7c1-1dafecbef1bc\")>,\n",
       " <selenium.webdriver.remote.webelement.WebElement (session=\"f3e0a8800572b5816e4881fff9dc8726\", element=\"23a8a8d5-6566-4e26-9e99-914e0fea93b8\")>,\n",
       " <selenium.webdriver.remote.webelement.WebElement (session=\"f3e0a8800572b5816e4881fff9dc8726\", element=\"3a923332-f252-4191-bda0-f7b7b7380af7\")>,\n",
       " <selenium.webdriver.remote.webelement.WebElement (session=\"f3e0a8800572b5816e4881fff9dc8726\", element=\"e2cb9856-f6aa-4f3e-a0ba-de101c6a3660\")>,\n",
       " <selenium.webdriver.remote.webelement.WebElement (session=\"f3e0a8800572b5816e4881fff9dc8726\", element=\"a499ef82-62a6-46ac-9c5c-e5b29c878110\")>,\n",
       " <selenium.webdriver.remote.webelement.WebElement (session=\"f3e0a8800572b5816e4881fff9dc8726\", element=\"b0f97e40-9369-4774-a412-5f432fb180e4\")>,\n",
       " <selenium.webdriver.remote.webelement.WebElement (session=\"f3e0a8800572b5816e4881fff9dc8726\", element=\"27c9678f-4be5-4965-8649-5d876486c09c\")>,\n",
       " <selenium.webdriver.remote.webelement.WebElement (session=\"f3e0a8800572b5816e4881fff9dc8726\", element=\"18f1778f-11c1-4043-8181-f780c9bd869a\")>,\n",
       " <selenium.webdriver.remote.webelement.WebElement (session=\"f3e0a8800572b5816e4881fff9dc8726\", element=\"b6d75d3b-8759-4620-ac4f-6fa840ec659a\")>,\n",
       " <selenium.webdriver.remote.webelement.WebElement (session=\"f3e0a8800572b5816e4881fff9dc8726\", element=\"ca6e15f3-889a-47f2-a7ad-a75f768b2cd0\")>,\n",
       " <selenium.webdriver.remote.webelement.WebElement (session=\"f3e0a8800572b5816e4881fff9dc8726\", element=\"34de0fb6-c274-481e-8e9f-00823a40a249\")>,\n",
       " <selenium.webdriver.remote.webelement.WebElement (session=\"f3e0a8800572b5816e4881fff9dc8726\", element=\"a3ae88d1-50a3-40a3-b7a1-cddb154cab50\")>,\n",
       " <selenium.webdriver.remote.webelement.WebElement (session=\"f3e0a8800572b5816e4881fff9dc8726\", element=\"584b45a7-1308-46c9-9238-72d61498b1e3\")>,\n",
       " <selenium.webdriver.remote.webelement.WebElement (session=\"f3e0a8800572b5816e4881fff9dc8726\", element=\"26c1dd26-03f8-436d-89c3-df2bc845a8b4\")>]"
      ]
     },
     "execution_count": 79,
     "metadata": {},
     "output_type": "execute_result"
    }
   ],
   "source": [
    "date_post = driver.find_elements_by_xpath(\"//div[@class = 'd-flex align-items-end pl-std css-mi55ob']\")\n",
    "date_post"
   ]
  },
  {
   "cell_type": "code",
   "execution_count": 80,
   "id": "personalized-thickness",
   "metadata": {},
   "outputs": [
    {
     "data": {
      "text/plain": [
       "['29d', '16d', '24h', '4d', '30d+', '30d+', '16d', '2d', '30d+', '2d']"
      ]
     },
     "execution_count": 80,
     "metadata": {},
     "output_type": "execute_result"
    }
   ],
   "source": [
    "Date_post = []\n",
    "for i in date_post:\n",
    "    Date_post.append(i.text)\n",
    "Date_posted = Date_post[:10]\n",
    "Date_posted"
   ]
  },
  {
   "cell_type": "code",
   "execution_count": 81,
   "id": "ongoing-opposition",
   "metadata": {},
   "outputs": [
    {
     "data": {
      "text/plain": [
       "[<selenium.webdriver.remote.webelement.WebElement (session=\"f3e0a8800572b5816e4881fff9dc8726\", element=\"a052624a-c50e-448a-98b6-a05d0aee9d90\")>,\n",
       " <selenium.webdriver.remote.webelement.WebElement (session=\"f3e0a8800572b5816e4881fff9dc8726\", element=\"7393e041-34c5-48eb-80ff-ebfdf21f230d\")>,\n",
       " <selenium.webdriver.remote.webelement.WebElement (session=\"f3e0a8800572b5816e4881fff9dc8726\", element=\"bbf1219a-328d-46b1-8328-d33cfec3b23f\")>,\n",
       " <selenium.webdriver.remote.webelement.WebElement (session=\"f3e0a8800572b5816e4881fff9dc8726\", element=\"20849524-0b88-4adf-af9e-82d9ce070af3\")>,\n",
       " <selenium.webdriver.remote.webelement.WebElement (session=\"f3e0a8800572b5816e4881fff9dc8726\", element=\"3753f3fd-f51c-42af-b3cf-b3d3f2ac28fb\")>,\n",
       " <selenium.webdriver.remote.webelement.WebElement (session=\"f3e0a8800572b5816e4881fff9dc8726\", element=\"52f28ffc-c3c9-41ac-b390-f081f86822ee\")>,\n",
       " <selenium.webdriver.remote.webelement.WebElement (session=\"f3e0a8800572b5816e4881fff9dc8726\", element=\"d02e3fcb-4b2d-4546-b109-fdfa9dab2d5b\")>,\n",
       " <selenium.webdriver.remote.webelement.WebElement (session=\"f3e0a8800572b5816e4881fff9dc8726\", element=\"7a9cc041-6137-45eb-abfe-b9d41af5a9b5\")>,\n",
       " <selenium.webdriver.remote.webelement.WebElement (session=\"f3e0a8800572b5816e4881fff9dc8726\", element=\"45387de8-452d-4f02-8434-6e9b54ea3c34\")>,\n",
       " <selenium.webdriver.remote.webelement.WebElement (session=\"f3e0a8800572b5816e4881fff9dc8726\", element=\"f6a3fedf-4429-4b79-a6db-964af665ceca\")>,\n",
       " <selenium.webdriver.remote.webelement.WebElement (session=\"f3e0a8800572b5816e4881fff9dc8726\", element=\"ec93c589-e1e4-4c8e-86fc-36d93e52a5a5\")>,\n",
       " <selenium.webdriver.remote.webelement.WebElement (session=\"f3e0a8800572b5816e4881fff9dc8726\", element=\"0b1d96e0-2ab7-4f5b-8e86-a2fba3df004b\")>,\n",
       " <selenium.webdriver.remote.webelement.WebElement (session=\"f3e0a8800572b5816e4881fff9dc8726\", element=\"68b9a6d1-9fae-4d92-a20f-dea5b78fc23e\")>,\n",
       " <selenium.webdriver.remote.webelement.WebElement (session=\"f3e0a8800572b5816e4881fff9dc8726\", element=\"8b1437f9-b5ee-4ca6-aeb7-ca309eb99620\")>,\n",
       " <selenium.webdriver.remote.webelement.WebElement (session=\"f3e0a8800572b5816e4881fff9dc8726\", element=\"cc16c67d-93b8-49eb-9412-def1fd47dcfd\")>,\n",
       " <selenium.webdriver.remote.webelement.WebElement (session=\"f3e0a8800572b5816e4881fff9dc8726\", element=\"72c62abc-175f-41e4-8974-bef7d768fab6\")>,\n",
       " <selenium.webdriver.remote.webelement.WebElement (session=\"f3e0a8800572b5816e4881fff9dc8726\", element=\"919f00ad-b46e-497b-81ad-a45a3f3b3566\")>,\n",
       " <selenium.webdriver.remote.webelement.WebElement (session=\"f3e0a8800572b5816e4881fff9dc8726\", element=\"f5d96a3a-fce9-434c-8196-e77df0eb0a3a\")>,\n",
       " <selenium.webdriver.remote.webelement.WebElement (session=\"f3e0a8800572b5816e4881fff9dc8726\", element=\"d97f80b7-d59d-481c-a0a0-558042508a7a\")>,\n",
       " <selenium.webdriver.remote.webelement.WebElement (session=\"f3e0a8800572b5816e4881fff9dc8726\", element=\"aae5b310-1708-46ef-bd79-ac2faa0f2aa6\")>,\n",
       " <selenium.webdriver.remote.webelement.WebElement (session=\"f3e0a8800572b5816e4881fff9dc8726\", element=\"c2606c9b-ace9-4998-b22d-5793fcc394e2\")>]"
      ]
     },
     "execution_count": 81,
     "metadata": {},
     "output_type": "execute_result"
    }
   ],
   "source": [
    "rate = driver.find_elements_by_xpath(\"//span[@class = 'css-19pjha7 e1cjmv6j1']\")\n",
    "rate"
   ]
  },
  {
   "cell_type": "code",
   "execution_count": 82,
   "id": "announced-benchmark",
   "metadata": {},
   "outputs": [
    {
     "data": {
      "text/plain": [
       "['4.4', '3.6', '3.9', '4.1', '3.8', '3.8', '3.6', '4.4', '5.0', '4.1']"
      ]
     },
     "execution_count": 82,
     "metadata": {},
     "output_type": "execute_result"
    }
   ],
   "source": [
    "Rate = []\n",
    "for i in rate:\n",
    "    Rate.append(i.text)\n",
    "Rating = Rate[:10]\n",
    "Rating"
   ]
  },
  {
   "cell_type": "code",
   "execution_count": 83,
   "id": "desirable-hungary",
   "metadata": {},
   "outputs": [],
   "source": [
    "Glassdoor = pd.DataFrame({})\n",
    "Glassdoor['Company Name'] = Company_Name\n",
    "Glassdoor['Date Posted'] = Date_posted\n",
    "Glassdoor['Rating'] = Rating"
   ]
  },
  {
   "cell_type": "code",
   "execution_count": 84,
   "id": "defined-radio",
   "metadata": {},
   "outputs": [
    {
     "data": {
      "text/html": [
       "<div>\n",
       "<style scoped>\n",
       "    .dataframe tbody tr th:only-of-type {\n",
       "        vertical-align: middle;\n",
       "    }\n",
       "\n",
       "    .dataframe tbody tr th {\n",
       "        vertical-align: top;\n",
       "    }\n",
       "\n",
       "    .dataframe thead th {\n",
       "        text-align: right;\n",
       "    }\n",
       "</style>\n",
       "<table border=\"1\" class=\"dataframe\">\n",
       "  <thead>\n",
       "    <tr style=\"text-align: right;\">\n",
       "      <th></th>\n",
       "      <th>Company Name</th>\n",
       "      <th>Date Posted</th>\n",
       "      <th>Rating</th>\n",
       "    </tr>\n",
       "  </thead>\n",
       "  <tbody>\n",
       "    <tr>\n",
       "      <th>0</th>\n",
       "      <td>Adobe</td>\n",
       "      <td>29d</td>\n",
       "      <td>4.4</td>\n",
       "    </tr>\n",
       "    <tr>\n",
       "      <th>1</th>\n",
       "      <td>CRMNEXT</td>\n",
       "      <td>16d</td>\n",
       "      <td>3.6</td>\n",
       "    </tr>\n",
       "    <tr>\n",
       "      <th>2</th>\n",
       "      <td>NatWest Group</td>\n",
       "      <td>24h</td>\n",
       "      <td>3.9</td>\n",
       "    </tr>\n",
       "    <tr>\n",
       "      <th>3</th>\n",
       "      <td>Ericsson</td>\n",
       "      <td>4d</td>\n",
       "      <td>4.1</td>\n",
       "    </tr>\n",
       "    <tr>\n",
       "      <th>4</th>\n",
       "      <td>Biz2Credit Inc</td>\n",
       "      <td>30d+</td>\n",
       "      <td>3.8</td>\n",
       "    </tr>\n",
       "    <tr>\n",
       "      <th>5</th>\n",
       "      <td>WishFin</td>\n",
       "      <td>30d+</td>\n",
       "      <td>3.8</td>\n",
       "    </tr>\n",
       "    <tr>\n",
       "      <th>6</th>\n",
       "      <td>CRMNEXT</td>\n",
       "      <td>16d</td>\n",
       "      <td>3.6</td>\n",
       "    </tr>\n",
       "    <tr>\n",
       "      <th>7</th>\n",
       "      <td>Adobe</td>\n",
       "      <td>2d</td>\n",
       "      <td>4.4</td>\n",
       "    </tr>\n",
       "    <tr>\n",
       "      <th>8</th>\n",
       "      <td>Techlive</td>\n",
       "      <td>30d+</td>\n",
       "      <td>5.0</td>\n",
       "    </tr>\n",
       "    <tr>\n",
       "      <th>9</th>\n",
       "      <td>dunnhumby</td>\n",
       "      <td>2d</td>\n",
       "      <td>4.1</td>\n",
       "    </tr>\n",
       "  </tbody>\n",
       "</table>\n",
       "</div>"
      ],
      "text/plain": [
       "     Company Name Date Posted Rating\n",
       "0           Adobe         29d    4.4\n",
       "1         CRMNEXT         16d    3.6\n",
       "2   NatWest Group         24h    3.9\n",
       "3        Ericsson          4d    4.1\n",
       "4  Biz2Credit Inc        30d+    3.8\n",
       "5         WishFin        30d+    3.8\n",
       "6         CRMNEXT         16d    3.6\n",
       "7           Adobe          2d    4.4\n",
       "8        Techlive        30d+    5.0\n",
       "9       dunnhumby          2d    4.1"
      ]
     },
     "execution_count": 84,
     "metadata": {},
     "output_type": "execute_result"
    }
   ],
   "source": [
    "Glassdoor"
   ]
  },
  {
   "cell_type": "markdown",
   "id": "manufactured-screw",
   "metadata": {},
   "source": [
    "# Q5"
   ]
  },
  {
   "cell_type": "code",
   "execution_count": 85,
   "id": "authentic-subscription",
   "metadata": {},
   "outputs": [],
   "source": [
    "url = ('https://www.glassdoor.co.in/Salaries/index.html')\n",
    "driver.get(url)"
   ]
  },
  {
   "cell_type": "code",
   "execution_count": 101,
   "id": "pending-champion",
   "metadata": {},
   "outputs": [
    {
     "data": {
      "text/plain": [
       "<selenium.webdriver.remote.webelement.WebElement (session=\"f3e0a8800572b5816e4881fff9dc8726\", element=\"9b8baf82-1193-42e8-84ec-723940a94477\")>"
      ]
     },
     "execution_count": 101,
     "metadata": {},
     "output_type": "execute_result"
    }
   ],
   "source": [
    "# Initializing the Job search\n",
    "job_search = driver.find_element_by_id('KeywordSearch')\n",
    "job_search"
   ]
  },
  {
   "cell_type": "code",
   "execution_count": 102,
   "id": "derived-graphics",
   "metadata": {},
   "outputs": [],
   "source": [
    "job_search.send_keys('Data Scientist')"
   ]
  },
  {
   "cell_type": "code",
   "execution_count": 103,
   "id": "supported-assist",
   "metadata": {},
   "outputs": [
    {
     "data": {
      "text/plain": [
       "<selenium.webdriver.remote.webelement.WebElement (session=\"f3e0a8800572b5816e4881fff9dc8726\", element=\"40a537ef-8971-47ba-be30-836f6dfe2ee2\")>"
      ]
     },
     "execution_count": 103,
     "metadata": {},
     "output_type": "execute_result"
    }
   ],
   "source": [
    "location_search = driver.find_element_by_id('LocationSearch')\n",
    "location_search"
   ]
  },
  {
   "cell_type": "code",
   "execution_count": 104,
   "id": "intended-newport",
   "metadata": {},
   "outputs": [],
   "source": [
    "location_search.clear()"
   ]
  },
  {
   "cell_type": "code",
   "execution_count": 105,
   "id": "animated-quality",
   "metadata": {},
   "outputs": [],
   "source": [
    "location_search.send_keys('Noida')"
   ]
  },
  {
   "cell_type": "code",
   "execution_count": 106,
   "id": "animated-framework",
   "metadata": {},
   "outputs": [],
   "source": [
    "search_button = driver.find_element_by_id('HeroSearchButton')\n",
    "search_button.click()\n",
    "time.sleep(3)"
   ]
  },
  {
   "cell_type": "code",
   "execution_count": 107,
   "id": "described-handling",
   "metadata": {},
   "outputs": [
    {
     "data": {
      "text/plain": [
       "[<selenium.webdriver.remote.webelement.WebElement (session=\"f3e0a8800572b5816e4881fff9dc8726\", element=\"399c56f0-2d45-4df3-b6e7-0b9d5f3680dd\")>,\n",
       " <selenium.webdriver.remote.webelement.WebElement (session=\"f3e0a8800572b5816e4881fff9dc8726\", element=\"9f0f1841-89ae-4857-8420-567ee2efb515\")>,\n",
       " <selenium.webdriver.remote.webelement.WebElement (session=\"f3e0a8800572b5816e4881fff9dc8726\", element=\"202a0cfa-f51b-44d6-a4ce-7c2aebc34b8e\")>,\n",
       " <selenium.webdriver.remote.webelement.WebElement (session=\"f3e0a8800572b5816e4881fff9dc8726\", element=\"8a138185-6172-4078-b914-e3574e492d83\")>,\n",
       " <selenium.webdriver.remote.webelement.WebElement (session=\"f3e0a8800572b5816e4881fff9dc8726\", element=\"5396105b-1017-462b-81fc-9f990ef857a3\")>,\n",
       " <selenium.webdriver.remote.webelement.WebElement (session=\"f3e0a8800572b5816e4881fff9dc8726\", element=\"5c22e07d-fd08-46da-b7b0-3c3d68510d01\")>,\n",
       " <selenium.webdriver.remote.webelement.WebElement (session=\"f3e0a8800572b5816e4881fff9dc8726\", element=\"21e27be8-1851-4707-9dc2-7fa57e01320b\")>,\n",
       " <selenium.webdriver.remote.webelement.WebElement (session=\"f3e0a8800572b5816e4881fff9dc8726\", element=\"ad0c6b93-c674-45ed-a6c1-ee17eaf4b71f\")>,\n",
       " <selenium.webdriver.remote.webelement.WebElement (session=\"f3e0a8800572b5816e4881fff9dc8726\", element=\"52be70d6-2357-4dda-b4c4-e3d23b1a3f33\")>,\n",
       " <selenium.webdriver.remote.webelement.WebElement (session=\"f3e0a8800572b5816e4881fff9dc8726\", element=\"4d43b3fd-740d-4364-9203-919c21ff1858\")>,\n",
       " <selenium.webdriver.remote.webelement.WebElement (session=\"f3e0a8800572b5816e4881fff9dc8726\", element=\"d4ec25da-6122-42a6-a327-e64cbdb3dc05\")>,\n",
       " <selenium.webdriver.remote.webelement.WebElement (session=\"f3e0a8800572b5816e4881fff9dc8726\", element=\"e98bff69-7db1-44b2-ba9d-d4150910284b\")>,\n",
       " <selenium.webdriver.remote.webelement.WebElement (session=\"f3e0a8800572b5816e4881fff9dc8726\", element=\"295cb8b2-8cd5-48c1-81db-eee115f7d85a\")>,\n",
       " <selenium.webdriver.remote.webelement.WebElement (session=\"f3e0a8800572b5816e4881fff9dc8726\", element=\"aadbbae4-0b72-417a-a1c2-98770e4a176c\")>,\n",
       " <selenium.webdriver.remote.webelement.WebElement (session=\"f3e0a8800572b5816e4881fff9dc8726\", element=\"790fdd2c-afc7-4636-8482-9c17b517b1e7\")>,\n",
       " <selenium.webdriver.remote.webelement.WebElement (session=\"f3e0a8800572b5816e4881fff9dc8726\", element=\"59daae7a-8e78-4d17-8e57-d6235130504a\")>,\n",
       " <selenium.webdriver.remote.webelement.WebElement (session=\"f3e0a8800572b5816e4881fff9dc8726\", element=\"443573c3-e223-41e0-899e-5498e273fc07\")>,\n",
       " <selenium.webdriver.remote.webelement.WebElement (session=\"f3e0a8800572b5816e4881fff9dc8726\", element=\"27e38128-8189-433b-88ff-5b3a06d889ea\")>,\n",
       " <selenium.webdriver.remote.webelement.WebElement (session=\"f3e0a8800572b5816e4881fff9dc8726\", element=\"6563debe-3112-4ef2-a56a-c3121b89200c\")>,\n",
       " <selenium.webdriver.remote.webelement.WebElement (session=\"f3e0a8800572b5816e4881fff9dc8726\", element=\"659f76e5-51c0-4ada-89ed-9da41c7fbe56\")>]"
      ]
     },
     "execution_count": 107,
     "metadata": {},
     "output_type": "execute_result"
    }
   ],
   "source": [
    "min_sal = driver.find_elements_by_xpath(\"//div[@class = 'common__RangeBarStyle__values d-flex justify-content-between ']\")\n",
    "min_sal"
   ]
  },
  {
   "cell_type": "code",
   "execution_count": 108,
   "id": "persistent-cause",
   "metadata": {},
   "outputs": [
    {
     "data": {
      "text/plain": [
       "['₹343K\\n₹1,250K',\n",
       " '₹586K\\n₹2,730K',\n",
       " '₹577K\\n₹2,213K',\n",
       " '₹355K\\n₹1,613K',\n",
       " '₹450K\\n₹11,622K',\n",
       " '₹1,069K\\n₹1,520K',\n",
       " '₹502K\\n₹1,465K',\n",
       " '₹202K\\n₹1,809K',\n",
       " '₹575K\\n₹1,520K',\n",
       " '₹1,014K\\n₹2,149K']"
      ]
     },
     "execution_count": 108,
     "metadata": {},
     "output_type": "execute_result"
    }
   ],
   "source": [
    "test = []\n",
    "for i in min_sal:\n",
    "    test.append(i.text)\n",
    "Test = test[:10]\n",
    "Test"
   ]
  },
  {
   "cell_type": "code",
   "execution_count": 109,
   "id": "august-heading",
   "metadata": {},
   "outputs": [
    {
     "data": {
      "text/plain": [
       "['₹343K',\n",
       " '₹586K',\n",
       " '₹577K',\n",
       " '₹355K',\n",
       " '₹450K',\n",
       " '₹1,069K',\n",
       " '₹502K',\n",
       " '₹202K',\n",
       " '₹575K',\n",
       " '₹1,014K']"
      ]
     },
     "execution_count": 109,
     "metadata": {},
     "output_type": "execute_result"
    }
   ],
   "source": [
    "Min_sal = []\n",
    "for i in Test:\n",
    "    Min_sal.append(i.partition('\\n')[0])\n",
    "Min_sal"
   ]
  },
  {
   "cell_type": "code",
   "execution_count": 110,
   "id": "excess-bench",
   "metadata": {},
   "outputs": [
    {
     "data": {
      "text/plain": [
       "['₹1,250K',\n",
       " '₹2,730K',\n",
       " '₹2,213K',\n",
       " '₹1,613K',\n",
       " '₹11,622K',\n",
       " '₹1,520K',\n",
       " '₹1,465K',\n",
       " '₹1,809K',\n",
       " '₹1,520K',\n",
       " '₹2,149K']"
      ]
     },
     "execution_count": 110,
     "metadata": {},
     "output_type": "execute_result"
    }
   ],
   "source": [
    "Max_sal = []\n",
    "for i in Test:\n",
    "    Max_sal.append(i.partition('\\n')[2])\n",
    "Max_sal"
   ]
  },
  {
   "cell_type": "code",
   "execution_count": 111,
   "id": "intellectual-miller",
   "metadata": {},
   "outputs": [
    {
     "data": {
      "text/plain": [
       "[<selenium.webdriver.remote.webelement.WebElement (session=\"f3e0a8800572b5816e4881fff9dc8726\", element=\"dd0cd6cc-9b64-4328-8ea4-7eae5cd7f6f1\")>,\n",
       " <selenium.webdriver.remote.webelement.WebElement (session=\"f3e0a8800572b5816e4881fff9dc8726\", element=\"b612e64b-4461-4fe5-935b-3e5323e7d3a1\")>,\n",
       " <selenium.webdriver.remote.webelement.WebElement (session=\"f3e0a8800572b5816e4881fff9dc8726\", element=\"2fd647e0-f44e-4f74-9a09-c20dde3e4578\")>,\n",
       " <selenium.webdriver.remote.webelement.WebElement (session=\"f3e0a8800572b5816e4881fff9dc8726\", element=\"285c4cc3-4314-471b-a6d9-3914926c3bb4\")>,\n",
       " <selenium.webdriver.remote.webelement.WebElement (session=\"f3e0a8800572b5816e4881fff9dc8726\", element=\"51e34e2e-d4f3-47b5-aede-beb192e98391\")>,\n",
       " <selenium.webdriver.remote.webelement.WebElement (session=\"f3e0a8800572b5816e4881fff9dc8726\", element=\"dd015428-3f97-4db2-903b-c9d8947aca55\")>,\n",
       " <selenium.webdriver.remote.webelement.WebElement (session=\"f3e0a8800572b5816e4881fff9dc8726\", element=\"6ee5c03f-a83e-4e0f-9bc7-f4def6cd57df\")>,\n",
       " <selenium.webdriver.remote.webelement.WebElement (session=\"f3e0a8800572b5816e4881fff9dc8726\", element=\"8f82293b-4abe-457a-8941-b10513faa113\")>,\n",
       " <selenium.webdriver.remote.webelement.WebElement (session=\"f3e0a8800572b5816e4881fff9dc8726\", element=\"5581dbbd-78de-454d-9d29-21418ab13f3a\")>,\n",
       " <selenium.webdriver.remote.webelement.WebElement (session=\"f3e0a8800572b5816e4881fff9dc8726\", element=\"2d8bf600-5a75-4206-bddd-5ecf0e69b8ac\")>,\n",
       " <selenium.webdriver.remote.webelement.WebElement (session=\"f3e0a8800572b5816e4881fff9dc8726\", element=\"e9999e49-32ec-490f-b2b2-3ff5698c0843\")>,\n",
       " <selenium.webdriver.remote.webelement.WebElement (session=\"f3e0a8800572b5816e4881fff9dc8726\", element=\"2bf473c0-964d-4006-b487-0baadfe2e30a\")>,\n",
       " <selenium.webdriver.remote.webelement.WebElement (session=\"f3e0a8800572b5816e4881fff9dc8726\", element=\"06930705-0519-4e90-a944-7969f5ba52e8\")>,\n",
       " <selenium.webdriver.remote.webelement.WebElement (session=\"f3e0a8800572b5816e4881fff9dc8726\", element=\"0169a006-aed5-4062-9323-c888a2d3c16e\")>,\n",
       " <selenium.webdriver.remote.webelement.WebElement (session=\"f3e0a8800572b5816e4881fff9dc8726\", element=\"2bebcfb2-733b-4956-a0cd-174ec545a4d8\")>,\n",
       " <selenium.webdriver.remote.webelement.WebElement (session=\"f3e0a8800572b5816e4881fff9dc8726\", element=\"ca184898-490d-4af7-a337-2d878c9d6535\")>,\n",
       " <selenium.webdriver.remote.webelement.WebElement (session=\"f3e0a8800572b5816e4881fff9dc8726\", element=\"3394f40d-2ea2-4874-b5aa-e9000776bb8f\")>,\n",
       " <selenium.webdriver.remote.webelement.WebElement (session=\"f3e0a8800572b5816e4881fff9dc8726\", element=\"206c9811-9847-460f-ac64-89462677e157\")>,\n",
       " <selenium.webdriver.remote.webelement.WebElement (session=\"f3e0a8800572b5816e4881fff9dc8726\", element=\"c793b889-a451-4a97-9b04-3201e0969eb2\")>,\n",
       " <selenium.webdriver.remote.webelement.WebElement (session=\"f3e0a8800572b5816e4881fff9dc8726\", element=\"70a499d7-a8a4-4c25-a94b-ea23ed5f8464\")>]"
      ]
     },
     "execution_count": 111,
     "metadata": {},
     "output_type": "execute_result"
    }
   ],
   "source": [
    "avg = driver.find_elements_by_xpath(\"//div[@class = 'col-2 d-none d-md-flex flex-row justify-content-end']\")\n",
    "avg"
   ]
  },
  {
   "cell_type": "code",
   "execution_count": 112,
   "id": "concerned-perception",
   "metadata": {},
   "outputs": [
    {
     "data": {
      "text/plain": [
       "['₹ 6,14,306',\n",
       " '₹ 9,00,000',\n",
       " '₹ 11,46,533',\n",
       " '₹ 7,38,057',\n",
       " '₹ 12,39,781',\n",
       " '₹ 13,36,142',\n",
       " '₹ 8,15,192',\n",
       " '₹ 11,35,221',\n",
       " '₹ 11,44,243',\n",
       " '₹ 14,13,288']"
      ]
     },
     "execution_count": 112,
     "metadata": {},
     "output_type": "execute_result"
    }
   ],
   "source": [
    "Avg = []\n",
    "for i in avg:\n",
    "    Avg.append(i.text.replace('\\n/yr', ''))\n",
    "Average_salary = Avg[:10]\n",
    "Average_salary"
   ]
  },
  {
   "cell_type": "code",
   "execution_count": 113,
   "id": "mathematical-fault",
   "metadata": {},
   "outputs": [
    {
     "data": {
      "text/plain": [
       "[<selenium.webdriver.remote.webelement.WebElement (session=\"f3e0a8800572b5816e4881fff9dc8726\", element=\"c0b8273e-4bba-4737-aa55-dd1aecca8d47\")>,\n",
       " <selenium.webdriver.remote.webelement.WebElement (session=\"f3e0a8800572b5816e4881fff9dc8726\", element=\"ba9db868-5f1d-41ed-b15a-9f175aaea596\")>,\n",
       " <selenium.webdriver.remote.webelement.WebElement (session=\"f3e0a8800572b5816e4881fff9dc8726\", element=\"39e5bb7a-0dd6-40e2-bb75-5690cdb5692d\")>,\n",
       " <selenium.webdriver.remote.webelement.WebElement (session=\"f3e0a8800572b5816e4881fff9dc8726\", element=\"c3f8e53c-bbca-45f8-a571-ff400edeef7b\")>,\n",
       " <selenium.webdriver.remote.webelement.WebElement (session=\"f3e0a8800572b5816e4881fff9dc8726\", element=\"b8cec70b-d110-40d5-9863-96828fc4bc4f\")>,\n",
       " <selenium.webdriver.remote.webelement.WebElement (session=\"f3e0a8800572b5816e4881fff9dc8726\", element=\"2840dfe0-df0a-442f-a062-32c47c4d4624\")>,\n",
       " <selenium.webdriver.remote.webelement.WebElement (session=\"f3e0a8800572b5816e4881fff9dc8726\", element=\"6b829fe6-f60b-444e-9948-6bb24896663b\")>,\n",
       " <selenium.webdriver.remote.webelement.WebElement (session=\"f3e0a8800572b5816e4881fff9dc8726\", element=\"f7a75e23-519e-4d85-b773-9d7a3ee41d13\")>,\n",
       " <selenium.webdriver.remote.webelement.WebElement (session=\"f3e0a8800572b5816e4881fff9dc8726\", element=\"c2a37293-ebaf-4d26-a397-70d0a20c6ef2\")>,\n",
       " <selenium.webdriver.remote.webelement.WebElement (session=\"f3e0a8800572b5816e4881fff9dc8726\", element=\"4edd3162-612f-4f92-a51f-e615ca7ca51d\")>,\n",
       " <selenium.webdriver.remote.webelement.WebElement (session=\"f3e0a8800572b5816e4881fff9dc8726\", element=\"75e67163-e358-49ab-a912-d3ee8d92519b\")>,\n",
       " <selenium.webdriver.remote.webelement.WebElement (session=\"f3e0a8800572b5816e4881fff9dc8726\", element=\"b6fb4546-251a-4b82-8b7d-efe3f9cff114\")>,\n",
       " <selenium.webdriver.remote.webelement.WebElement (session=\"f3e0a8800572b5816e4881fff9dc8726\", element=\"002ba336-d842-4f04-a498-a18588b83852\")>,\n",
       " <selenium.webdriver.remote.webelement.WebElement (session=\"f3e0a8800572b5816e4881fff9dc8726\", element=\"77bae34c-88de-407b-aed4-57c14b1c533f\")>,\n",
       " <selenium.webdriver.remote.webelement.WebElement (session=\"f3e0a8800572b5816e4881fff9dc8726\", element=\"17e4f752-f6ea-4201-8dcf-235e7cc21371\")>,\n",
       " <selenium.webdriver.remote.webelement.WebElement (session=\"f3e0a8800572b5816e4881fff9dc8726\", element=\"5a4ac706-8723-4103-a069-222322a1dc84\")>,\n",
       " <selenium.webdriver.remote.webelement.WebElement (session=\"f3e0a8800572b5816e4881fff9dc8726\", element=\"0bea4b67-e73a-4ed9-a32a-cbeb94aae563\")>,\n",
       " <selenium.webdriver.remote.webelement.WebElement (session=\"f3e0a8800572b5816e4881fff9dc8726\", element=\"872de18d-b7ef-431d-b597-e25502046ec2\")>,\n",
       " <selenium.webdriver.remote.webelement.WebElement (session=\"f3e0a8800572b5816e4881fff9dc8726\", element=\"ba779be6-5a67-4e49-aa39-71556f0d5c39\")>,\n",
       " <selenium.webdriver.remote.webelement.WebElement (session=\"f3e0a8800572b5816e4881fff9dc8726\", element=\"b5cca889-4bd0-4bb4-872f-d83a5458e228\")>]"
      ]
     },
     "execution_count": 113,
     "metadata": {},
     "output_type": "execute_result"
    }
   ],
   "source": [
    "comp_name = driver.find_elements_by_xpath(\"//p[@class = 'm-0 ']\")\n",
    "comp_name"
   ]
  },
  {
   "cell_type": "code",
   "execution_count": 114,
   "id": "lonely-covering",
   "metadata": {},
   "outputs": [
    {
     "data": {
      "text/plain": [
       "['Tata Consultancy Services',\n",
       " 'IBM',\n",
       " 'Accenture',\n",
       " 'Ericsson-Worldwide',\n",
       " 'Delhivery',\n",
       " 'UnitedHealth Group',\n",
       " 'Valiance Solutions',\n",
       " 'ZS Associates',\n",
       " 'EXL Service',\n",
       " 'Optum Global Solutions']"
      ]
     },
     "execution_count": 114,
     "metadata": {},
     "output_type": "execute_result"
    }
   ],
   "source": [
    "Comp_name = []\n",
    "for i in comp_name:\n",
    "    Comp_name.append(i.text)\n",
    "Company_name = Comp_name[:10]\n",
    "Company_name"
   ]
  },
  {
   "cell_type": "markdown",
   "id": "competent-kitty",
   "metadata": {},
   "source": [
    "### Ratings are not available in this page. "
   ]
  },
  {
   "cell_type": "code",
   "execution_count": 115,
   "id": "enclosed-luxembourg",
   "metadata": {},
   "outputs": [],
   "source": [
    "Glassdoor = pd.DataFrame({})\n",
    "Glassdoor['Company Name'] = Company_name\n",
    "Glassdoor['Minimum Salary'] = Min_sal\n",
    "Glassdoor['Maximum Salary'] = Max_sal\n",
    "Glassdoor['Average Salary'] = Average_salary"
   ]
  },
  {
   "cell_type": "code",
   "execution_count": 116,
   "id": "japanese-composite",
   "metadata": {},
   "outputs": [
    {
     "data": {
      "text/html": [
       "<div>\n",
       "<style scoped>\n",
       "    .dataframe tbody tr th:only-of-type {\n",
       "        vertical-align: middle;\n",
       "    }\n",
       "\n",
       "    .dataframe tbody tr th {\n",
       "        vertical-align: top;\n",
       "    }\n",
       "\n",
       "    .dataframe thead th {\n",
       "        text-align: right;\n",
       "    }\n",
       "</style>\n",
       "<table border=\"1\" class=\"dataframe\">\n",
       "  <thead>\n",
       "    <tr style=\"text-align: right;\">\n",
       "      <th></th>\n",
       "      <th>Company Name</th>\n",
       "      <th>Minimum Salary</th>\n",
       "      <th>Maximum Salary</th>\n",
       "      <th>Average Salary</th>\n",
       "    </tr>\n",
       "  </thead>\n",
       "  <tbody>\n",
       "    <tr>\n",
       "      <th>0</th>\n",
       "      <td>Tata Consultancy Services</td>\n",
       "      <td>₹343K</td>\n",
       "      <td>₹1,250K</td>\n",
       "      <td>₹ 6,14,306</td>\n",
       "    </tr>\n",
       "    <tr>\n",
       "      <th>1</th>\n",
       "      <td>IBM</td>\n",
       "      <td>₹586K</td>\n",
       "      <td>₹2,730K</td>\n",
       "      <td>₹ 9,00,000</td>\n",
       "    </tr>\n",
       "    <tr>\n",
       "      <th>2</th>\n",
       "      <td>Accenture</td>\n",
       "      <td>₹577K</td>\n",
       "      <td>₹2,213K</td>\n",
       "      <td>₹ 11,46,533</td>\n",
       "    </tr>\n",
       "    <tr>\n",
       "      <th>3</th>\n",
       "      <td>Ericsson-Worldwide</td>\n",
       "      <td>₹355K</td>\n",
       "      <td>₹1,613K</td>\n",
       "      <td>₹ 7,38,057</td>\n",
       "    </tr>\n",
       "    <tr>\n",
       "      <th>4</th>\n",
       "      <td>Delhivery</td>\n",
       "      <td>₹450K</td>\n",
       "      <td>₹11,622K</td>\n",
       "      <td>₹ 12,39,781</td>\n",
       "    </tr>\n",
       "    <tr>\n",
       "      <th>5</th>\n",
       "      <td>UnitedHealth Group</td>\n",
       "      <td>₹1,069K</td>\n",
       "      <td>₹1,520K</td>\n",
       "      <td>₹ 13,36,142</td>\n",
       "    </tr>\n",
       "    <tr>\n",
       "      <th>6</th>\n",
       "      <td>Valiance Solutions</td>\n",
       "      <td>₹502K</td>\n",
       "      <td>₹1,465K</td>\n",
       "      <td>₹ 8,15,192</td>\n",
       "    </tr>\n",
       "    <tr>\n",
       "      <th>7</th>\n",
       "      <td>ZS Associates</td>\n",
       "      <td>₹202K</td>\n",
       "      <td>₹1,809K</td>\n",
       "      <td>₹ 11,35,221</td>\n",
       "    </tr>\n",
       "    <tr>\n",
       "      <th>8</th>\n",
       "      <td>EXL Service</td>\n",
       "      <td>₹575K</td>\n",
       "      <td>₹1,520K</td>\n",
       "      <td>₹ 11,44,243</td>\n",
       "    </tr>\n",
       "    <tr>\n",
       "      <th>9</th>\n",
       "      <td>Optum Global Solutions</td>\n",
       "      <td>₹1,014K</td>\n",
       "      <td>₹2,149K</td>\n",
       "      <td>₹ 14,13,288</td>\n",
       "    </tr>\n",
       "  </tbody>\n",
       "</table>\n",
       "</div>"
      ],
      "text/plain": [
       "                Company Name Minimum Salary Maximum Salary Average Salary\n",
       "0  Tata Consultancy Services          ₹343K        ₹1,250K     ₹ 6,14,306\n",
       "1                        IBM          ₹586K        ₹2,730K     ₹ 9,00,000\n",
       "2                  Accenture          ₹577K        ₹2,213K    ₹ 11,46,533\n",
       "3         Ericsson-Worldwide          ₹355K        ₹1,613K     ₹ 7,38,057\n",
       "4                  Delhivery          ₹450K       ₹11,622K    ₹ 12,39,781\n",
       "5         UnitedHealth Group        ₹1,069K        ₹1,520K    ₹ 13,36,142\n",
       "6         Valiance Solutions          ₹502K        ₹1,465K     ₹ 8,15,192\n",
       "7              ZS Associates          ₹202K        ₹1,809K    ₹ 11,35,221\n",
       "8                EXL Service          ₹575K        ₹1,520K    ₹ 11,44,243\n",
       "9     Optum Global Solutions        ₹1,014K        ₹2,149K    ₹ 14,13,288"
      ]
     },
     "execution_count": 116,
     "metadata": {},
     "output_type": "execute_result"
    }
   ],
   "source": [
    "Glassdoor"
   ]
  },
  {
   "cell_type": "markdown",
   "id": "ceramic-republican",
   "metadata": {},
   "source": [
    "# Q6"
   ]
  },
  {
   "cell_type": "code",
   "execution_count": 117,
   "id": "dress-converter",
   "metadata": {},
   "outputs": [],
   "source": [
    "url = ('https://www.flipkart.com/')\n",
    "driver.get(url)"
   ]
  },
  {
   "cell_type": "code",
   "execution_count": 118,
   "id": "clear-reliance",
   "metadata": {},
   "outputs": [],
   "source": [
    "login_close = driver.find_element_by_xpath(\"//button[@class = '_2KpZ6l _2doB4z']\")\n",
    "login_close.click()"
   ]
  },
  {
   "cell_type": "code",
   "execution_count": 119,
   "id": "boolean-sessions",
   "metadata": {},
   "outputs": [
    {
     "data": {
      "text/plain": [
       "<selenium.webdriver.remote.webelement.WebElement (session=\"f3e0a8800572b5816e4881fff9dc8726\", element=\"a01d765c-2631-4f82-af61-9b94cd050779\")>"
      ]
     },
     "execution_count": 119,
     "metadata": {},
     "output_type": "execute_result"
    }
   ],
   "source": [
    "searchbar = driver.find_element_by_xpath(\"//input[@class = '_3704LK']\")\n",
    "searchbar"
   ]
  },
  {
   "cell_type": "code",
   "execution_count": 120,
   "id": "stone-vault",
   "metadata": {},
   "outputs": [],
   "source": [
    "searchbar.send_keys('Sunglasses')"
   ]
  },
  {
   "cell_type": "code",
   "execution_count": 121,
   "id": "prescription-science",
   "metadata": {},
   "outputs": [],
   "source": [
    "searchbutton = driver.find_element_by_xpath(\"//button[@class = 'L0Z3Pu']\")\n",
    "searchbutton.click()"
   ]
  },
  {
   "cell_type": "markdown",
   "id": "israeli-confidence",
   "metadata": {},
   "source": [
    "    Finding elements for:\n",
    "        \n",
    "        Brand\n",
    "        Product Description\n",
    "        Price\n",
    "        Discount %\n",
    "        \n",
    "    And move to the next page."
   ]
  },
  {
   "cell_type": "code",
   "execution_count": 123,
   "id": "cleared-oregon",
   "metadata": {},
   "outputs": [],
   "source": [
    "Brand = []\n",
    "Product_Description = []\n",
    "Price = []\n",
    "Discount = []\n",
    "for a in range (0,3):\n",
    "    \n",
    "    # Extracting the Brand:\n",
    "    brand = driver.find_elements_by_xpath(\"//div[@class = '_2WkVRV']\")\n",
    "    for i in brand:\n",
    "        Brand.append(i.text)\n",
    "    \n",
    "    # Extracting Product Description:\n",
    "    product = driver.find_elements_by_xpath(\"//a[@class = 'IRpwTa']\")\n",
    "    for j in product:\n",
    "        Product_Description.append(j.text)\n",
    "        \n",
    "    # Extracting Price:\n",
    "    price = driver.find_elements_by_xpath(\"//div[@class = '_30jeq3']\")\n",
    "    for k in price[:40]:\n",
    "        Price.append(k.text)\n",
    "        \n",
    "    # Extracting Discount:\n",
    "    discount = driver.find_elements_by_xpath(\"//div[@class = '_3Ay6Sb']\")\n",
    "    for l in discount[:40]:\n",
    "        Discount.append(l.text)\n",
    "        \n",
    "    # Moving to the next page:\n",
    "    try:\n",
    "        nextpage = driver.find_element_by_xpath(\"//a[@class = '_1LKTO3'][2]\")\n",
    "        nextpage.click()\n",
    "    except:\n",
    "        nextpage = driver.find_element_by_xpath(\"//a[@class = '_1LKTO3']\")\n",
    "        nextpage.click()\n",
    "    \n",
    "    # Page load time\n",
    "    time.sleep(3)"
   ]
  },
  {
   "cell_type": "code",
   "execution_count": 124,
   "id": "lesbian-conservative",
   "metadata": {},
   "outputs": [],
   "source": [
    "Flipkart = pd.DataFrame({})\n",
    "Flipkart['Brand'] = Brand[:100]\n",
    "Flipkart['Product Description'] = Product_Description[:100]\n",
    "Flipkart['Price'] = Price[:100]\n",
    "Flipkart['Discount'] = Discount[:100]"
   ]
  },
  {
   "cell_type": "code",
   "execution_count": 125,
   "id": "german-conversation",
   "metadata": {},
   "outputs": [
    {
     "data": {
      "text/html": [
       "<div>\n",
       "<style scoped>\n",
       "    .dataframe tbody tr th:only-of-type {\n",
       "        vertical-align: middle;\n",
       "    }\n",
       "\n",
       "    .dataframe tbody tr th {\n",
       "        vertical-align: top;\n",
       "    }\n",
       "\n",
       "    .dataframe thead th {\n",
       "        text-align: right;\n",
       "    }\n",
       "</style>\n",
       "<table border=\"1\" class=\"dataframe\">\n",
       "  <thead>\n",
       "    <tr style=\"text-align: right;\">\n",
       "      <th></th>\n",
       "      <th>Brand</th>\n",
       "      <th>Product Description</th>\n",
       "      <th>Price</th>\n",
       "      <th>Discount</th>\n",
       "    </tr>\n",
       "  </thead>\n",
       "  <tbody>\n",
       "    <tr>\n",
       "      <th>0</th>\n",
       "      <td>ROYAL SON</td>\n",
       "      <td>UV Protection Over-sized Sunglasses (65)</td>\n",
       "      <td>₹699</td>\n",
       "      <td>53% off</td>\n",
       "    </tr>\n",
       "    <tr>\n",
       "      <th>1</th>\n",
       "      <td>New Specs</td>\n",
       "      <td>UV Protection Retro Square Sunglasses (Free Size)</td>\n",
       "      <td>₹289</td>\n",
       "      <td>79% off</td>\n",
       "    </tr>\n",
       "    <tr>\n",
       "      <th>2</th>\n",
       "      <td>ROZZETTA CRAFT</td>\n",
       "      <td>UV Protection Rectangular Sunglasses (Free Size)</td>\n",
       "      <td>₹499</td>\n",
       "      <td>77% off</td>\n",
       "    </tr>\n",
       "    <tr>\n",
       "      <th>3</th>\n",
       "      <td>Fastrack</td>\n",
       "      <td>UV Protection Wayfarer Sunglasses (Free Size)</td>\n",
       "      <td>₹570</td>\n",
       "      <td>28% off</td>\n",
       "    </tr>\n",
       "    <tr>\n",
       "      <th>4</th>\n",
       "      <td>Fastrack</td>\n",
       "      <td>UV Protection Aviator Sunglasses (Free Size)</td>\n",
       "      <td>₹733</td>\n",
       "      <td>18% off</td>\n",
       "    </tr>\n",
       "    <tr>\n",
       "      <th>...</th>\n",
       "      <td>...</td>\n",
       "      <td>...</td>\n",
       "      <td>...</td>\n",
       "      <td>...</td>\n",
       "    </tr>\n",
       "    <tr>\n",
       "      <th>95</th>\n",
       "      <td>ROZZETTA CRAFT</td>\n",
       "      <td>Night Vision, Riding Glasses Wayfarer Sunglass...</td>\n",
       "      <td>₹399</td>\n",
       "      <td>80% off</td>\n",
       "    </tr>\n",
       "    <tr>\n",
       "      <th>96</th>\n",
       "      <td>Singco</td>\n",
       "      <td>Polarized Retro Square Sunglasses (58)</td>\n",
       "      <td>₹349</td>\n",
       "      <td>82% off</td>\n",
       "    </tr>\n",
       "    <tr>\n",
       "      <th>97</th>\n",
       "      <td>Fravy</td>\n",
       "      <td>UV Protection Retro Square Sunglasses (Free Size)</td>\n",
       "      <td>₹329</td>\n",
       "      <td>83% off</td>\n",
       "    </tr>\n",
       "    <tr>\n",
       "      <th>98</th>\n",
       "      <td>GANSTA</td>\n",
       "      <td>UV Protection, Gradient Oval Sunglasses (58)</td>\n",
       "      <td>₹207</td>\n",
       "      <td>88% off</td>\n",
       "    </tr>\n",
       "    <tr>\n",
       "      <th>99</th>\n",
       "      <td>ROYAL SON</td>\n",
       "      <td>Polarized, UV Protection Aviator Sunglasses (58)</td>\n",
       "      <td>₹899</td>\n",
       "      <td>55% off</td>\n",
       "    </tr>\n",
       "  </tbody>\n",
       "</table>\n",
       "<p>100 rows × 4 columns</p>\n",
       "</div>"
      ],
      "text/plain": [
       "             Brand                                Product Description Price  \\\n",
       "0        ROYAL SON           UV Protection Over-sized Sunglasses (65)  ₹699   \n",
       "1        New Specs  UV Protection Retro Square Sunglasses (Free Size)  ₹289   \n",
       "2   ROZZETTA CRAFT   UV Protection Rectangular Sunglasses (Free Size)  ₹499   \n",
       "3         Fastrack      UV Protection Wayfarer Sunglasses (Free Size)  ₹570   \n",
       "4         Fastrack       UV Protection Aviator Sunglasses (Free Size)  ₹733   \n",
       "..             ...                                                ...   ...   \n",
       "95  ROZZETTA CRAFT  Night Vision, Riding Glasses Wayfarer Sunglass...  ₹399   \n",
       "96          Singco             Polarized Retro Square Sunglasses (58)  ₹349   \n",
       "97           Fravy  UV Protection Retro Square Sunglasses (Free Size)  ₹329   \n",
       "98          GANSTA       UV Protection, Gradient Oval Sunglasses (58)  ₹207   \n",
       "99       ROYAL SON   Polarized, UV Protection Aviator Sunglasses (58)  ₹899   \n",
       "\n",
       "   Discount  \n",
       "0   53% off  \n",
       "1   79% off  \n",
       "2   77% off  \n",
       "3   28% off  \n",
       "4   18% off  \n",
       "..      ...  \n",
       "95  80% off  \n",
       "96  82% off  \n",
       "97  83% off  \n",
       "98  88% off  \n",
       "99  55% off  \n",
       "\n",
       "[100 rows x 4 columns]"
      ]
     },
     "execution_count": 125,
     "metadata": {},
     "output_type": "execute_result"
    }
   ],
   "source": [
    "Flipkart"
   ]
  },
  {
   "cell_type": "markdown",
   "id": "bigger-drink",
   "metadata": {},
   "source": [
    "# Q7"
   ]
  },
  {
   "cell_type": "code",
   "execution_count": 126,
   "id": "welsh-input",
   "metadata": {},
   "outputs": [],
   "source": [
    "url = 'https://www.flipkart.com/apple-iphone-11-black-64-gb-includes\u0002earpods-power\u0002adapter/p/itm0f37c2240b217?pid=MOBFKCTSVZAXUHGR&lid=LSTMOBFKCTSVZAXUHGREPBFGI&marketplace'\n",
    "driver.get(url)"
   ]
  },
  {
   "cell_type": "code",
   "execution_count": 127,
   "id": "automotive-julian",
   "metadata": {},
   "outputs": [],
   "source": [
    "allreviews = driver.find_element_by_xpath(\"//div[@class = '_3UAT2v _16PBlm']\")\n",
    "allreviews.click()\n",
    "time.sleep(3)"
   ]
  },
  {
   "cell_type": "markdown",
   "id": "sought-pizza",
   "metadata": {},
   "source": [
    "    Finding elements for: \n",
    "    \n",
    "        Rating\n",
    "        Review Summary\n",
    "        Full Review\n",
    "        \n",
    "    And moving to the next page."
   ]
  },
  {
   "cell_type": "code",
   "execution_count": 129,
   "id": "excellent-occasion",
   "metadata": {},
   "outputs": [],
   "source": [
    "Rating = []\n",
    "Review_Summary = []\n",
    "Full_Review = []\n",
    "for i in range(0,10):\n",
    "    \n",
    "    # Fetching the rating\n",
    "    rating = driver.find_elements_by_xpath(\"//div[@class = 'col _2wzgFH K0kLPL']/div[1]\")\n",
    "    for i in rating:\n",
    "        Rating.append(i.text[0])\n",
    "    \n",
    "    # Fetching Review Summary\n",
    "    reviewsummary = driver.find_elements_by_xpath(\"//p[@class = '_2-N8zT']\")\n",
    "    for l in reviewsummary:\n",
    "        Review_Summary.append(l.text)\n",
    "        \n",
    "    # Fetching Full Review\n",
    "    fullreview = driver.find_elements_by_xpath(\"//div[@class = 't-ZTKy']\")\n",
    "    for m in fullreview:\n",
    "        Full_Review.append(m.text.replace('\\n', ''))\n",
    "        \n",
    "    # Moving to the next page\n",
    "    try:\n",
    "        nextpage = driver.find_element_by_xpath(\"//a[@class = '_1LKTO3'][2]\")\n",
    "        nextpage.click()\n",
    "    except:\n",
    "        nextpage = driver.find_element_by_xpath(\"//a[@class = '_1LKTO3']\")\n",
    "        nextpage.click()\n",
    "    \n",
    "    # Page load time\n",
    "    time.sleep(3)    "
   ]
  },
  {
   "cell_type": "code",
   "execution_count": 130,
   "id": "overall-mirror",
   "metadata": {},
   "outputs": [],
   "source": [
    "Flipkart = pd.DataFrame({})\n",
    "Flipkart['Rating'] = Rating\n",
    "Flipkart['Review_Summary'] = Review_Summary\n",
    "Flipkart['Full_Review'] = Full_Review"
   ]
  },
  {
   "cell_type": "code",
   "execution_count": 131,
   "id": "found-carrier",
   "metadata": {},
   "outputs": [
    {
     "data": {
      "text/html": [
       "<div>\n",
       "<style scoped>\n",
       "    .dataframe tbody tr th:only-of-type {\n",
       "        vertical-align: middle;\n",
       "    }\n",
       "\n",
       "    .dataframe tbody tr th {\n",
       "        vertical-align: top;\n",
       "    }\n",
       "\n",
       "    .dataframe thead th {\n",
       "        text-align: right;\n",
       "    }\n",
       "</style>\n",
       "<table border=\"1\" class=\"dataframe\">\n",
       "  <thead>\n",
       "    <tr style=\"text-align: right;\">\n",
       "      <th></th>\n",
       "      <th>Rating</th>\n",
       "      <th>Review_Summary</th>\n",
       "      <th>Full_Review</th>\n",
       "    </tr>\n",
       "  </thead>\n",
       "  <tbody>\n",
       "    <tr>\n",
       "      <th>0</th>\n",
       "      <td>5</td>\n",
       "      <td>Brilliant</td>\n",
       "      <td>The Best Phone for the MoneyThe iPhone 11 offe...</td>\n",
       "    </tr>\n",
       "    <tr>\n",
       "      <th>1</th>\n",
       "      <td>5</td>\n",
       "      <td>Perfect product!</td>\n",
       "      <td>Amazing phone with great cameras and better ba...</td>\n",
       "    </tr>\n",
       "    <tr>\n",
       "      <th>2</th>\n",
       "      <td>5</td>\n",
       "      <td>Great product</td>\n",
       "      <td>Amazing Powerful and Durable Gadget.I’m am ver...</td>\n",
       "    </tr>\n",
       "    <tr>\n",
       "      <th>3</th>\n",
       "      <td>5</td>\n",
       "      <td>Worth every penny</td>\n",
       "      <td>Previously I was using one plus 3t it was a gr...</td>\n",
       "    </tr>\n",
       "    <tr>\n",
       "      <th>4</th>\n",
       "      <td>4</td>\n",
       "      <td>Good choice</td>\n",
       "      <td>So far it’s been an AMAZING experience coming ...</td>\n",
       "    </tr>\n",
       "    <tr>\n",
       "      <th>...</th>\n",
       "      <td>...</td>\n",
       "      <td>...</td>\n",
       "      <td>...</td>\n",
       "    </tr>\n",
       "    <tr>\n",
       "      <th>95</th>\n",
       "      <td>5</td>\n",
       "      <td>Awesome</td>\n",
       "      <td>The phone is completely goodAs far as camera A...</td>\n",
       "    </tr>\n",
       "    <tr>\n",
       "      <th>96</th>\n",
       "      <td>3</td>\n",
       "      <td>Decent product</td>\n",
       "      <td>Everything u ll like it when u use this iPhone...</td>\n",
       "    </tr>\n",
       "    <tr>\n",
       "      <th>97</th>\n",
       "      <td>5</td>\n",
       "      <td>Super!</td>\n",
       "      <td>It's a great phone. From camera to display eve...</td>\n",
       "    </tr>\n",
       "    <tr>\n",
       "      <th>98</th>\n",
       "      <td>5</td>\n",
       "      <td>Awesome</td>\n",
       "      <td>Can’t beat the software and hardware integrati...</td>\n",
       "    </tr>\n",
       "    <tr>\n",
       "      <th>99</th>\n",
       "      <td>5</td>\n",
       "      <td>Classy product</td>\n",
       "      <td>We are on apple ecosystem for almost eight yea...</td>\n",
       "    </tr>\n",
       "  </tbody>\n",
       "</table>\n",
       "<p>100 rows × 3 columns</p>\n",
       "</div>"
      ],
      "text/plain": [
       "   Rating     Review_Summary  \\\n",
       "0       5          Brilliant   \n",
       "1       5   Perfect product!   \n",
       "2       5      Great product   \n",
       "3       5  Worth every penny   \n",
       "4       4        Good choice   \n",
       "..    ...                ...   \n",
       "95      5            Awesome   \n",
       "96      3     Decent product   \n",
       "97      5             Super!   \n",
       "98      5            Awesome   \n",
       "99      5     Classy product   \n",
       "\n",
       "                                          Full_Review  \n",
       "0   The Best Phone for the MoneyThe iPhone 11 offe...  \n",
       "1   Amazing phone with great cameras and better ba...  \n",
       "2   Amazing Powerful and Durable Gadget.I’m am ver...  \n",
       "3   Previously I was using one plus 3t it was a gr...  \n",
       "4   So far it’s been an AMAZING experience coming ...  \n",
       "..                                                ...  \n",
       "95  The phone is completely goodAs far as camera A...  \n",
       "96  Everything u ll like it when u use this iPhone...  \n",
       "97  It's a great phone. From camera to display eve...  \n",
       "98  Can’t beat the software and hardware integrati...  \n",
       "99  We are on apple ecosystem for almost eight yea...  \n",
       "\n",
       "[100 rows x 3 columns]"
      ]
     },
     "execution_count": 131,
     "metadata": {},
     "output_type": "execute_result"
    }
   ],
   "source": [
    "Flipkart"
   ]
  },
  {
   "cell_type": "markdown",
   "id": "separate-activation",
   "metadata": {},
   "source": [
    "# Q8"
   ]
  },
  {
   "cell_type": "code",
   "execution_count": 135,
   "id": "handmade-offense",
   "metadata": {},
   "outputs": [],
   "source": [
    "url = ('https://www.flipkart.com/')\n",
    "driver.get(url)"
   ]
  },
  {
   "cell_type": "code",
   "execution_count": 138,
   "id": "dirty-marine",
   "metadata": {},
   "outputs": [
    {
     "data": {
      "text/plain": [
       "<selenium.webdriver.remote.webelement.WebElement (session=\"f3e0a8800572b5816e4881fff9dc8726\", element=\"9721c00e-a84f-48e6-94f8-c1a18f5a53ca\")>"
      ]
     },
     "execution_count": 138,
     "metadata": {},
     "output_type": "execute_result"
    }
   ],
   "source": [
    "searchbar = driver.find_element_by_xpath(\"//input[@class = '_3704LK']\")\n",
    "searchbar"
   ]
  },
  {
   "cell_type": "code",
   "execution_count": 139,
   "id": "contemporary-unemployment",
   "metadata": {},
   "outputs": [],
   "source": [
    "searchbar.send_keys('Sneakers')"
   ]
  },
  {
   "cell_type": "code",
   "execution_count": 140,
   "id": "nasty-option",
   "metadata": {},
   "outputs": [],
   "source": [
    "searchbutton = driver.find_element_by_xpath(\"//button[@class = 'L0Z3Pu']\")\n",
    "searchbutton.click()"
   ]
  },
  {
   "cell_type": "markdown",
   "id": "adverse-plain",
   "metadata": {},
   "source": [
    "    Finding elements for: \n",
    "\n",
    "        Brand\n",
    "        Product Description\n",
    "        Price\n",
    "        Discount Percentage\n",
    "\n",
    "    And moving to the next page."
   ]
  },
  {
   "cell_type": "code",
   "execution_count": 141,
   "id": "eight-former",
   "metadata": {},
   "outputs": [],
   "source": [
    "Brand = []\n",
    "Product_Description = []\n",
    "Price = []\n",
    "Discount = []\n",
    "for a in range (0,3):\n",
    "    \n",
    "    # Extracting the Brand:\n",
    "    brand = driver.find_elements_by_xpath(\"//div[@class = '_2WkVRV']\")\n",
    "    for i in brand:\n",
    "        Brand.append(i.text)\n",
    "    \n",
    "    # Extracting Product Description:\n",
    "    product = driver.find_elements_by_xpath(\"//div[@class = '_2B099V']/a[1]\")\n",
    "    for j in product:\n",
    "        Product_Description.append(j.text)\n",
    "        \n",
    "    # Extracting Price:\n",
    "    price = driver.find_elements_by_xpath(\"//div[@class = '_30jeq3']\")\n",
    "    for k in price[:40]:\n",
    "        Price.append(k.text)\n",
    "        \n",
    "    # Extracting Discount:\n",
    "    discount = driver.find_elements_by_xpath(\"//div[@class = '_3Ay6Sb']\")\n",
    "    for l in discount[:40]:\n",
    "        Discount.append(l.text)\n",
    "        \n",
    "    # Moving to the next page:\n",
    "    try:\n",
    "        nextpage = driver.find_element_by_xpath(\"//a[@class = '_1LKTO3'][2]\")\n",
    "        nextpage.click()\n",
    "    except:\n",
    "        nextpage = driver.find_element_by_xpath(\"//a[@class = '_1LKTO3']\")\n",
    "        nextpage.click()\n",
    "    \n",
    "    # Page load time\n",
    "    time.sleep(3)"
   ]
  },
  {
   "cell_type": "code",
   "execution_count": 142,
   "id": "unique-abraham",
   "metadata": {},
   "outputs": [],
   "source": [
    "Flipkart = pd.DataFrame({})\n",
    "Flipkart['Brand'] = Brand[:100]\n",
    "Flipkart['Product Description'] = Product_Description[:100]\n",
    "Flipkart['Price'] = Price[:100]\n",
    "Flipkart['Discount'] = Discount[:100]"
   ]
  },
  {
   "cell_type": "code",
   "execution_count": 143,
   "id": "ceramic-airline",
   "metadata": {},
   "outputs": [
    {
     "data": {
      "text/html": [
       "<div>\n",
       "<style scoped>\n",
       "    .dataframe tbody tr th:only-of-type {\n",
       "        vertical-align: middle;\n",
       "    }\n",
       "\n",
       "    .dataframe tbody tr th {\n",
       "        vertical-align: top;\n",
       "    }\n",
       "\n",
       "    .dataframe thead th {\n",
       "        text-align: right;\n",
       "    }\n",
       "</style>\n",
       "<table border=\"1\" class=\"dataframe\">\n",
       "  <thead>\n",
       "    <tr style=\"text-align: right;\">\n",
       "      <th></th>\n",
       "      <th>Brand</th>\n",
       "      <th>Product Description</th>\n",
       "      <th>Price</th>\n",
       "      <th>Discount</th>\n",
       "    </tr>\n",
       "  </thead>\n",
       "  <tbody>\n",
       "    <tr>\n",
       "      <th>0</th>\n",
       "      <td>aadi</td>\n",
       "      <td>Sneakers For Men</td>\n",
       "      <td>₹367</td>\n",
       "      <td>63% off</td>\n",
       "    </tr>\n",
       "    <tr>\n",
       "      <th>1</th>\n",
       "      <td>BRUTON</td>\n",
       "      <td>Men Sports Sneakers For Men</td>\n",
       "      <td>₹299</td>\n",
       "      <td>76% off</td>\n",
       "    </tr>\n",
       "    <tr>\n",
       "      <th>2</th>\n",
       "      <td>Robbie jones</td>\n",
       "      <td>Casual Sneakers Shoes For Men Sneakers For Men</td>\n",
       "      <td>₹379</td>\n",
       "      <td>62% off</td>\n",
       "    </tr>\n",
       "    <tr>\n",
       "      <th>3</th>\n",
       "      <td>Wika</td>\n",
       "      <td>Sneakers For Men</td>\n",
       "      <td>₹449</td>\n",
       "      <td>55% off</td>\n",
       "    </tr>\n",
       "    <tr>\n",
       "      <th>4</th>\n",
       "      <td>Numenzo</td>\n",
       "      <td>Sneakers For Men</td>\n",
       "      <td>₹399</td>\n",
       "      <td>60% off</td>\n",
       "    </tr>\n",
       "    <tr>\n",
       "      <th>...</th>\n",
       "      <td>...</td>\n",
       "      <td>...</td>\n",
       "      <td>...</td>\n",
       "      <td>...</td>\n",
       "    </tr>\n",
       "    <tr>\n",
       "      <th>95</th>\n",
       "      <td>Deals4you</td>\n",
       "      <td>White Sneaker For Men's/Boy's Sneakers For Men...</td>\n",
       "      <td>₹359</td>\n",
       "      <td>50% off</td>\n",
       "    </tr>\n",
       "    <tr>\n",
       "      <th>96</th>\n",
       "      <td>Red Rose</td>\n",
       "      <td>Sneakers For Men</td>\n",
       "      <td>₹499</td>\n",
       "      <td>63% off</td>\n",
       "    </tr>\n",
       "    <tr>\n",
       "      <th>97</th>\n",
       "      <td>PUMA</td>\n",
       "      <td>Icon IDP Sneakers For Men</td>\n",
       "      <td>₹1,220</td>\n",
       "      <td>40% off</td>\n",
       "    </tr>\n",
       "    <tr>\n",
       "      <th>98</th>\n",
       "      <td>HOTSTYLE</td>\n",
       "      <td>Sneakers Sneakers For Men</td>\n",
       "      <td>₹299</td>\n",
       "      <td>59% off</td>\n",
       "    </tr>\n",
       "    <tr>\n",
       "      <th>99</th>\n",
       "      <td>DUCATI</td>\n",
       "      <td>Sneakers For Men</td>\n",
       "      <td>₹1,461</td>\n",
       "      <td>36% off</td>\n",
       "    </tr>\n",
       "  </tbody>\n",
       "</table>\n",
       "<p>100 rows × 4 columns</p>\n",
       "</div>"
      ],
      "text/plain": [
       "           Brand                                Product Description   Price  \\\n",
       "0           aadi                                   Sneakers For Men    ₹367   \n",
       "1         BRUTON                        Men Sports Sneakers For Men    ₹299   \n",
       "2   Robbie jones     Casual Sneakers Shoes For Men Sneakers For Men    ₹379   \n",
       "3           Wika                                   Sneakers For Men    ₹449   \n",
       "4        Numenzo                                   Sneakers For Men    ₹399   \n",
       "..           ...                                                ...     ...   \n",
       "95     Deals4you  White Sneaker For Men's/Boy's Sneakers For Men...    ₹359   \n",
       "96      Red Rose                                   Sneakers For Men    ₹499   \n",
       "97          PUMA                          Icon IDP Sneakers For Men  ₹1,220   \n",
       "98      HOTSTYLE                          Sneakers Sneakers For Men    ₹299   \n",
       "99        DUCATI                                   Sneakers For Men  ₹1,461   \n",
       "\n",
       "   Discount  \n",
       "0   63% off  \n",
       "1   76% off  \n",
       "2   62% off  \n",
       "3   55% off  \n",
       "4   60% off  \n",
       "..      ...  \n",
       "95  50% off  \n",
       "96  63% off  \n",
       "97  40% off  \n",
       "98  59% off  \n",
       "99  36% off  \n",
       "\n",
       "[100 rows x 4 columns]"
      ]
     },
     "execution_count": 143,
     "metadata": {},
     "output_type": "execute_result"
    }
   ],
   "source": [
    "Flipkart"
   ]
  },
  {
   "cell_type": "markdown",
   "id": "grateful-mexico",
   "metadata": {},
   "source": [
    "# Q9"
   ]
  },
  {
   "cell_type": "code",
   "execution_count": 144,
   "id": "alert-patio",
   "metadata": {},
   "outputs": [],
   "source": [
    "url = ('https://www.myntra.com/shoes')\n",
    "driver.get(url)\n",
    "time.sleep(5)"
   ]
  },
  {
   "cell_type": "code",
   "execution_count": 145,
   "id": "upset-adaptation",
   "metadata": {},
   "outputs": [],
   "source": [
    "colorcheck = driver.find_element_by_xpath(\"//span[@data-colorhex = 'black']\")\n",
    "colorcheck.click()\n",
    "time.sleep(5)"
   ]
  },
  {
   "cell_type": "code",
   "execution_count": 146,
   "id": "square-spelling",
   "metadata": {},
   "outputs": [],
   "source": [
    "pricelimit = driver.find_element_by_xpath(\"//ul[@class = 'price-list']/li[2]\")\n",
    "pricelimit.click()\n",
    "time.sleep(5)"
   ]
  },
  {
   "cell_type": "markdown",
   "id": "graphic-image",
   "metadata": {},
   "source": [
    "    To Exract: \n",
    "\n",
    "        Brand\n",
    "        Shoe Description\n",
    "        Price\n",
    "\n",
    "    And move to the next page"
   ]
  },
  {
   "cell_type": "code",
   "execution_count": 147,
   "id": "weighted-celtic",
   "metadata": {},
   "outputs": [],
   "source": [
    "Brand = []\n",
    "Shoe_Description = []\n",
    "Price = []\n",
    "for i in range(0,2):\n",
    "    \n",
    "    # Fetching the Brand name\n",
    "    brand = driver.find_elements_by_xpath(\"//h3[@class = 'product-brand']\")\n",
    "    for i in brand:\n",
    "        Brand.append(i.text)\n",
    "        \n",
    "    # Fetching the Shoe Description\n",
    "    descr = driver.find_elements_by_xpath(\"//div[@class = 'product-productMetaInfo']/h4[1]\")\n",
    "    for i in descr:\n",
    "        Shoe_Description.append(i.text)\n",
    "\n",
    "    # Fetching the Price\n",
    "    price = driver.find_elements_by_xpath(\"//div[@class = 'product-price']\")\n",
    "    for i in price:\n",
    "        Price.append(i.text)\n",
    "        \n",
    "    # Moving to the next page\n",
    "    nextpage = driver.find_element_by_xpath(\"//li[@class = 'pagination-next']/a\")\n",
    "    nextpage.click()\n",
    "    time.sleep(3)"
   ]
  },
  {
   "cell_type": "code",
   "execution_count": 148,
   "id": "reserved-jewel",
   "metadata": {},
   "outputs": [
    {
     "name": "stdout",
     "output_type": "stream",
     "text": [
      "100 100 100\n"
     ]
    }
   ],
   "source": [
    "print(len(Brand), len(Shoe_Description), len(Price))"
   ]
  },
  {
   "cell_type": "code",
   "execution_count": 149,
   "id": "better-andrews",
   "metadata": {},
   "outputs": [],
   "source": [
    "Myntra = pd.DataFrame({})\n",
    "Myntra['Brand'] = Brand[:100]\n",
    "Myntra['Shoe Description'] = Shoe_Description[:100]\n",
    "Myntra['Price'] = Price[:100]"
   ]
  },
  {
   "cell_type": "code",
   "execution_count": 150,
   "id": "perfect-spectacular",
   "metadata": {},
   "outputs": [
    {
     "data": {
      "text/html": [
       "<div>\n",
       "<style scoped>\n",
       "    .dataframe tbody tr th:only-of-type {\n",
       "        vertical-align: middle;\n",
       "    }\n",
       "\n",
       "    .dataframe tbody tr th {\n",
       "        vertical-align: top;\n",
       "    }\n",
       "\n",
       "    .dataframe thead th {\n",
       "        text-align: right;\n",
       "    }\n",
       "</style>\n",
       "<table border=\"1\" class=\"dataframe\">\n",
       "  <thead>\n",
       "    <tr style=\"text-align: right;\">\n",
       "      <th></th>\n",
       "      <th>Brand</th>\n",
       "      <th>Shoe Description</th>\n",
       "      <th>Price</th>\n",
       "    </tr>\n",
       "  </thead>\n",
       "  <tbody>\n",
       "    <tr>\n",
       "      <th>0</th>\n",
       "      <td>ALDO</td>\n",
       "      <td>Men Sneakers</td>\n",
       "      <td>Rs. 9999</td>\n",
       "    </tr>\n",
       "    <tr>\n",
       "      <th>1</th>\n",
       "      <td>Nike</td>\n",
       "      <td>Men KD13 EP Basketball Shoes</td>\n",
       "      <td>Rs. 12995</td>\n",
       "    </tr>\n",
       "    <tr>\n",
       "      <th>2</th>\n",
       "      <td>Nike</td>\n",
       "      <td>Men JORDAN DELTA Basketball</td>\n",
       "      <td>Rs. 12495</td>\n",
       "    </tr>\n",
       "    <tr>\n",
       "      <th>3</th>\n",
       "      <td>ALDO</td>\n",
       "      <td>Men Textured Sneakers</td>\n",
       "      <td>Rs. 7199Rs. 8999(20% OFF)</td>\n",
       "    </tr>\n",
       "    <tr>\n",
       "      <th>4</th>\n",
       "      <td>Nike</td>\n",
       "      <td>Men REACT MILER Running Shoes</td>\n",
       "      <td>Rs. 8796Rs. 10995(20% OFF)</td>\n",
       "    </tr>\n",
       "    <tr>\n",
       "      <th>...</th>\n",
       "      <td>...</td>\n",
       "      <td>...</td>\n",
       "      <td>...</td>\n",
       "    </tr>\n",
       "    <tr>\n",
       "      <th>95</th>\n",
       "      <td>Geox</td>\n",
       "      <td>Men Leather Formal Oxfords</td>\n",
       "      <td>Rs. 7867Rs. 10490(25% OFF)</td>\n",
       "    </tr>\n",
       "    <tr>\n",
       "      <th>96</th>\n",
       "      <td>Reebok</td>\n",
       "      <td>Men Nano X1 Training Shoes</td>\n",
       "      <td>Rs. 7499Rs. 9999(25% OFF)</td>\n",
       "    </tr>\n",
       "    <tr>\n",
       "      <th>97</th>\n",
       "      <td>ALDO</td>\n",
       "      <td>Women Sneakers</td>\n",
       "      <td>Rs. 11999</td>\n",
       "    </tr>\n",
       "    <tr>\n",
       "      <th>98</th>\n",
       "      <td>Nike</td>\n",
       "      <td>Men REACT MILER 2 Running</td>\n",
       "      <td>Rs. 9770Rs. 11495(15% OFF)</td>\n",
       "    </tr>\n",
       "    <tr>\n",
       "      <th>99</th>\n",
       "      <td>Nike</td>\n",
       "      <td>Men REACT INFINITY RUN Shoes</td>\n",
       "      <td>Rs. 12320Rs. 14495(15% OFF)</td>\n",
       "    </tr>\n",
       "  </tbody>\n",
       "</table>\n",
       "<p>100 rows × 3 columns</p>\n",
       "</div>"
      ],
      "text/plain": [
       "     Brand               Shoe Description                        Price\n",
       "0     ALDO                   Men Sneakers                     Rs. 9999\n",
       "1     Nike   Men KD13 EP Basketball Shoes                    Rs. 12995\n",
       "2     Nike    Men JORDAN DELTA Basketball                    Rs. 12495\n",
       "3     ALDO          Men Textured Sneakers    Rs. 7199Rs. 8999(20% OFF)\n",
       "4     Nike  Men REACT MILER Running Shoes   Rs. 8796Rs. 10995(20% OFF)\n",
       "..     ...                            ...                          ...\n",
       "95    Geox     Men Leather Formal Oxfords   Rs. 7867Rs. 10490(25% OFF)\n",
       "96  Reebok     Men Nano X1 Training Shoes    Rs. 7499Rs. 9999(25% OFF)\n",
       "97    ALDO                 Women Sneakers                    Rs. 11999\n",
       "98    Nike      Men REACT MILER 2 Running   Rs. 9770Rs. 11495(15% OFF)\n",
       "99    Nike   Men REACT INFINITY RUN Shoes  Rs. 12320Rs. 14495(15% OFF)\n",
       "\n",
       "[100 rows x 3 columns]"
      ]
     },
     "execution_count": 150,
     "metadata": {},
     "output_type": "execute_result"
    }
   ],
   "source": [
    "Myntra"
   ]
  },
  {
   "cell_type": "markdown",
   "id": "similar-prospect",
   "metadata": {},
   "source": [
    "# Q10"
   ]
  },
  {
   "cell_type": "code",
   "execution_count": 151,
   "id": "incredible-anchor",
   "metadata": {},
   "outputs": [],
   "source": [
    "url = ('https://www.amazon.in/')\n",
    "driver.get(url)"
   ]
  },
  {
   "cell_type": "code",
   "execution_count": 152,
   "id": "opened-catering",
   "metadata": {},
   "outputs": [],
   "source": [
    "searchbar = driver.find_element_by_id('twotabsearchtextbox')\n",
    "searchbar.click()"
   ]
  },
  {
   "cell_type": "code",
   "execution_count": 153,
   "id": "boring-eligibility",
   "metadata": {},
   "outputs": [],
   "source": [
    "searchbar.send_keys('Laptop')"
   ]
  },
  {
   "cell_type": "code",
   "execution_count": 154,
   "id": "weekly-following",
   "metadata": {},
   "outputs": [],
   "source": [
    "searchbutton = driver.find_element_by_id('nav-search-submit-button')\n",
    "searchbutton.click()\n",
    "time.sleep(5)"
   ]
  },
  {
   "cell_type": "code",
   "execution_count": 155,
   "id": "ancient-communications",
   "metadata": {},
   "outputs": [],
   "source": [
    "filters = driver.find_elements_by_xpath(\"//a[@class = 'a-link-normal s-navigation-item']//span\")\n",
    "for i in filters:\n",
    "    if i.text =='Intel Core i7':\n",
    "        i.click()\n",
    "        break"
   ]
  },
  {
   "cell_type": "code",
   "execution_count": 156,
   "id": "oriental-transmission",
   "metadata": {},
   "outputs": [],
   "source": [
    "i7_Title = []\n",
    "#i7_Rating = []\n",
    "i7_Price = []\n",
    "\n",
    "# Extracting the Title\n",
    "title = driver.find_elements_by_xpath(\"//span[@class = 'a-size-medium a-color-base a-text-normal']\")\n",
    "for i in title:\n",
    "    i7_Title.append(i.text)\n",
    "        \n",
    "# Extracting the Rating\n",
    "#rating = driver.find_elements_by_xpath(\"//span[@class = 'a-icon-alt']\")\n",
    "#for j in rating:\n",
    "#    i7_Rating.append(j.text)\n",
    "        \n",
    "# Extracting the Price\n",
    "price = driver.find_elements_by_xpath(\"//span[@class = 'a-price-whole']\")\n",
    "for k in price:\n",
    "    i7_Price.append(k.text)"
   ]
  },
  {
   "cell_type": "code",
   "execution_count": 160,
   "id": "incorporated-arbor",
   "metadata": {},
   "outputs": [],
   "source": [
    "i7_Amazon = pd.DataFrame({})\n",
    "i7_Amazon['Title'] = i7_Title[:5]\n",
    "#i7_Amazon['Rating'] = i7_Rating[:5]\n",
    "i7_Amazon['Price'] = i7_Price[:5]"
   ]
  },
  {
   "cell_type": "code",
   "execution_count": 161,
   "id": "spatial-burton",
   "metadata": {
    "scrolled": true
   },
   "outputs": [
    {
     "data": {
      "text/html": [
       "<div>\n",
       "<style scoped>\n",
       "    .dataframe tbody tr th:only-of-type {\n",
       "        vertical-align: middle;\n",
       "    }\n",
       "\n",
       "    .dataframe tbody tr th {\n",
       "        vertical-align: top;\n",
       "    }\n",
       "\n",
       "    .dataframe thead th {\n",
       "        text-align: right;\n",
       "    }\n",
       "</style>\n",
       "<table border=\"1\" class=\"dataframe\">\n",
       "  <thead>\n",
       "    <tr style=\"text-align: right;\">\n",
       "      <th></th>\n",
       "      <th>Title</th>\n",
       "      <th>Price</th>\n",
       "    </tr>\n",
       "  </thead>\n",
       "  <tbody>\n",
       "    <tr>\n",
       "      <th>0</th>\n",
       "      <td>Lenovo IdeaPad Flex 5 11th Gen Intel Core i7 1...</td>\n",
       "      <td>83,990</td>\n",
       "    </tr>\n",
       "    <tr>\n",
       "      <th>1</th>\n",
       "      <td>Lenovo Yoga Slim 7 10th Gen Intel Core i7 14 i...</td>\n",
       "      <td>83,990</td>\n",
       "    </tr>\n",
       "    <tr>\n",
       "      <th>2</th>\n",
       "      <td>Lenovo Yoga Slim 7i 11th Gen Intel Core i7 14\"...</td>\n",
       "      <td>97,990</td>\n",
       "    </tr>\n",
       "    <tr>\n",
       "      <th>3</th>\n",
       "      <td>HP Pavilion (2021) Thin &amp; Light 11th Gen Core ...</td>\n",
       "      <td>79,990</td>\n",
       "    </tr>\n",
       "    <tr>\n",
       "      <th>4</th>\n",
       "      <td>Mi Notebook Horizon Edition 14 Intel Core i5-1...</td>\n",
       "      <td>49,999</td>\n",
       "    </tr>\n",
       "  </tbody>\n",
       "</table>\n",
       "</div>"
      ],
      "text/plain": [
       "                                               Title   Price\n",
       "0  Lenovo IdeaPad Flex 5 11th Gen Intel Core i7 1...  83,990\n",
       "1  Lenovo Yoga Slim 7 10th Gen Intel Core i7 14 i...  83,990\n",
       "2  Lenovo Yoga Slim 7i 11th Gen Intel Core i7 14\"...  97,990\n",
       "3  HP Pavilion (2021) Thin & Light 11th Gen Core ...  79,990\n",
       "4  Mi Notebook Horizon Edition 14 Intel Core i5-1...  49,999"
      ]
     },
     "execution_count": 161,
     "metadata": {},
     "output_type": "execute_result"
    }
   ],
   "source": [
    "i7_Amazon"
   ]
  },
  {
   "cell_type": "code",
   "execution_count": 162,
   "id": "frank-sculpture",
   "metadata": {},
   "outputs": [],
   "source": [
    "# Clearing the i7 filter\n",
    "clearfilter = driver.find_element_by_xpath(\"//a[@class = 'a-link-normal s-navigation-item s-navigation-clear-link']\")\n",
    "clearfilter.click()\n",
    "time.sleep(5)"
   ]
  },
  {
   "cell_type": "code",
   "execution_count": 163,
   "id": "thrown-control",
   "metadata": {},
   "outputs": [],
   "source": [
    "filter_i9 = driver.find_elements_by_xpath(\"//a[@class = 'a-link-normal s-navigation-item']//span\")\n",
    "for i in filter_i9:\n",
    "    if i.text=='Intel Core i9':\n",
    "        i.click()\n",
    "        break\n",
    "time.sleep(5)"
   ]
  },
  {
   "cell_type": "code",
   "execution_count": 164,
   "id": "colonial-freedom",
   "metadata": {},
   "outputs": [],
   "source": [
    "i9_Title = []\n",
    "#i9_Rating = []\n",
    "i9_Price = []\n",
    "\n",
    "# Extracting the Title\n",
    "title = driver.find_elements_by_xpath(\"//span[@class = 'a-size-medium a-color-base a-text-normal']\")\n",
    "for i in title:\n",
    "    i9_Title.append(i.text)\n",
    "        \n",
    "# Extracting the Rating\n",
    "#rating = driver.find_elements_by_xpath(\"//span[@class = 'a-icon-alt']\")\n",
    "#for j in rating:\n",
    "#    i9_Rating.append(j.text)\n",
    "        \n",
    "# Extracting the Price\n",
    "try:\n",
    "    price = driver.find_elements_by_xpath(\"//span[@class = 'a-price-whole']\")\n",
    "    for k in price:\n",
    "        i9_Price.append(k.text)\n",
    "except:\n",
    "    i9_Price.append('-')"
   ]
  },
  {
   "cell_type": "code",
   "execution_count": 165,
   "id": "outdoor-ecology",
   "metadata": {},
   "outputs": [],
   "source": [
    "i9_Amazon = pd.DataFrame({})\n",
    "i9_Amazon['Title'] = i9_Title[:5]\n",
    "#i9_Amazon['Rating'] = i9_Rating[:5]\n",
    "i9_Amazon['Price'] = i9_Price[:5]"
   ]
  },
  {
   "cell_type": "code",
   "execution_count": 166,
   "id": "brown-check",
   "metadata": {},
   "outputs": [
    {
     "data": {
      "text/html": [
       "<div>\n",
       "<style scoped>\n",
       "    .dataframe tbody tr th:only-of-type {\n",
       "        vertical-align: middle;\n",
       "    }\n",
       "\n",
       "    .dataframe tbody tr th {\n",
       "        vertical-align: top;\n",
       "    }\n",
       "\n",
       "    .dataframe thead th {\n",
       "        text-align: right;\n",
       "    }\n",
       "</style>\n",
       "<table border=\"1\" class=\"dataframe\">\n",
       "  <thead>\n",
       "    <tr style=\"text-align: right;\">\n",
       "      <th></th>\n",
       "      <th>Title</th>\n",
       "      <th>Price</th>\n",
       "    </tr>\n",
       "  </thead>\n",
       "  <tbody>\n",
       "    <tr>\n",
       "      <th>0</th>\n",
       "      <td>ASUS ROG Zephyrus Duo 15, 15.6\" FHD 300Hz/3ms,...</td>\n",
       "      <td>2,66,990</td>\n",
       "    </tr>\n",
       "    <tr>\n",
       "      <th>1</th>\n",
       "      <td>Dell XPS 9570 15.6\" (39.62cms) UHD Laptop (8th...</td>\n",
       "      <td>2,48,790</td>\n",
       "    </tr>\n",
       "    <tr>\n",
       "      <th>2</th>\n",
       "      <td>ASUS ZenBook Pro Duo Intel Core i9-10980HK 10t...</td>\n",
       "      <td>2,99,999</td>\n",
       "    </tr>\n",
       "    <tr>\n",
       "      <th>3</th>\n",
       "      <td>Dell G7 7500 15.6inch FHD 300 Hz Display Gamin...</td>\n",
       "      <td>2,00,690</td>\n",
       "    </tr>\n",
       "    <tr>\n",
       "      <th>4</th>\n",
       "      <td>Dell Alienware m15(R3) 15.6\" (39.62cms) UHD Ga...</td>\n",
       "      <td>3,19,990</td>\n",
       "    </tr>\n",
       "  </tbody>\n",
       "</table>\n",
       "</div>"
      ],
      "text/plain": [
       "                                               Title     Price\n",
       "0  ASUS ROG Zephyrus Duo 15, 15.6\" FHD 300Hz/3ms,...  2,66,990\n",
       "1  Dell XPS 9570 15.6\" (39.62cms) UHD Laptop (8th...  2,48,790\n",
       "2  ASUS ZenBook Pro Duo Intel Core i9-10980HK 10t...  2,99,999\n",
       "3  Dell G7 7500 15.6inch FHD 300 Hz Display Gamin...  2,00,690\n",
       "4  Dell Alienware m15(R3) 15.6\" (39.62cms) UHD Ga...  3,19,990"
      ]
     },
     "execution_count": 166,
     "metadata": {},
     "output_type": "execute_result"
    }
   ],
   "source": [
    "i9_Amazon"
   ]
  },
  {
   "cell_type": "code",
   "execution_count": 167,
   "id": "sunset-particular",
   "metadata": {},
   "outputs": [
    {
     "data": {
      "text/html": [
       "<div>\n",
       "<style scoped>\n",
       "    .dataframe tbody tr th:only-of-type {\n",
       "        vertical-align: middle;\n",
       "    }\n",
       "\n",
       "    .dataframe tbody tr th {\n",
       "        vertical-align: top;\n",
       "    }\n",
       "\n",
       "    .dataframe thead th {\n",
       "        text-align: right;\n",
       "    }\n",
       "</style>\n",
       "<table border=\"1\" class=\"dataframe\">\n",
       "  <thead>\n",
       "    <tr style=\"text-align: right;\">\n",
       "      <th></th>\n",
       "      <th>Title</th>\n",
       "      <th>Price</th>\n",
       "    </tr>\n",
       "  </thead>\n",
       "  <tbody>\n",
       "    <tr>\n",
       "      <th>0</th>\n",
       "      <td>ASUS ROG Zephyrus Duo 15, 15.6\" FHD 300Hz/3ms,...</td>\n",
       "      <td>2,66,990</td>\n",
       "    </tr>\n",
       "    <tr>\n",
       "      <th>1</th>\n",
       "      <td>Dell XPS 9570 15.6\" (39.62cms) UHD Laptop (8th...</td>\n",
       "      <td>2,48,790</td>\n",
       "    </tr>\n",
       "    <tr>\n",
       "      <th>2</th>\n",
       "      <td>ASUS ZenBook Pro Duo Intel Core i9-10980HK 10t...</td>\n",
       "      <td>2,99,999</td>\n",
       "    </tr>\n",
       "    <tr>\n",
       "      <th>3</th>\n",
       "      <td>Dell G7 7500 15.6inch FHD 300 Hz Display Gamin...</td>\n",
       "      <td>2,00,690</td>\n",
       "    </tr>\n",
       "    <tr>\n",
       "      <th>4</th>\n",
       "      <td>Dell Alienware m15(R3) 15.6\" (39.62cms) UHD Ga...</td>\n",
       "      <td>3,19,990</td>\n",
       "    </tr>\n",
       "    <tr>\n",
       "      <th>0</th>\n",
       "      <td>Lenovo IdeaPad Flex 5 11th Gen Intel Core i7 1...</td>\n",
       "      <td>83,990</td>\n",
       "    </tr>\n",
       "    <tr>\n",
       "      <th>1</th>\n",
       "      <td>Lenovo Yoga Slim 7 10th Gen Intel Core i7 14 i...</td>\n",
       "      <td>83,990</td>\n",
       "    </tr>\n",
       "    <tr>\n",
       "      <th>2</th>\n",
       "      <td>Lenovo Yoga Slim 7i 11th Gen Intel Core i7 14\"...</td>\n",
       "      <td>97,990</td>\n",
       "    </tr>\n",
       "    <tr>\n",
       "      <th>3</th>\n",
       "      <td>HP Pavilion (2021) Thin &amp; Light 11th Gen Core ...</td>\n",
       "      <td>79,990</td>\n",
       "    </tr>\n",
       "    <tr>\n",
       "      <th>4</th>\n",
       "      <td>Mi Notebook Horizon Edition 14 Intel Core i5-1...</td>\n",
       "      <td>49,999</td>\n",
       "    </tr>\n",
       "  </tbody>\n",
       "</table>\n",
       "</div>"
      ],
      "text/plain": [
       "                                               Title     Price\n",
       "0  ASUS ROG Zephyrus Duo 15, 15.6\" FHD 300Hz/3ms,...  2,66,990\n",
       "1  Dell XPS 9570 15.6\" (39.62cms) UHD Laptop (8th...  2,48,790\n",
       "2  ASUS ZenBook Pro Duo Intel Core i9-10980HK 10t...  2,99,999\n",
       "3  Dell G7 7500 15.6inch FHD 300 Hz Display Gamin...  2,00,690\n",
       "4  Dell Alienware m15(R3) 15.6\" (39.62cms) UHD Ga...  3,19,990\n",
       "0  Lenovo IdeaPad Flex 5 11th Gen Intel Core i7 1...    83,990\n",
       "1  Lenovo Yoga Slim 7 10th Gen Intel Core i7 14 i...    83,990\n",
       "2  Lenovo Yoga Slim 7i 11th Gen Intel Core i7 14\"...    97,990\n",
       "3  HP Pavilion (2021) Thin & Light 11th Gen Core ...    79,990\n",
       "4  Mi Notebook Horizon Edition 14 Intel Core i5-1...    49,999"
      ]
     },
     "execution_count": 167,
     "metadata": {},
     "output_type": "execute_result"
    }
   ],
   "source": [
    "join = (i9_Amazon, i7_Amazon)\n",
    "pd.concat(join)"
   ]
  },
  {
   "cell_type": "code",
   "execution_count": null,
   "id": "southern-guide",
   "metadata": {},
   "outputs": [],
   "source": []
  }
 ],
 "metadata": {
  "kernelspec": {
   "display_name": "Python 3",
   "language": "python",
   "name": "python3"
  },
  "language_info": {
   "codemirror_mode": {
    "name": "ipython",
    "version": 3
   },
   "file_extension": ".py",
   "mimetype": "text/x-python",
   "name": "python",
   "nbconvert_exporter": "python",
   "pygments_lexer": "ipython3",
   "version": "3.8.8"
  }
 },
 "nbformat": 4,
 "nbformat_minor": 5
}
